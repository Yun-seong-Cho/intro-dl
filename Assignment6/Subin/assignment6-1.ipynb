{
  "nbformat": 4,
  "nbformat_minor": 0,
  "metadata": {
    "colab": {
      "provenance": []
    },
    "kernelspec": {
      "name": "python3",
      "display_name": "Python 3"
    },
    "language_info": {
      "name": "python"
    }
  },
  "cells": [
    {
      "cell_type": "markdown",
      "source": [
        "## 1. Multi-class Classification w/ Custom ResNet model\n",
        "*     Dataset: CIFAR10\n",
        "\n"
      ],
      "metadata": {
        "id": "qM2kM5G7BYZr"
      }
    },
    {
      "cell_type": "markdown",
      "source": [
        "*    Reference. https://github.com/Justin-A/DeepLearning101/blob/master/4-4_CIFAR_ResNet.ipynb"
      ],
      "metadata": {
        "id": "l-eq03krP21I"
      }
    },
    {
      "cell_type": "code",
      "source": [
        "import numpy as np\n",
        "import matplotlib.pyplot as plt\n",
        "\n",
        "import torch\n",
        "import torch.nn as nn\n",
        "import torch.nn.functional as F\n",
        "from torchvision import transforms, datasets"
      ],
      "metadata": {
        "id": "Q7_JWyTWKoyT"
      },
      "execution_count": 1,
      "outputs": []
    },
    {
      "cell_type": "code",
      "source": [
        "# 런타임 - 런타임 유형 변경 - T4 GPU\n",
        "if torch.cuda.is_available():\n",
        "    DEVICE = torch.device('cuda')\n",
        "else:\n",
        "    DEVICE = torch.device('cpu')\n",
        "print('Using PyTorch version:', torch.__version__, ' Device:', DEVICE)"
      ],
      "metadata": {
        "id": "k6bdnbKmK-ZC",
        "colab": {
          "base_uri": "https://localhost:8080/"
        },
        "outputId": "219aad1b-9e73-45e3-ce05-274f4b5b9ab4"
      },
      "execution_count": 2,
      "outputs": [
        {
          "output_type": "stream",
          "name": "stdout",
          "text": [
            "Using PyTorch version: 2.1.0+cu121  Device: cpu\n"
          ]
        }
      ]
    },
    {
      "cell_type": "code",
      "source": [
        "BATCH_SIZE = 32\n",
        "EPOCHS = 10"
      ],
      "metadata": {
        "id": "mh9UvwnlK-3G"
      },
      "execution_count": 3,
      "outputs": []
    },
    {
      "cell_type": "code",
      "source": [
        "train_dataset = datasets.CIFAR10(root = \"../data/CIFAR_10\",\n",
        "                                  train = True,\n",
        "                                  download = True,\n",
        "                                  transform = transforms.Compose([\n",
        "                                    transforms.RandomHorizontalFlip(),\n",
        "                                    transforms.ToTensor(),\n",
        "                                    transforms.Normalize((0.5, 0.5, 0.5), (0.5, 0.5, 0.5))]))\n",
        "\n",
        "test_dataset = datasets.CIFAR10(root = \"../data/CIFAR_10\",\n",
        "                                train = False,\n",
        "                                transform = transforms.Compose([\n",
        "                                    transforms.RandomHorizontalFlip(),\n",
        "                                    transforms.ToTensor(),\n",
        "                                    transforms.Normalize((0.5, 0.5, 0.5), (0.5, 0.5, 0.5))]))\n",
        "\n",
        "train_loader = torch.utils.data.DataLoader(dataset = train_dataset,\n",
        "                                            batch_size = BATCH_SIZE,\n",
        "                                            shuffle = True)\n",
        "\n",
        "test_loader = torch.utils.data.DataLoader(dataset = test_dataset,\n",
        "                                          batch_size = BATCH_SIZE,\n",
        "                                          shuffle = False)\n"
      ],
      "metadata": {
        "id": "isXUeFmHBGor",
        "colab": {
          "base_uri": "https://localhost:8080/"
        },
        "outputId": "acd3037d-521f-403c-d6be-fa44510c5183"
      },
      "execution_count": 4,
      "outputs": [
        {
          "output_type": "stream",
          "name": "stdout",
          "text": [
            "Downloading https://www.cs.toronto.edu/~kriz/cifar-10-python.tar.gz to ../data/CIFAR_10/cifar-10-python.tar.gz\n"
          ]
        },
        {
          "output_type": "stream",
          "name": "stderr",
          "text": [
            "100%|██████████| 170498071/170498071 [00:03<00:00, 43398241.76it/s]\n"
          ]
        },
        {
          "output_type": "stream",
          "name": "stdout",
          "text": [
            "Extracting ../data/CIFAR_10/cifar-10-python.tar.gz to ../data/CIFAR_10\n"
          ]
        }
      ]
    },
    {
      "cell_type": "code",
      "source": [
        "for (X_train, y_train) in train_loader:\n",
        "    print('X_train:', X_train.size(), 'type:', X_train.type())\n",
        "    print('y_train:', y_train.size(), 'type:', y_train.type())\n",
        "    break"
      ],
      "metadata": {
        "id": "FYFib1SbBGvZ",
        "colab": {
          "base_uri": "https://localhost:8080/"
        },
        "outputId": "c4584880-d339-4d32-f7ca-f1b67cec9b12"
      },
      "execution_count": 5,
      "outputs": [
        {
          "output_type": "stream",
          "name": "stdout",
          "text": [
            "X_train: torch.Size([32, 3, 32, 32]) type: torch.FloatTensor\n",
            "y_train: torch.Size([32]) type: torch.LongTensor\n"
          ]
        }
      ]
    },
    {
      "cell_type": "code",
      "source": [
        "pltsize = 1\n",
        "plt.figure(figsize=(10 * pltsize, pltsize))\n",
        "\n",
        "for i in range(10):\n",
        "    plt.subplot(1, 10, i + 1)\n",
        "    plt.axis('off')\n",
        "    plt.imshow(np.transpose(X_train[i], (1, 2, 0)))\n",
        "    plt.title('Class: ' + str(y_train[i].item()))"
      ],
      "metadata": {
        "id": "i6M1yW2dBG1K",
        "colab": {
          "base_uri": "https://localhost:8080/",
          "height": 304
        },
        "outputId": "47913e76-8eef-4574-c36b-956de09ba3b6"
      },
      "execution_count": 6,
      "outputs": [
        {
          "output_type": "stream",
          "name": "stderr",
          "text": [
            "WARNING:matplotlib.image:Clipping input data to the valid range for imshow with RGB data ([0..1] for floats or [0..255] for integers).\n",
            "WARNING:matplotlib.image:Clipping input data to the valid range for imshow with RGB data ([0..1] for floats or [0..255] for integers).\n",
            "WARNING:matplotlib.image:Clipping input data to the valid range for imshow with RGB data ([0..1] for floats or [0..255] for integers).\n",
            "WARNING:matplotlib.image:Clipping input data to the valid range for imshow with RGB data ([0..1] for floats or [0..255] for integers).\n",
            "WARNING:matplotlib.image:Clipping input data to the valid range for imshow with RGB data ([0..1] for floats or [0..255] for integers).\n",
            "WARNING:matplotlib.image:Clipping input data to the valid range for imshow with RGB data ([0..1] for floats or [0..255] for integers).\n",
            "WARNING:matplotlib.image:Clipping input data to the valid range for imshow with RGB data ([0..1] for floats or [0..255] for integers).\n",
            "WARNING:matplotlib.image:Clipping input data to the valid range for imshow with RGB data ([0..1] for floats or [0..255] for integers).\n",
            "WARNING:matplotlib.image:Clipping input data to the valid range for imshow with RGB data ([0..1] for floats or [0..255] for integers).\n",
            "WARNING:matplotlib.image:Clipping input data to the valid range for imshow with RGB data ([0..1] for floats or [0..255] for integers).\n"
          ]
        },
        {
          "output_type": "display_data",
          "data": {
            "text/plain": [
              "<Figure size 1000x100 with 10 Axes>"
            ],
            "image/png": "[encoded data removed]"
          },
          "metadata": {}
        }
      ]
    },
    {
      "cell_type": "code",
      "source": [
        "## Question 1.\n",
        "## Building custom ResNet model\n",
        "\n",
        "class BasicBlock(nn.Module):\n",
        "    def __init__(self, in_planes, planes, stride = 1):\n",
        "      # Basic block 정의, in_planes : input channel size, planes : ouput channels size\n",
        "        super(BasicBlock, self).__init__()\n",
        "        self.conv1 = nn.Conv2d(in_planes, planes, kernel_size = 3, stride = stride, padding = 1, bias = False)\n",
        "        # 첫번째 conv layer, 3x3 convolution with padding and no bias\n",
        "        self.bn1 = nn.BatchNorm2d(planes)\n",
        "        # batch normalization layer\n",
        "        self.conv2 = nn.Conv2d(planes, planes, kernel_size = 3, stride = 1, padding = 1, bias = False)\n",
        "        # 두번째 conv layer, 3x3 convolution with fixed stride=1, padding, and no bias\n",
        "        self.bn2 = nn.BatchNorm2d(planes)\n",
        "        # batch normalization layer\n",
        "\n",
        "        self.shortcut = nn.Sequential()\n",
        "        if stride != 1 or in_planes != planes:\n",
        "          # if stride가 1이 아닐 때, 또는 input channel size와 ouput channels size가 같지 않을 때,\n",
        "            self.shortcut = nn.Sequential(\n",
        "                nn.Conv2d(in_planes, planes, kernel_size = 1, stride = stride, bias = False),\n",
        "                nn.BatchNorm2d(planes))\n",
        "            # 1x1 convolution with specific stride and no bias, and batch normalization 의 shortcut connection이 추가\n",
        "\n",
        "    def forward(self, x):\n",
        "      # Basic block의 forward pass\n",
        "        out = F.relu(self.bn1(self.conv1(x)))\n",
        "        # 첫번째 conv layer와 batch normalization 이후 activation functionc으로 ReLU를 적용\n",
        "        out = self.bn2(self.conv2(out))\n",
        "        # 전 단계의 output을 다시 input으로 하여 두번째 conv layer와 batch normalization을 적용\n",
        "        out += self.shortcut(x)\n",
        "        # shortcut connection을 적용\n",
        "        out = F.relu(out)\n",
        "        # 전 단계의 output에 ReLU를 적용\n",
        "        return out\n",
        "\n",
        "class ResNet(nn.Module):\n",
        "    def __init__(self, num_classes = 10):\n",
        "      # number of output class : 10\n",
        "        super(ResNet, self).__init__()\n",
        "        self.in_planes = 16\n",
        "        # input data channel size : 16\n",
        "        self.conv1 = nn.Conv2d(3, 16, kernel_size = 3, stride = 1, padding = 1, bias = False)\n",
        "        # 첫번째 conv layer\n",
        "        # 3x3 convolution layer with 3 input channels, 16 output channels, stride=1, padding and no bias\n",
        "        self.bn1 = nn.BatchNorm2d(16)\n",
        "        # batch normalization layer\n",
        "        self.layer1 = self._make_layer(16, 2, stride = 1)\n",
        "        # 2개의 Basic block with 16 ouput channels and tride =1\n",
        "        self.layer2 = self._make_layer(32, 2, stride = 2)\n",
        "        # 2개의 Basic block with 32 ouput channels and tride =2\n",
        "        self.layer3 = self._make_layer(64, 2, stride = 2)\n",
        "        # 2개의 Basic block with 64 ouput channels and tride =2\n",
        "        self.linear = nn.Linear(64, num_classes)\n",
        "        # linear layer with 64 input features\n",
        "\n",
        "    def _make_layer(self, planes, num_blocks, stride):\n",
        "      # 여러개의 Basic block을 하나의 모듈로 묶어준다.\n",
        "        strides = [stride] + [1] * (num_blocks  - 1)\n",
        "        # stride value = specific stride + (number of blocks -1)\n",
        "        layers = []\n",
        "        for stride in strides:\n",
        "            layers.append(BasicBlock(self.in_planes, planes, stride))\n",
        "            self.in_planes = planes\n",
        "            # in_planes를 현재의 planes로 업데이트\n",
        "        return nn.Sequential(*layers)\n",
        "\n",
        "    def forward(self, x):\n",
        "      # Resnet class의 forward pass\n",
        "        out = F.relu(self.bn1(self.conv1(x)))\n",
        "        # 첫번째 conv layer와 batch normalization 이후 activation functionc으로 ReLU를 적용\n",
        "        out = self.layer1(out)\n",
        "        # 첫번째 self.layer 적용\n",
        "        out = self.layer2(out)\n",
        "        # 두번째 self.layer 적용\n",
        "        out = self.layer3(out)\n",
        "        # 세번째 self.layer 적용\n",
        "        out = F.avg_pool2d(out, 8)\n",
        "        # average pooling with 8x8 kernel\n",
        "        out = out.view(out.size(0), -1)\n",
        "        # flatten the output data\n",
        "        out = self.linear(out)\n",
        "        # self.linear layer 적용\n",
        "        return out"
      ],
      "metadata": {
        "id": "2YS8fkBVBOu_"
      },
      "execution_count": 7,
      "outputs": []
    },
    {
      "cell_type": "markdown",
      "source": [
        "### Question 1. Explain the code above (building custom ResNet model) in detail -- line-by-line recommended"
      ],
      "metadata": {
        "id": "JtrlgMOov47e"
      }
    },
    {
      "cell_type": "code",
      "source": [
        "model = ResNet().to(DEVICE)\n",
        "optimizer = torch.optim.Adam(model.parameters(), lr = 0.001)\n",
        "criterion = nn.CrossEntropyLoss()\n",
        "\n",
        "print(model)"
      ],
      "metadata": {
        "id": "vD09VxoAptUN",
        "colab": {
          "base_uri": "https://localhost:8080/"
        },
        "outputId": "2c27e256-61da-405b-dd85-70cf31dc5b03"
      },
      "execution_count": 8,
      "outputs": [
        {
          "output_type": "stream",
          "name": "stdout",
          "text": [
            "ResNet(\n",
            "  (conv1): Conv2d(3, 16, kernel_size=(3, 3), stride=(1, 1), padding=(1, 1), bias=False)\n",
            "  (bn1): BatchNorm2d(16, eps=1e-05, momentum=0.1, affine=True, track_running_stats=True)\n",
            "  (layer1): Sequential(\n",
            "    (0): BasicBlock(\n",
            "      (conv1): Conv2d(16, 16, kernel_size=(3, 3), stride=(1, 1), padding=(1, 1), bias=False)\n",
            "      (bn1): BatchNorm2d(16, eps=1e-05, momentum=0.1, affine=True, track_running_stats=True)\n",
            "      (conv2): Conv2d(16, 16, kernel_size=(3, 3), stride=(1, 1), padding=(1, 1), bias=False)\n",
            "      (bn2): BatchNorm2d(16, eps=1e-05, momentum=0.1, affine=True, track_running_stats=True)\n",
            "      (shortcut): Sequential()\n",
            "    )\n",
            "    (1): BasicBlock(\n",
            "      (conv1): Conv2d(16, 16, kernel_size=(3, 3), stride=(1, 1), padding=(1, 1), bias=False)\n",
            "      (bn1): BatchNorm2d(16, eps=1e-05, momentum=0.1, affine=True, track_running_stats=True)\n",
            "      (conv2): Conv2d(16, 16, kernel_size=(3, 3), stride=(1, 1), padding=(1, 1), bias=False)\n",
            "      (bn2): BatchNorm2d(16, eps=1e-05, momentum=0.1, affine=True, track_running_stats=True)\n",
            "      (shortcut): Sequential()\n",
            "    )\n",
            "  )\n",
            "  (layer2): Sequential(\n",
            "    (0): BasicBlock(\n",
            "      (conv1): Conv2d(16, 32, kernel_size=(3, 3), stride=(2, 2), padding=(1, 1), bias=False)\n",
            "      (bn1): BatchNorm2d(32, eps=1e-05, momentum=0.1, affine=True, track_running_stats=True)\n",
            "      (conv2): Conv2d(32, 32, kernel_size=(3, 3), stride=(1, 1), padding=(1, 1), bias=False)\n",
            "      (bn2): BatchNorm2d(32, eps=1e-05, momentum=0.1, affine=True, track_running_stats=True)\n",
            "      (shortcut): Sequential(\n",
            "        (0): Conv2d(16, 32, kernel_size=(1, 1), stride=(2, 2), bias=False)\n",
            "        (1): BatchNorm2d(32, eps=1e-05, momentum=0.1, affine=True, track_running_stats=True)\n",
            "      )\n",
            "    )\n",
            "    (1): BasicBlock(\n",
            "      (conv1): Conv2d(32, 32, kernel_size=(3, 3), stride=(1, 1), padding=(1, 1), bias=False)\n",
            "      (bn1): BatchNorm2d(32, eps=1e-05, momentum=0.1, affine=True, track_running_stats=True)\n",
            "      (conv2): Conv2d(32, 32, kernel_size=(3, 3), stride=(1, 1), padding=(1, 1), bias=False)\n",
            "      (bn2): BatchNorm2d(32, eps=1e-05, momentum=0.1, affine=True, track_running_stats=True)\n",
            "      (shortcut): Sequential()\n",
            "    )\n",
            "  )\n",
            "  (layer3): Sequential(\n",
            "    (0): BasicBlock(\n",
            "      (conv1): Conv2d(32, 64, kernel_size=(3, 3), stride=(2, 2), padding=(1, 1), bias=False)\n",
            "      (bn1): BatchNorm2d(64, eps=1e-05, momentum=0.1, affine=True, track_running_stats=True)\n",
            "      (conv2): Conv2d(64, 64, kernel_size=(3, 3), stride=(1, 1), padding=(1, 1), bias=False)\n",
            "      (bn2): BatchNorm2d(64, eps=1e-05, momentum=0.1, affine=True, track_running_stats=True)\n",
            "      (shortcut): Sequential(\n",
            "        (0): Conv2d(32, 64, kernel_size=(1, 1), stride=(2, 2), bias=False)\n",
            "        (1): BatchNorm2d(64, eps=1e-05, momentum=0.1, affine=True, track_running_stats=True)\n",
            "      )\n",
            "    )\n",
            "    (1): BasicBlock(\n",
            "      (conv1): Conv2d(64, 64, kernel_size=(3, 3), stride=(1, 1), padding=(1, 1), bias=False)\n",
            "      (bn1): BatchNorm2d(64, eps=1e-05, momentum=0.1, affine=True, track_running_stats=True)\n",
            "      (conv2): Conv2d(64, 64, kernel_size=(3, 3), stride=(1, 1), padding=(1, 1), bias=False)\n",
            "      (bn2): BatchNorm2d(64, eps=1e-05, momentum=0.1, affine=True, track_running_stats=True)\n",
            "      (shortcut): Sequential()\n",
            "    )\n",
            "  )\n",
            "  (linear): Linear(in_features=64, out_features=10, bias=True)\n",
            ")\n"
          ]
        }
      ]
    },
    {
      "cell_type": "code",
      "source": [
        "def train(model, train_loader, optimizer, log_interval):\n",
        "    model.train()\n",
        "    for batch_idx, (image, label) in enumerate(train_loader):\n",
        "        image = image.to(DEVICE)\n",
        "        label = label.to(DEVICE)\n",
        "        optimizer.zero_grad()\n",
        "        output = model(image)\n",
        "        loss = criterion(output, label)\n",
        "        loss.backward()\n",
        "        optimizer.step()\n",
        "\n",
        "        if batch_idx % log_interval == 0:\n",
        "            print(\"Train Epoch: {} [{}/{} ({:.0f}%)]\\tTrain Loss: {:.6f}\".format(\n",
        "                epoch, batch_idx * len(image),\n",
        "                len(train_loader.dataset), 100. * batch_idx / len(train_loader),\n",
        "                loss.item()))"
      ],
      "metadata": {
        "id": "4daoEj3-ptjd"
      },
      "execution_count": 9,
      "outputs": []
    },
    {
      "cell_type": "code",
      "source": [
        "def evaluate(model, test_loader):\n",
        "    model.eval()\n",
        "    test_loss = 0\n",
        "    correct = 0\n",
        "\n",
        "    with torch.no_grad():\n",
        "        for image, label in test_loader:\n",
        "            image = image.to(DEVICE)\n",
        "            label = label.to(DEVICE)\n",
        "            output = model(image)\n",
        "            test_loss += criterion(output, label).item()\n",
        "            prediction = output.max(1, keepdim = True)[1]\n",
        "            correct += prediction.eq(label.view_as(prediction)).sum().item()\n",
        "\n",
        "    test_loss /= (len(test_loader.dataset) / BATCH_SIZE)\n",
        "    test_accuracy = 100. * correct / len(test_loader.dataset)\n",
        "    return test_loss, test_accuracy"
      ],
      "metadata": {
        "id": "_Hm7UbzGBo9A"
      },
      "execution_count": 10,
      "outputs": []
    },
    {
      "cell_type": "code",
      "source": [
        "for epoch in range(1, EPOCHS + 1):\n",
        "    train(model, train_loader, optimizer, log_interval = 200)\n",
        "    test_loss, test_accuracy = evaluate(model, test_loader)\n",
        "    print(\"\\n[EPOCH: {}], \\tTest Loss: {:.4f}, \\tTest Accuracy: {:.2f} % \\n\".format(\n",
        "        epoch, test_loss, test_accuracy))"
      ],
      "metadata": {
        "id": "spFvoP2MBpB5",
        "colab": {
          "base_uri": "https://localhost:8080/"
        },
        "outputId": "7727310f-41b2-4b9a-fec9-3f31de9986d6"
      },
      "execution_count": 11,
      "outputs": [
        {
          "output_type": "stream",
          "name": "stdout",
          "text": [
            "Train Epoch: 1 [0/50000 (0%)]\tTrain Loss: 2.425300\n",
            "Train Epoch: 1 [6400/50000 (13%)]\tTrain Loss: 1.691081\n",
            "Train Epoch: 1 [12800/50000 (26%)]\tTrain Loss: 1.367108\n",
            "Train Epoch: 1 [19200/50000 (38%)]\tTrain Loss: 1.394684\n",
            "Train Epoch: 1 [25600/50000 (51%)]\tTrain Loss: 1.179797\n",
            "Train Epoch: 1 [32000/50000 (64%)]\tTrain Loss: 1.145958\n",
            "Train Epoch: 1 [38400/50000 (77%)]\tTrain Loss: 1.432581\n",
            "Train Epoch: 1 [44800/50000 (90%)]\tTrain Loss: 0.880686\n",
            "\n",
            "[EPOCH: 1], \tTest Loss: 0.9635, \tTest Accuracy: 65.86 % \n",
            "\n",
            "Train Epoch: 2 [0/50000 (0%)]\tTrain Loss: 1.203521\n",
            "Train Epoch: 2 [6400/50000 (13%)]\tTrain Loss: 0.854216\n",
            "Train Epoch: 2 [12800/50000 (26%)]\tTrain Loss: 0.975175\n",
            "Train Epoch: 2 [19200/50000 (38%)]\tTrain Loss: 0.894955\n",
            "Train Epoch: 2 [25600/50000 (51%)]\tTrain Loss: 0.559999\n",
            "Train Epoch: 2 [32000/50000 (64%)]\tTrain Loss: 1.004361\n",
            "Train Epoch: 2 [38400/50000 (77%)]\tTrain Loss: 0.633751\n",
            "Train Epoch: 2 [44800/50000 (90%)]\tTrain Loss: 0.859453\n",
            "\n",
            "[EPOCH: 2], \tTest Loss: 0.7962, \tTest Accuracy: 71.89 % \n",
            "\n",
            "Train Epoch: 3 [0/50000 (0%)]\tTrain Loss: 0.779456\n",
            "Train Epoch: 3 [6400/50000 (13%)]\tTrain Loss: 0.485437\n",
            "Train Epoch: 3 [12800/50000 (26%)]\tTrain Loss: 0.813096\n",
            "Train Epoch: 3 [19200/50000 (38%)]\tTrain Loss: 0.586219\n",
            "Train Epoch: 3 [25600/50000 (51%)]\tTrain Loss: 0.651909\n",
            "Train Epoch: 3 [32000/50000 (64%)]\tTrain Loss: 0.519778\n",
            "Train Epoch: 3 [38400/50000 (77%)]\tTrain Loss: 0.753742\n",
            "Train Epoch: 3 [44800/50000 (90%)]\tTrain Loss: 0.764373\n",
            "\n",
            "[EPOCH: 3], \tTest Loss: 0.7342, \tTest Accuracy: 74.07 % \n",
            "\n",
            "Train Epoch: 4 [0/50000 (0%)]\tTrain Loss: 0.990374\n",
            "Train Epoch: 4 [6400/50000 (13%)]\tTrain Loss: 0.599952\n",
            "Train Epoch: 4 [12800/50000 (26%)]\tTrain Loss: 0.644334\n",
            "Train Epoch: 4 [19200/50000 (38%)]\tTrain Loss: 0.317023\n",
            "Train Epoch: 4 [25600/50000 (51%)]\tTrain Loss: 0.715877\n",
            "Train Epoch: 4 [32000/50000 (64%)]\tTrain Loss: 0.423279\n",
            "Train Epoch: 4 [38400/50000 (77%)]\tTrain Loss: 0.745529\n",
            "Train Epoch: 4 [44800/50000 (90%)]\tTrain Loss: 0.835851\n",
            "\n",
            "[EPOCH: 4], \tTest Loss: 0.6883, \tTest Accuracy: 76.42 % \n",
            "\n",
            "Train Epoch: 5 [0/50000 (0%)]\tTrain Loss: 0.647376\n",
            "Train Epoch: 5 [6400/50000 (13%)]\tTrain Loss: 0.728001\n",
            "Train Epoch: 5 [12800/50000 (26%)]\tTrain Loss: 0.495170\n",
            "Train Epoch: 5 [19200/50000 (38%)]\tTrain Loss: 0.372069\n",
            "Train Epoch: 5 [25600/50000 (51%)]\tTrain Loss: 0.812462\n",
            "Train Epoch: 5 [32000/50000 (64%)]\tTrain Loss: 0.499387\n",
            "Train Epoch: 5 [38400/50000 (77%)]\tTrain Loss: 0.480882\n",
            "Train Epoch: 5 [44800/50000 (90%)]\tTrain Loss: 0.579943\n",
            "\n",
            "[EPOCH: 5], \tTest Loss: 0.6494, \tTest Accuracy: 78.10 % \n",
            "\n",
            "Train Epoch: 6 [0/50000 (0%)]\tTrain Loss: 0.520027\n",
            "Train Epoch: 6 [6400/50000 (13%)]\tTrain Loss: 0.672645\n",
            "Train Epoch: 6 [12800/50000 (26%)]\tTrain Loss: 0.534180\n",
            "Train Epoch: 6 [19200/50000 (38%)]\tTrain Loss: 0.504256\n",
            "Train Epoch: 6 [25600/50000 (51%)]\tTrain Loss: 0.793862\n",
            "Train Epoch: 6 [32000/50000 (64%)]\tTrain Loss: 0.357942\n",
            "Train Epoch: 6 [38400/50000 (77%)]\tTrain Loss: 0.677946\n",
            "Train Epoch: 6 [44800/50000 (90%)]\tTrain Loss: 0.554398\n",
            "\n",
            "[EPOCH: 6], \tTest Loss: 0.5923, \tTest Accuracy: 79.56 % \n",
            "\n",
            "Train Epoch: 7 [0/50000 (0%)]\tTrain Loss: 0.485893\n",
            "Train Epoch: 7 [6400/50000 (13%)]\tTrain Loss: 0.441015\n",
            "Train Epoch: 7 [12800/50000 (26%)]\tTrain Loss: 0.353267\n",
            "Train Epoch: 7 [19200/50000 (38%)]\tTrain Loss: 0.622772\n",
            "Train Epoch: 7 [25600/50000 (51%)]\tTrain Loss: 0.376449\n",
            "Train Epoch: 7 [32000/50000 (64%)]\tTrain Loss: 0.530866\n",
            "Train Epoch: 7 [38400/50000 (77%)]\tTrain Loss: 0.371702\n",
            "Train Epoch: 7 [44800/50000 (90%)]\tTrain Loss: 0.875319\n",
            "\n",
            "[EPOCH: 7], \tTest Loss: 0.5558, \tTest Accuracy: 81.01 % \n",
            "\n",
            "Train Epoch: 8 [0/50000 (0%)]\tTrain Loss: 0.544083\n",
            "Train Epoch: 8 [6400/50000 (13%)]\tTrain Loss: 0.369462\n",
            "Train Epoch: 8 [12800/50000 (26%)]\tTrain Loss: 0.349708\n",
            "Train Epoch: 8 [19200/50000 (38%)]\tTrain Loss: 0.420459\n",
            "Train Epoch: 8 [25600/50000 (51%)]\tTrain Loss: 0.379535\n",
            "Train Epoch: 8 [32000/50000 (64%)]\tTrain Loss: 0.829632\n",
            "Train Epoch: 8 [38400/50000 (77%)]\tTrain Loss: 0.599619\n",
            "Train Epoch: 8 [44800/50000 (90%)]\tTrain Loss: 0.641561\n",
            "\n",
            "[EPOCH: 8], \tTest Loss: 0.5616, \tTest Accuracy: 81.32 % \n",
            "\n",
            "Train Epoch: 9 [0/50000 (0%)]\tTrain Loss: 0.508621\n",
            "Train Epoch: 9 [6400/50000 (13%)]\tTrain Loss: 0.284298\n",
            "Train Epoch: 9 [12800/50000 (26%)]\tTrain Loss: 0.479598\n",
            "Train Epoch: 9 [19200/50000 (38%)]\tTrain Loss: 0.413471\n",
            "Train Epoch: 9 [25600/50000 (51%)]\tTrain Loss: 0.440067\n",
            "Train Epoch: 9 [32000/50000 (64%)]\tTrain Loss: 0.971204\n",
            "Train Epoch: 9 [38400/50000 (77%)]\tTrain Loss: 0.600342\n",
            "Train Epoch: 9 [44800/50000 (90%)]\tTrain Loss: 0.455410\n",
            "\n",
            "[EPOCH: 9], \tTest Loss: 0.5339, \tTest Accuracy: 81.64 % \n",
            "\n",
            "Train Epoch: 10 [0/50000 (0%)]\tTrain Loss: 0.426238\n",
            "Train Epoch: 10 [6400/50000 (13%)]\tTrain Loss: 0.381012\n",
            "Train Epoch: 10 [12800/50000 (26%)]\tTrain Loss: 0.475679\n",
            "Train Epoch: 10 [19200/50000 (38%)]\tTrain Loss: 0.433207\n",
            "Train Epoch: 10 [25600/50000 (51%)]\tTrain Loss: 0.721807\n",
            "Train Epoch: 10 [32000/50000 (64%)]\tTrain Loss: 0.319013\n",
            "Train Epoch: 10 [38400/50000 (77%)]\tTrain Loss: 0.409156\n",
            "Train Epoch: 10 [44800/50000 (90%)]\tTrain Loss: 0.461826\n",
            "\n",
            "[EPOCH: 10], \tTest Loss: 0.5453, \tTest Accuracy: 81.45 % \n",
            "\n"
          ]
        }
      ]
    }
  ]
}