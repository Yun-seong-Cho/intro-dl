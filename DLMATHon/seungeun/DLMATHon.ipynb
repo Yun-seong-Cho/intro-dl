{
  "nbformat": 4,
  "nbformat_minor": 0,
  "metadata": {
    "colab": {
      "provenance": [],
      "gpuType": "T4"
    },
    "kernelspec": {
      "name": "python3",
      "display_name": "Python 3"
    },
    "language_info": {
      "name": "python"
    },
    "accelerator": "GPU"
  },
  "cells": [
    {
      "cell_type": "markdown",
      "source": [
        "# 2024 Winter Introduction to Deep Learning\n",
        "### Based on Prof. Oh's Youtube Lecture\n",
        "https://youtube.com/playlist?list=PLvbUC2Zh5oJvByu9KL82bswYT2IKf0K1M\n",
        "\n",
        "> DL MATH + DATATHON = DL MATHON\n",
        "\n",
        "\n",
        "*   Written by Seungeun Lee\n",
        "*   대회에서 사용되는 모든 이미지는 모델 학습을 위해서만 사용해주세요 (다른 용도로 사용 금지!)\n",
        "*   Please use all images from the competition only for model training (no other uses!)"
      ],
      "metadata": {
        "id": "YcXb0XLEvHns"
      }
    },
    {
      "cell_type": "code",
      "source": [],
      "metadata": {
        "id": "frNJhD6ttQG9"
      },
      "execution_count": null,
      "outputs": []
    },
    {
      "cell_type": "markdown",
      "source": [
        "### Track 1. 한국 음식 이미지 분류\n",
        "##### https://www.kaggle.com/competitions/2021-data-creator-camp-1120-1/data\n",
        "##### 2021 데이터 크리에이터 캠프 (NIA 주최 데이터 분석 대회)에 출제된 문제입니다.\n",
        "##### 학습데이터 : 3496 장 / 검증데이터 : 689 장 / 평가데이터 : 958 장으로 구성되어 있지만, 평가데이터에 대한 정답지가 없기 때문에 학습데이터 학습하고, 검증데이터로 평가하도록 하겠습니다 (평가데이터는 무시해주세요)\n",
        "##### target은 BoiledDown (조림) / Rice (밥) / Noodle (면) / Roasted (구이) / Kimchi (김치) 총 5개로 구성되어 있습니다.\n",
        "##### hhttps://drive.google.com/file/d/1wBJRhn7R_puujj_2LXjq-xvG03LucaFO/view?usp=drive_link\n",
        "\n"
      ],
      "metadata": {
        "id": "qM2kM5G7BYZr"
      }
    },
    {
      "cell_type": "markdown",
      "source": [
        "\n",
        "### Track 1. Korean Food Image Classification\n",
        "##### https://www.kaggle.com/competitions/2021-data-creator-camp-1120-1/data\n",
        "#####  This problem was presented at the 2021 Data Creator Camp, organized by NIA (National Information Society Agency).\n",
        "##### The dataset consists of 3496 training images, 689 validation images, and 958 evaluation images. However, there are no ground truth labels for the evaluation data. Therefore, training will be performed on the training data, and evaluation will be carried out on the validation data (please disregard the evaluation data).\n",
        "##### The target categories include BoiledDown, Rice, Noodle, Roasted, and Kimchi, totaling 5 classes.\n",
        "##### https://drive.google.com/file/d/1wBJRhn7R_puujj_2LXjq-xvG03LucaFO/view?usp=drive_link"
      ],
      "metadata": {
        "id": "K-dImf0Ktm71"
      }
    },
    {
      "cell_type": "code",
      "source": [],
      "metadata": {
        "id": "oOCAfUdntml7"
      },
      "execution_count": null,
      "outputs": []
    },
    {
      "cell_type": "code",
      "source": [],
      "metadata": {
        "id": "TrW3Fa2bqitr"
      },
      "execution_count": null,
      "outputs": []
    },
    {
      "cell_type": "markdown",
      "source": [
        "### Track 2. 뚜북이 분류\n",
        "##### 우리 연구실 수인언니가 키우는 거북이인 '뚜북이'와 뚜북이가 아닌 사진들을 분류하는 문제입니다.\n",
        "##### 데이터사이언스 분야 연구, 특히 산학 프로젝트를 하다보면 모델 구현, 개발 만큼이나 데이터 전처리에 많은 시간을 쏟곤 합니다. 데이터마다 형식이 다르고 (jpg, heic, png, tiff 등) colormap도 다를 수 있기 때문입니다.\n",
        "##### 또 실제 데이터는 그 숫자가 매우 작고 target별 데이터 불균형이 심해 분류하기 까다로운 경우가 많습니다.\n",
        "##### Track 2를 통해 우리는 이런 현실적인 상황들에 대처하는 방법을 알아보고자 합니다. 먼저 다양한 확장자로 구성되어 있는 데이터를 하나의 확장자로 통일하는 등의 전처리를 시작해주세요. 이전에 배운 os 등 라이브러리를 사용하는 것을 권장합니다.\n",
        "##### 학습데이터 : 98장 / 평가데이터 : 21장으로 구성되어 있습니다.\n",
        "##### target은 뚜북 / 낫뚜북으로 구성되어 있습니다.\n",
        "##### https://drive.google.com/file/d/1pHQMKPBvY1kju82i64fCB-yVyEtnWybh/view?usp=drive_link"
      ],
      "metadata": {
        "id": "b_F0M7ljqURd"
      }
    },
    {
      "cell_type": "markdown",
      "source": [
        "### Track 2. Turtle Classification\n",
        "##### Suinne's pet turtle, 'Ddubuki' vs not_ddubuki\n",
        "##### In data science, especially in academic projects, a significant amount of time is dedicated not only to implementing and developing models but also to the crucial task of data preprocessing. This is due to the varied formats of data (jpg, heic, png, tiff, etc.) and the potential differences in colormaps.\n",
        "##### Additionally, real-world data is often limited in quantity, and there is a significant imbalance in the distribution of targets, making classification challenging.\n",
        "##### Through Track 2, we aim to explore methods to address these practical challenges. Please start with preprocessing the data, unifying it into a single file format, considering the various extensions. It is recommended to use libraries such as 'os', that you have learned previously.\n",
        "##### The dataset consists of 98 training images and 21 evaluation images.\n",
        "##### The target classes are ddubuk and not_ddubuk.\n",
        "##### https://drive.google.com/file/d/1pHQMKPBvY1kju82i64fCB-yVyEtnWybh/view?usp=drive_link"
      ],
      "metadata": {
        "id": "AdYW27xyv-ip"
      }
    },
    {
      "cell_type": "code",
      "source": [],
      "metadata": {
        "id": "wx026812BNuT"
      },
      "execution_count": null,
      "outputs": []
    },
    {
      "cell_type": "code",
      "source": [],
      "metadata": {
        "id": "VFCJ_YjpCn9g"
      },
      "execution_count": null,
      "outputs": []
    },
    {
      "cell_type": "markdown",
      "source": [
        "### The End."
      ],
      "metadata": {
        "id": "spc48rNHQnYL"
      }
    },
    {
      "cell_type": "markdown",
      "source": [
        "##### Please upload your Colab file @Github https://github.com/duneag2/intro-dl/tree/main/DLMATHon\n",
        "\n",
        "*   First, make your folder by your name (e.g. seungeun)\n",
        "*   Then upload your \"Jupyter Notebook\" file under that directory\n",
        "\n",
        "*   결과물을 업로드한 후에 저 (승은)에게 개인톡으로 알려주시면 leaderboard에 결과를 반영하겠습니다\n",
        "*   평가데이터를 학습데이터에 사용하는 행위 등 cheating과 FastAI와 같은 shortcut 사용은 안 돼요~!!\n",
        "\n",
        "*   After uploading your results, please inform me (Seungeun) through personal chat, and I will reflect the results on the leaderboard\n",
        "*   Cheating, such as using evaluation data for training, and shortcuts like FastAI, are not allowed. Thank you for your understanding!"
      ],
      "metadata": {
        "id": "iMNBVkjiS7D9"
      }
    },
    {
      "cell_type": "code",
      "source": [],
      "metadata": {
        "id": "XzVGuer0S9Oh"
      },
      "execution_count": null,
      "outputs": []
    }
  ]
}