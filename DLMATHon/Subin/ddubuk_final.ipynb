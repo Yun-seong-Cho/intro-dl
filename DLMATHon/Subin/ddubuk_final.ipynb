{
  "nbformat": 4,
  "nbformat_minor": 0,
  "metadata": {
    "colab": {
      "provenance": []
    },
    "kernelspec": {
      "name": "python3",
      "display_name": "Python 3"
    },
    "language_info": {
      "name": "python"
    }
  },
  "cells": [
    {
      "cell_type": "code",
      "source": [
        "from google.colab import drive\n",
        "drive.mount('/content/drive')"
      ],
      "metadata": {
        "colab": {
          "base_uri": "https://localhost:8080/"
        },
        "id": "_r5xE-2pRWG-",
        "outputId": "a56c1bc2-1350-46f0-e121-cd9100d39e34"
      },
      "execution_count": null,
      "outputs": [
        {
          "output_type": "stream",
          "name": "stdout",
          "text": [
            "Drive already mounted at /content/drive; to attempt to forcibly remount, call drive.mount(\"/content/drive\", force_remount=True).\n"
          ]
        }
      ]
    },
    {
      "cell_type": "code",
      "source": [
        "%cd /content/drive/MyDrive/뚜북이/"
      ],
      "metadata": {
        "colab": {
          "base_uri": "https://localhost:8080/"
        },
        "id": "wDnNpn0fRaBL",
        "outputId": "d6d0b7bd-23bb-4527-8776-53a7cf98c313"
      },
      "execution_count": null,
      "outputs": [
        {
          "output_type": "stream",
          "name": "stdout",
          "text": [
            "/content/drive/MyDrive/뚜북이\n"
          ]
        }
      ]
    },
    {
      "cell_type": "code",
      "source": [
        "import tensorflow as tf\n",
        "import numpy as np\n",
        "from tensorflow import keras\n",
        "import os\n",
        "import cv2\n",
        "from tensorflow.keras.preprocessing.image import ImageDataGenerator\n",
        "from tensorflow.keras.preprocessing import image\n",
        "from keras.models import Sequential\n",
        "from keras.layers import Conv2D, MaxPooling2D, Dense, Flatten, Dropout\n",
        "import matplotlib.pyplot as plt"
      ],
      "metadata": {
        "id": "Zj6WjQ8AuBRj"
      },
      "execution_count": null,
      "outputs": []
    },
    {
      "source": [
        "!pip install pillow-heif"
      ],
      "cell_type": "code",
      "metadata": {
        "colab": {
          "base_uri": "https://localhost:8080/"
        },
        "id": "QgGe7qyAMYjX",
        "outputId": "285dad7e-1e86-406b-fe83-18bad57d8297"
      },
      "execution_count": null,
      "outputs": [
        {
          "output_type": "stream",
          "name": "stdout",
          "text": [
            "Collecting pillow-heif\n",
            "  Downloading pillow_heif-0.15.0-cp310-cp310-manylinux_2_17_x86_64.manylinux2014_x86_64.whl (7.5 MB)\n",
            "\u001b[2K     \u001b[90m━━━━━━━━━━━━━━━━━━━━━━━━━━━━━━━━━━━━━━━━\u001b[0m \u001b[32m7.5/7.5 MB\u001b[0m \u001b[31m23.7 MB/s\u001b[0m eta \u001b[36m0:00:00\u001b[0m\n",
            "\u001b[?25hRequirement already satisfied: pillow>=9.2.0 in /usr/local/lib/python3.10/dist-packages (from pillow-heif) (9.4.0)\n",
            "Installing collected packages: pillow-heif\n",
            "Successfully installed pillow-heif-0.15.0\n"
          ]
        }
      ]
    },
    {
      "source": [
        "import pillow_heif"
      ],
      "cell_type": "code",
      "metadata": {
        "id": "p2cT41GtMZyS"
      },
      "execution_count": null,
      "outputs": []
    },
    {
      "cell_type": "code",
      "source": [
        "from PIL import Image\n",
        "from pillow_heif import register_heif_opener\n",
        "import os\n",
        "\n",
        "register_heif_opener()\n",
        "\n",
        "path = '/content/drive/MyDrive/뚜북이/ddubuk/train'\n",
        "heic_lst = os.listdir(os.path.join(path, 'ddubuk'))\n",
        "heic_lst = [os.path.join(path,'ddubuk',i) for i in heic_lst]\n",
        "\n",
        "print(heic_lst[0])\n",
        "\n",
        "for i in range(len(heic_lst)):\n",
        "    img_nm = heic_lst[i].split('/')[-1].split('.')[0]\n",
        "    save_path = os.path.join(path, 'ddubuk_', img_nm+'.png')\n",
        "\n",
        "    image = Image.open(heic_lst[i])\n",
        "    image.convert('RGB').save(save_path)\n",
        "\n",
        "    if i%10==0:\n",
        "        print(f'image saved {i}%..')\n",
        "\n",
        "print('save complete')\n"
      ],
      "metadata": {
        "colab": {
          "base_uri": "https://localhost:8080/"
        },
        "id": "qjowYVH6L53H",
        "outputId": "00b58c8f-7025-412f-d94b-828ec4a8d9b0"
      },
      "execution_count": null,
      "outputs": [
        {
          "output_type": "stream",
          "name": "stdout",
          "text": [
            "/content/drive/MyDrive/뚜북이/ddubuk/train/ddubuk/0AA897B3-755E-426B-8DAE-27F3206B2C2E.JPG\n",
            "image saved 0%..\n",
            "image saved 10%..\n",
            "image saved 20%..\n",
            "image saved 30%..\n",
            "image saved 40%..\n",
            "image saved 50%..\n",
            "image saved 60%..\n",
            "image saved 70%..\n",
            "image saved 80%..\n",
            "save complete\n"
          ]
        }
      ]
    },
    {
      "cell_type": "code",
      "source": [
        "from PIL import Image\n",
        "from pillow_heif import register_heif_opener\n",
        "import os\n",
        "\n",
        "register_heif_opener()\n",
        "\n",
        "path = '/content/drive/MyDrive/뚜북이/ddubuk/train'\n",
        "heic_lst = os.listdir(os.path.join(path, 'not_ddubuk'))\n",
        "heic_lst = [os.path.join(path,'not_ddubuk',i) for i in heic_lst]\n",
        "\n",
        "print(heic_lst[0])\n",
        "\n",
        "for i in range(len(heic_lst)):\n",
        "    img_nm = heic_lst[i].split('/')[-1].split('.')[0]\n",
        "    save_path = os.path.join(path, 'not_ddubuk_', img_nm+'.png')\n",
        "\n",
        "    image = Image.open(heic_lst[i])\n",
        "    image.convert('RGB').save(save_path)\n",
        "\n",
        "    if i%10==0:\n",
        "        print(f'image saved {i}%..')\n",
        "\n",
        "print('save complete')\n"
      ],
      "metadata": {
        "colab": {
          "base_uri": "https://localhost:8080/"
        },
        "id": "1mDzJlJuPM9b",
        "outputId": "b0cd1e06-18d8-469f-84ef-f8a981ef3e10"
      },
      "execution_count": null,
      "outputs": [
        {
          "output_type": "stream",
          "name": "stdout",
          "text": [
            "/content/drive/MyDrive/뚜북이/ddubuk/train/not_ddubuk/22bce2e737eaf8ecea24aadec86439e0-view.jpg\n",
            "image saved 0%..\n",
            "image saved 10%..\n",
            "save complete\n"
          ]
        }
      ]
    },
    {
      "cell_type": "code",
      "source": [
        "from PIL import Image\n",
        "from pillow_heif import register_heif_opener\n",
        "import os\n",
        "\n",
        "register_heif_opener()\n",
        "\n",
        "path = '/content/drive/MyDrive/뚜북이/ddubuk/test'\n",
        "heic_lst = os.listdir(os.path.join(path, 'not_ddubuk'))\n",
        "heic_lst = [os.path.join(path,'not_ddubuk',i) for i in heic_lst]\n",
        "\n",
        "print(heic_lst[0])\n",
        "\n",
        "for i in range(len(heic_lst)):\n",
        "    img_nm = heic_lst[i].split('/')[-1].split('.')[0]\n",
        "    save_path = os.path.join(path, 'not_ddubuk_', img_nm+'.png')\n",
        "\n",
        "    image = Image.open(heic_lst[i])\n",
        "    image.convert('RGB').save(save_path)\n",
        "\n",
        "    if i%10==0:\n",
        "        print(f'image saved {i}%..')\n",
        "\n",
        "print('save complete')"
      ],
      "metadata": {
        "colab": {
          "base_uri": "https://localhost:8080/"
        },
        "id": "VEsgQ1QNQEfA",
        "outputId": "3d70bea8-b61f-4e40-87e6-bb547213d0d0"
      },
      "execution_count": null,
      "outputs": [
        {
          "output_type": "stream",
          "name": "stdout",
          "text": [
            "/content/drive/MyDrive/뚜북이/ddubuk/test/not_ddubuk/happy-family-work-and-home-life-separate.jpg\n",
            "image saved 0%..\n",
            "save complete\n"
          ]
        }
      ]
    },
    {
      "cell_type": "code",
      "source": [
        "from PIL import Image\n",
        "from pillow_heif import register_heif_opener\n",
        "import os\n",
        "\n",
        "register_heif_opener()\n",
        "\n",
        "path = '/content/drive/MyDrive/뚜북이/ddubuk/test'\n",
        "heic_lst = os.listdir(os.path.join(path, 'ddubuk'))\n",
        "heic_lst = [os.path.join(path,'ddubuk',i) for i in heic_lst]\n",
        "\n",
        "print(heic_lst[0])\n",
        "\n",
        "for i in range(len(heic_lst)):\n",
        "    img_nm = heic_lst[i].split('/')[-1].split('.')[0]\n",
        "    save_path = os.path.join(path, 'ddubuk_', img_nm+'.png')\n",
        "\n",
        "    image = Image.open(heic_lst[i])\n",
        "    image.convert('RGB').save(save_path)\n",
        "\n",
        "    if i%10==0:\n",
        "        print(f'image saved {i}%..')\n",
        "\n",
        "print('save complete')"
      ],
      "metadata": {
        "colab": {
          "base_uri": "https://localhost:8080/"
        },
        "id": "UT4HozyvQXYC",
        "outputId": "96861c3c-012a-4b24-b809-2b32f1b4f5a1"
      },
      "execution_count": null,
      "outputs": [
        {
          "output_type": "stream",
          "name": "stdout",
          "text": [
            "/content/drive/MyDrive/뚜북이/ddubuk/test/ddubuk/IMG_0974.HEIC\n",
            "image saved 0%..\n",
            "image saved 10%..\n",
            "save complete\n"
          ]
        }
      ]
    },
    {
      "cell_type": "code",
      "source": [
        "from keras.models import Sequential\n",
        "from keras.layers import Conv2D, MaxPooling2D, Dense, Flatten, Dropout\n",
        "\n",
        "model = Sequential()\n",
        "\n",
        "\n",
        "model.add(Conv2D(32, (3, 3), padding='same', activation='relu', input_shape=(224, 224, 3)))\n",
        "model.add(MaxPooling2D(pool_size=(2, 2)))\n",
        "model.add(Conv2D(64, (3, 3), padding='same', activation='relu'))\n",
        "model.add(MaxPooling2D(pool_size=(2, 2)))\n",
        "model.add(Conv2D(128, (3, 3), padding='same', activation='relu'))\n",
        "model.add(MaxPooling2D(pool_size=(2, 2)))\n",
        "\n",
        "\n",
        "model.add(Flatten())\n",
        "\n",
        "\n",
        "model.add(Dense(512, activation='relu'))\n",
        "model.add(Dropout(0.5))\n",
        "model.add(Dense(256, activation='relu'))\n",
        "model.add(Dropout(0.5))\n",
        "model.add(Dense(1, activation='sigmoid'))\n",
        "\n",
        "model.compile(loss='binary_crossentropy', optimizer='adam', metrics=['accuracy'])\n",
        "\n",
        "model.summary()"
      ],
      "metadata": {
        "colab": {
          "base_uri": "https://localhost:8080/"
        },
        "id": "NrMxJuWvWXYW",
        "outputId": "a9899113-9fe2-4545-aefd-9ad2cc9c7f24"
      },
      "execution_count": null,
      "outputs": [
        {
          "output_type": "stream",
          "name": "stdout",
          "text": [
            "Model: \"sequential_2\"\n",
            "_________________________________________________________________\n",
            " Layer (type)                Output Shape              Param #   \n",
            "=================================================================\n",
            " conv2d_6 (Conv2D)           (None, 224, 224, 32)      896       \n",
            "                                                                 \n",
            " max_pooling2d_6 (MaxPoolin  (None, 112, 112, 32)      0         \n",
            " g2D)                                                            \n",
            "                                                                 \n",
            " conv2d_7 (Conv2D)           (None, 112, 112, 64)      18496     \n",
            "                                                                 \n",
            " max_pooling2d_7 (MaxPoolin  (None, 56, 56, 64)        0         \n",
            " g2D)                                                            \n",
            "                                                                 \n",
            " conv2d_8 (Conv2D)           (None, 56, 56, 128)       73856     \n",
            "                                                                 \n",
            " max_pooling2d_8 (MaxPoolin  (None, 28, 28, 128)       0         \n",
            " g2D)                                                            \n",
            "                                                                 \n",
            " flatten_2 (Flatten)         (None, 100352)            0         \n",
            "                                                                 \n",
            " dense_6 (Dense)             (None, 512)               51380736  \n",
            "                                                                 \n",
            " dropout_4 (Dropout)         (None, 512)               0         \n",
            "                                                                 \n",
            " dense_7 (Dense)             (None, 256)               131328    \n",
            "                                                                 \n",
            " dropout_5 (Dropout)         (None, 256)               0         \n",
            "                                                                 \n",
            " dense_8 (Dense)             (None, 1)                 257       \n",
            "                                                                 \n",
            "=================================================================\n",
            "Total params: 51605569 (196.86 MB)\n",
            "Trainable params: 51605569 (196.86 MB)\n",
            "Non-trainable params: 0 (0.00 Byte)\n",
            "_________________________________________________________________\n"
          ]
        }
      ]
    },
    {
      "cell_type": "code",
      "source": [
        "import numpy as np\n",
        "\n",
        "total_samples = 83 + 15\n",
        "class_weights = {\n",
        "    0: total_samples / (2 * 83),\n",
        "    1: total_samples / (2 * 15)\n",
        "}\n",
        "\n",
        "train_datagen = ImageDataGenerator(\n",
        "    rescale=1./255,\n",
        "    rotation_range=20,\n",
        "    width_shift_range=0.1,\n",
        "    height_shift_range=0.1,\n",
        "    shear_range=0.2,\n",
        "    zoom_range=0.2,\n",
        "    horizontal_flip=True,\n",
        "    fill_mode='nearest'\n",
        ")\n",
        "\n",
        "test_datagen = ImageDataGenerator(rescale=1./255)\n",
        "\n",
        "train_generator = train_datagen.flow_from_directory(\n",
        "    '/content/drive/MyDrive/뚜북이/ddubuk/train',\n",
        "    target_size=(224, 224),\n",
        "    batch_size=32,\n",
        "    class_mode='binary'\n",
        ")\n",
        "\n",
        "test_generator = test_datagen.flow_from_directory(\n",
        "    '/content/drive/MyDrive/뚜북이/ddubuk/test',\n",
        "    target_size=(224, 224),\n",
        "    batch_size=32,\n",
        "    class_mode='binary'\n",
        ")\n",
        "\n",
        "history = model.fit(train_generator,\n",
        "                    epochs=10,\n",
        "                    steps_per_epoch=len(train_generator),\n",
        "                    validation_data=test_generator,\n",
        "                    validation_steps=len(test_generator),\n",
        "                    class_weight=class_weights)\n",
        "\n",
        "loss, accuracy = model.evaluate(test_generator, steps=len(test_generator))\n",
        "print(\"Test Loss:\", loss)\n",
        "print(\"Test Accuracy:\", accuracy)\n"
      ],
      "metadata": {
        "colab": {
          "base_uri": "https://localhost:8080/"
        },
        "id": "_brtK1996wFz",
        "outputId": "3f8f04d6-a3f0-456e-c4a8-835ff310f2d9"
      },
      "execution_count": null,
      "outputs": [
        {
          "output_type": "stream",
          "name": "stdout",
          "text": [
            "Found 98 images belonging to 2 classes.\n",
            "Found 21 images belonging to 2 classes.\n",
            "Epoch 1/10\n",
            "4/4 [==============================] - 60s 14s/step - loss: 0.8238 - accuracy: 0.8469 - val_loss: 0.6409 - val_accuracy: 0.7143\n",
            "Epoch 2/10\n",
            "4/4 [==============================] - 61s 19s/step - loss: 0.7177 - accuracy: 0.8367 - val_loss: 0.6263 - val_accuracy: 0.7143\n",
            "Epoch 3/10\n",
            "4/4 [==============================] - 64s 15s/step - loss: 0.6879 - accuracy: 0.8673 - val_loss: 0.6691 - val_accuracy: 0.7143\n",
            "Epoch 4/10\n",
            "4/4 [==============================] - 59s 19s/step - loss: 0.6711 - accuracy: 0.8469 - val_loss: 0.6133 - val_accuracy: 0.7143\n",
            "Epoch 5/10\n",
            "4/4 [==============================] - 63s 15s/step - loss: 0.6473 - accuracy: 0.8469 - val_loss: 0.5485 - val_accuracy: 0.7143\n",
            "Epoch 6/10\n",
            "4/4 [==============================] - 65s 15s/step - loss: 0.6298 - accuracy: 0.8673 - val_loss: 0.5473 - val_accuracy: 0.7619\n",
            "Epoch 7/10\n",
            "4/4 [==============================] - 61s 19s/step - loss: 0.6719 - accuracy: 0.8776 - val_loss: 0.5700 - val_accuracy: 0.8095\n",
            "Epoch 8/10\n",
            "4/4 [==============================] - 59s 19s/step - loss: 0.6028 - accuracy: 0.9388 - val_loss: 0.6144 - val_accuracy: 0.8571\n",
            "Epoch 9/10\n",
            "4/4 [==============================] - 64s 20s/step - loss: 0.5992 - accuracy: 0.8673 - val_loss: 0.6130 - val_accuracy: 0.7619\n",
            "Epoch 10/10\n",
            "4/4 [==============================] - 69s 22s/step - loss: 0.5290 - accuracy: 0.9286 - val_loss: 0.5268 - val_accuracy: 0.8095\n",
            "1/1 [==============================] - 8s 8s/step - loss: 0.5268 - accuracy: 0.8095\n",
            "Test Loss: 0.5267723798751831\n",
            "Test Accuracy: 0.8095238208770752\n"
          ]
        }
      ]
    }
  ]
}