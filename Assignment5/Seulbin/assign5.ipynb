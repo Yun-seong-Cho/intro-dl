{
  "nbformat": 4,
  "nbformat_minor": 0,
  "metadata": {
    "colab": {
      "provenance": []
    },
    "kernelspec": {
      "name": "python3",
      "display_name": "Python 3"
    },
    "language_info": {
      "name": "python"
    }
  },
  "cells": [
    {
      "cell_type": "markdown",
      "source": [
        "1. Batch Normalization"
      ],
      "metadata": {
        "id": "oss7nENjB3UV"
      }
    },
    {
      "cell_type": "code",
      "execution_count": null,
      "metadata": {
        "id": "iiI6AVkvBbvd"
      },
      "outputs": [],
      "source": [
        "#nn layers\n",
        "linear1 = torch.nn.Linear(784, 32, bias=True)\n",
        "linear2 = torch.nn.Linear(32, 32, biias=True)\n",
        "linear3 = troch.nn.Linear(32, 10, bias=True)\n",
        "\n",
        "relu = torch.nn.ReLU()\n",
        "bn1 = torch.nn.BatchNorm1d(32)\n",
        "bn2 = torch.nn.BatchNorm1d(32)\n",
        "\n",
        "nn_linear1 = torch.nn.Linear(784,  32, bias=True)\n",
        "nn_linear2 = torch.nn.Linear(32, 32, bias=True)\n",
        "nn_linear3 = torch.nn.Linear(32, 10, bias=True)\n",
        "\n",
        "#with BN\n",
        "bn_model = torch.nn.Sequential(linear1, bn1, relu,\n",
        "                               linear2, bn2, relu\n",
        "                               linear3),to(device)\n",
        "#without BN\n",
        "nn_model = torch.nn.Sequential(nn_linear1, relu,\n",
        "                               nn_linear2, relu,\n",
        "                               nn_linear3),to(device)"
      ]
    },
    {
      "cell_type": "code",
      "source": [
        "#class module\n",
        "import torch.nn as nn\n",
        "\n",
        "class Model(nn.Module):\n",
        "    def __init__(self):\n",
        "        super(Model, self).__init__()\n",
        "        self.fc1 = nn.Linear(100, 50)\n",
        "        self.bn = nn.BatchNorm1d(num_features=50)\n",
        "        self.relu = nn.ReLU()\n",
        "        self.fc2 = nn.Linear(50, 10)\n",
        "\n",
        "    def forward(self, x):\n",
        "        x = self.fc1(x)\n",
        "        x = self.bn(x)\n",
        "        x = self.relu(x)\n",
        "        x = self.fc2(x)\n",
        "        return x"
      ],
      "metadata": {
        "id": "MAS9iPTy3uP6"
      },
      "execution_count": null,
      "outputs": []
    },
    {
      "cell_type": "code",
      "source": [
        "m = nn.BatchNorm1d(100)\n",
        "input = torch.randn(20, 100)\n",
        "output = m(input)\n",
        "\n",
        "m = nn.BatchNorm2d(100)\n",
        "input = torch.randn(20, 100, 35, 45)\n",
        "output = m(input)"
      ],
      "metadata": {
        "id": "AiZuHG9D5ml5"
      },
      "execution_count": null,
      "outputs": []
    },
    {
      "cell_type": "markdown",
      "source": [
        "Question 1.\n",
        "\n",
        "Compare & Contrast BatchNorm1d and BatchNorm2d\n",
        "\n",
        "BatchNorm1d: input과 output이 (N, C)또는, (N, C, L)의 형태\n",
        "\n",
        "BatchNorm2d: input과 output이 (N, C, H, W)의 형태\n",
        "* N: Batch 크기\n",
        "* C: Channel\n",
        "* L: Length\n",
        "* H: Height\n",
        "* W: Width"
      ],
      "metadata": {
        "id": "8MF48P566AEu"
      }
    },
    {
      "cell_type": "markdown",
      "source": [
        "2. Weight Initialization"
      ],
      "metadata": {
        "id": "2iJ4wtmH9Lp0"
      }
    },
    {
      "cell_type": "code",
      "source": [
        "import torch\n",
        "import torch.nn as nn\n",
        "import torch.nn.init as init"
      ],
      "metadata": {
        "id": "N02DXiPB9LPH"
      },
      "execution_count": 2,
      "outputs": []
    },
    {
      "cell_type": "code",
      "source": [
        "class CNN(nn.Module): #CNN class 를 정의\n",
        "    def __init__(self):\n",
        "        super(CNN,self).__init__() #superclass(nn.Module)의 initialization method 호출\n",
        "        self.layer = nn.Sequential( #convolutional Neural Network 을 정의하기 위한 레이어를 순차적으로 쌓은 nn.Sequential 모듈 생성\n",
        "            nn.Conv2d(1,16,3,padding=1), # 28 x 28 #입력 채널 1, 출력채널 16, channel 크기 3x3, 패딩1)\n",
        "            nn.ReLU(),\n",
        "            nn.Conv2d(16,32,3,padding=1), # 28 x 28\n",
        "            nn.ReLU(),\n",
        "            nn.MaxPool2d(2,2), # 14 x 14 # channel크기 2x2, strike 2\n",
        "            nn.Conv2d(32,64,3,padding=1), # 14 x 14\n",
        "            nn.ReLU(),\n",
        "            nn.MaxPool2d(2,2) # 7 x 7\n",
        "        )\n",
        "        self.fc_layer = nn.Sequential( #fully connected 레이어를 정의하기 위한 레이어를 순차적으로 쌓은 nn.Sequential 모듈 생성\n",
        "            nn.Linear(64*7*7,100), #Linear 레이어: input dim(64*7*7), output dim(100)\n",
        "            nn.ReLU(),\n",
        "            nn.Linear(100,10)\n",
        "        )\n",
        "\n",
        " #초기화 하는 방법\n",
        " #모델의 모듈을 차례대로 불러옴\n",
        "        for m in self.modules(): # 모델의 모든 모듈에 대해 반복하는 루프를 시\n",
        "            # 만약 그 모듈이 nn.Conv2d인 경\n",
        "            if isinstance(m, nn.Conv2d):\n",
        "\n",
        "                #kaming Initialization\n",
        "                #모듈의 가중치를 kaming he normal로 초기화\n",
        "                #bias를 0으로 초기화\n",
        "                init.kaiming_normal_(m.weight.data)\n",
        "                m.bias.data.fill_(0)\n",
        "\n",
        "            # 만약 그 모듈이 nn.Linear인 경우\n",
        "            elif isinstance(m, nn.Linear):\n",
        "\n",
        "                init.kaiming_normal_(m.weight.data)\n",
        "                m.bias.data.fill_(0)\n",
        "\n",
        "    def forward(self,x): #forwardfeed method를 정의\n",
        "        out = self.layer(x)\n",
        "        out = out.view(batch_size,-1) # 출력을 (batch_siza, -1)로 flatten\n",
        "        out = self.fc_layer(out)\n",
        "        return out"
      ],
      "metadata": {
        "id": "yJ_TBmxAp7mV"
      },
      "execution_count": 3,
      "outputs": []
    },
    {
      "cell_type": "code",
      "source": [
        "import tensorflow as tf\n",
        "import random\n",
        "import numpy as np\n",
        "import matplotlib.pyplot as plt\n",
        "\n",
        "#sigmoid activation function 정의\n",
        "#주로 이진 분류 문제에서 사용\n",
        "def sigmoid(x):\n",
        "    return 1 / (1 + np.exp(-x))\n",
        "\n",
        "#ReLU activation function 정의\n",
        "#주로 hidden layer 에서 사용\n",
        "def ReLU(x):\n",
        "    return np.maximum(0, x)\n",
        "\n",
        "#tanh activation function 정의\n",
        "#-1과 1 사이의 값 출력\n",
        "#입력이 큰 양수 또는 음수일 때 더 민감한 반응\n",
        "def tanh(x):\n",
        "    return np.tanh(x)\n",
        "\n",
        "#가중치 초기화 함수 정\n",
        "def weight_init(method=None):\n",
        "    w = 0 # 가중치 행렬을 초기화 하기 위한 변수 w를 0으로 초기화\n",
        "    if method == 'large': #large: 정규분포를 따르는 큰 가중치 행렬 생성\n",
        "        w = np.random.randn(node_num, node_num) * 1 # 평균 0, 표준편차 1 인 정규분포 따르는 rnadom number로 초기화\n",
        "    elif method == 'small': #small: 정규분포를 따르는 작은 가중치 행렬 생성\n",
        "        w = np.random.randn(node_num, node_num) * 0.01 # 평균 0, 표준편차 0.01\n",
        "    elif method == 'xavier': #xavier initialization\n",
        "        w = np.random.randn(node_num, node_num) * np.sqrt(1.0 / node_num)\n",
        "    elif method == 'he': #he initialization\n",
        "        w = np.random.randn(node_num, node_num) * np.sqrt(2.0 / node_num)\n",
        "\n",
        "    return w"
      ],
      "metadata": {
        "id": "qy83lhwzqh0P"
      },
      "execution_count": 5,
      "outputs": []
    },
    {
      "cell_type": "code",
      "source": [
        "input_data = np.random.randn(1000, 100) # 1000 sample with 100 features each\n",
        "node_num = 100 # 각 hidden layer의 neuron의 개수 정\n",
        "hidden_layer_size = 5\n",
        "activations = {} # activation function 통과한 결과 저장을 위한 dictionary 초기화\n",
        "\n",
        "x = input_data\n",
        "\n",
        "for i in range(hidden_layer_size): # 0 부터 hidden_layer_size - 1 까지 반복하는 루프 시작\n",
        "    if i != 0: # 현재 0번째 hidden layer가 아닌 경우, input을 이전 hidden layer의 activation function 결과로 업데이트\n",
        "        x = activations[i-1]\n",
        "\n",
        "    w = weight_init('small') #small method로 weight matrix 초기화\n",
        "    a = np.dot(x, w) #weight와 input의 inner product로 linear 변환\n",
        "\n",
        "    # z = sigmoid(a)\n",
        "    # z = ReLU(a)\n",
        "    z = tanh(a) #nonlinearity 추가\n",
        "\n",
        "    activations[i] = z # 현재 hidden layer의 activation function 결과를 dictionary 에 저장\n",
        "\n",
        "for i, a in activations.items():\n",
        "    plt.subplot(1, len(activations), i+1) # 현재 hidden layer의 히스토그램 그릴 위치 설정\n",
        "    plt.title(str(i+1) + \"-layer\") # 현재 플롯에 제목을 추가\n",
        "    if i != 0: plt.yticks([], []) # y축 눈금을 제거\n",
        "#     plt.xlim(0.1, 1)\n",
        "    plt.ylim(0, 8000)\n",
        "    plt.hist(a.flatten(), 30, range=(-1,1)) #현재 hidden layer의 activation function 결과를 히스토그램으로 표시\n",
        "plt.show()"
      ],
      "metadata": {
        "colab": {
          "base_uri": "https://localhost:8080/",
          "height": 452
        },
        "id": "l3xbIEdmtY8j",
        "outputId": "54a644f7-52c2-497e-a145-e16bc50fcd32"
      },
      "execution_count": 8,
      "outputs": [
        {
          "output_type": "display_data",
          "data": {
            "text/plain": [
              "<Figure size 640x480 with 5 Axes>"
            ],
            "image/png": "[encoded data removed]"
          },
          "metadata": {}
        }
      ]
    },
    {
      "cell_type": "code",
      "source": [
        "for i in range(hidden_layer_size):\n",
        "    if i != 0:\n",
        "        x = activations[i-1]\n",
        "\n",
        "    w = weight_init('large')\n",
        "    a = np.dot(x, w)\n",
        "\n",
        "    # z = sigmoid(a)\n",
        "    # z = ReLU(a)\n",
        "    z = tanh(a)\n",
        "\n",
        "    activations[i] = z\n",
        "\n",
        "for i, a in activations.items():\n",
        "    plt.subplot(1, len(activations), i+1)\n",
        "    plt.title(str(i+1) + \"-layer\")\n",
        "    if i != 0: plt.yticks([], [])\n",
        "#     plt.xlim(0.1, 1)\n",
        "    plt.ylim(0, 7000)\n",
        "    plt.hist(a.flatten(), 30, range=(-1,1)) #a.flatten(): a를 1차원으로 flatten # 히스토그램의 막대(bin) 수 30개 #range=(-1,1): 히스토그램의 x축 범위 지정\n",
        "plt.show()"
      ],
      "metadata": {
        "colab": {
          "base_uri": "https://localhost:8080/",
          "height": 452
        },
        "id": "ABQEBoWbxRK8",
        "outputId": "23e4c34e-20b5-4a1d-b0fb-1c77421ebddd"
      },
      "execution_count": 10,
      "outputs": [
        {
          "output_type": "display_data",
          "data": {
            "text/plain": [
              "<Figure size 640x480 with 5 Axes>"
            ],
            "image/png": "[encoded data removed]"
          },
          "metadata": {}
        }
      ]
    },
    {
      "cell_type": "code",
      "source": [
        "# Xavier Initialization\n",
        "input_data = np.random.randn(1000, 100)\n",
        "node_num = 100\n",
        "hidden_layer_size = 5\n",
        "activations = {}\n",
        "\n",
        "x = input_data\n",
        "\n",
        "for i in range(hidden_layer_size):\n",
        "    if i != 0:\n",
        "        x = activations[i-1]\n",
        "\n",
        "    w = weight_init('xavier')\n",
        "    a = np.dot(x, w)\n",
        "\n",
        "    # z = sigmoid(a)\n",
        "    # z = ReLU(a)\n",
        "    z = tanh(a)\n",
        "\n",
        "    activations[i] = z\n",
        "\n",
        "for i, a in activations.items():\n",
        "    plt.subplot(1, len(activations), i+1)\n",
        "    plt.title(str(i+1) + \"-layer\")\n",
        "    if i != 0: plt.yticks([], [])\n",
        "#     plt.xlim(0.1, 1)\n",
        "    plt.ylim(0, 7000)\n",
        "    plt.hist(a.flatten(), 30, range=(-1,1))\n",
        "plt.show()"
      ],
      "metadata": {
        "colab": {
          "base_uri": "https://localhost:8080/",
          "height": 452
        },
        "id": "NRIvaJeTzCfi",
        "outputId": "0b29edd4-36dc-4a0c-b50c-60d401126d27"
      },
      "execution_count": 11,
      "outputs": [
        {
          "output_type": "display_data",
          "data": {
            "text/plain": [
              "<Figure size 640x480 with 5 Axes>"
            ],
            "image/png": "[encoded data removed]"
          },
          "metadata": {}
        }
      ]
    },
    {
      "cell_type": "code",
      "source": [
        "# He Initialization\n",
        "input_data = np.random.randn(1000, 100)\n",
        "node_num = 100\n",
        "hidden_layer_size = 5\n",
        "activations = {}\n",
        "\n",
        "x = input_data\n",
        "\n",
        "for i in range(hidden_layer_size):\n",
        "    if i != 0:\n",
        "        x = activations[i-1]\n",
        "\n",
        "    w = weight_init('xavier')\n",
        "    a = np.dot(x, w)\n",
        "\n",
        "    # z = sigmoid(a)\n",
        "    z = ReLU(a)\n",
        "    # z = tanh(a)\n",
        "\n",
        "    activations[i] = z\n",
        "\n",
        "for i, a in activations.items():\n",
        "    plt.subplot(1, len(activations), i+1)\n",
        "    plt.title(str(i+1) + \"-layer\")\n",
        "    if i != 0: plt.yticks([], [])\n",
        "#     plt.xlim(0.1, 1)\n",
        "    plt.ylim(0, 7000)\n",
        "    plt.hist(a.flatten(), 30, range=(0,1))\n",
        "plt.show()"
      ],
      "metadata": {
        "colab": {
          "base_uri": "https://localhost:8080/",
          "height": 452
        },
        "id": "csSFEHgF0YmP",
        "outputId": "18f1818a-cb32-4658-b883-34806cdcc8fc"
      },
      "execution_count": 12,
      "outputs": [
        {
          "output_type": "display_data",
          "data": {
            "text/plain": [
              "<Figure size 640x480 with 5 Axes>"
            ],
            "image/png": "[encoded data removed]"
          },
          "metadata": {}
        }
      ]
    },
    {
      "cell_type": "markdown",
      "source": [
        "3. CNN"
      ],
      "metadata": {
        "id": "D0Phl_171W30"
      }
    },
    {
      "cell_type": "code",
      "source": [
        "import torch\n",
        "import torch.nn as nn\n",
        "import torch.nn.functional as F\n",
        "\n",
        "class CNN(nn.Module):\n",
        "  def __init__(self):\n",
        "    super(CNN, self).__init__()\n",
        "    self.conv1 = nn.Conv2d(in_channels=1, out_channels=3, kernel_size=5, stride=1)\n",
        "    self.conv2 = nn.Conv2d(in_channels=3, out_channels=10, kernel_size=5, stride=1)\n",
        "    self.fc1 = nn.Linear(10 * 12 * 12, 50)\n",
        "    self.fc2 = nn.Linear(50, 10)\n",
        "\n",
        "  def forward(self, x):\n",
        "    print(\"Before\", x.size())\n",
        "    x = F.relu(self.conv1(x))\n",
        "    print(\"After conv1\", x.size())\n",
        "    x = F.relu(self.conv2(x))\n",
        "    print(\"After conv2\", x.size())\n",
        "    x = x.view(-1, 10 * 12 * 12)\n",
        "    print(\"Ater dimension reduction\", x.size())\n",
        "    x = F.relu(self.fc1(x))\n",
        "    print(\"After fc1\", x.size())\n",
        "    x = self.fc2(x)\n",
        "    print(\"After fc2\", x.size())\n",
        "    return x\n",
        "\n",
        "cnn = CNN()\n",
        "output = cnn(torch.randn(10, 1, 20, 20)) # input size"
      ],
      "metadata": {
        "colab": {
          "base_uri": "https://localhost:8080/"
        },
        "id": "0yKVLyyn1d35",
        "outputId": "fc815553-589c-4c52-96f3-f886e8db4d08"
      },
      "execution_count": 14,
      "outputs": [
        {
          "output_type": "stream",
          "name": "stdout",
          "text": [
            "Before torch.Size([10, 1, 20, 20])\n",
            "After conv1 torch.Size([10, 3, 16, 16])\n",
            "After conv2 torch.Size([10, 10, 12, 12])\n",
            "Ater dimension reduction torch.Size([10, 1440])\n",
            "After fc1 torch.Size([10, 50])\n",
            "After fc2 torch.Size([10, 10])\n"
          ]
        }
      ]
    },
    {
      "cell_type": "markdown",
      "source": [
        "* Input size [batch size, channel, height, width]\n",
        "\n",
        "\n",
        "* Conv1: [10, 1, 20, 20] -> [10. 3, 16, 16]\n",
        "\n",
        ", because Conv1's out channel size is 3, and kernel size is 5. (so the height and width each decreased by 4)\n",
        "\n",
        "* Conv2: [10, 3, 16, 16] -> [10, 10, 12, 12]\n",
        "\n",
        ", becuase Con2's out channel size is 10, and kernel size is 5\n",
        "\n",
        "* Dimesion reduction: [10, 10, 12, 12] -> [10, 1440]\n",
        "\n",
        ", because the number of channel remains 10 and view(-1, 10 * 12 * 12) flattens the tensor form a 4-dimensional shape to a 2-dimensinal shape, where each data point now corresponds to a vector of 1440 features.\n",
        "\n",
        "-1 is a special value that allows the function to automatically adjust the size of the remaining dimension.\n",
        "\n",
        "* Fc1: [10, 1440] -> [10, 50]\n",
        "\n",
        "\n",
        ", because fc1's output size is 50\n",
        "\n",
        "* Fc2: [10, 50] -> [10, 10]\n",
        "\n",
        ", because fc2's ouput size is 10"
      ],
      "metadata": {
        "id": "XCiLTQfo25Vk"
      }
    },
    {
      "cell_type": "code",
      "source": [
        "import torch\n",
        "import torch.nn as nn\n",
        "import torch.nn.functional as F\n",
        "\n",
        "class CNN(nn.Module):\n",
        "  def __init__(self):\n",
        "    super(CNN, self).__init__()\n",
        "    self.max_pool1 = nn.MaxPool2d(kernel_size=2)\n",
        "    self.max_pool2 = nn.MaxPool2d(kernel_size=2)\n",
        "    self.fc1 = nn.Linear(10 * 5 * 5, 50)\n",
        "    self.fc2 = nn.Linear(50, 10)\n",
        "\n",
        "  def forward(self, x):\n",
        "    print(\"Before\", x.size())\n",
        "    x = F.relu(self.max_pool1(x))\n",
        "    print(\"After max_pool1\", x.size())\n",
        "    x = F.relu(self.max_pool2(x))\n",
        "    print(\"After max_pool2\",x.size())\n",
        "    x = x.view(-1, 10 * 5 * 5)\n",
        "    print(\"After dimension reduction\", x.size())\n",
        "    x = F.relu(self.fc1(x))\n",
        "    print(\"After fc1\", x.size())\n",
        "    x = self.fc2(x)\n",
        "    print(\"After fc2\", x.size())\n",
        "    return x\n",
        "\n",
        "cnn = CNN()\n",
        "output = cnn(torch.randn(10, 1, 20, 20))"
      ],
      "metadata": {
        "colab": {
          "base_uri": "https://localhost:8080/"
        },
        "id": "TdClZ9085yiT",
        "outputId": "0d3b6069-9582-4b47-c546-cf0a98211574"
      },
      "execution_count": 18,
      "outputs": [
        {
          "output_type": "stream",
          "name": "stdout",
          "text": [
            "Before torch.Size([10, 1, 20, 20])\n",
            "After max_pool1 torch.Size([10, 1, 10, 10])\n",
            "After max_pool2 torch.Size([10, 1, 5, 5])\n",
            "After dimension reduction torch.Size([1, 250])\n",
            "After fc1 torch.Size([1, 50])\n",
            "After fc2 torch.Size([1, 10])\n"
          ]
        }
      ]
    },
    {
      "cell_type": "markdown",
      "source": [
        "* max_pool1: [10, 1, 20, 20] -> [10. 1, 10, 10]\n",
        "\n",
        "* max_pool2: [10, 1, 10, 10] -> [10, 1, 5, 5]\n",
        "\n",
        ", because max pooling reduces the height and width by half\n",
        "\n",
        "* Dimesion reduction: [10, 1, 5, 5] -> [1, 250]\n",
        "\n",
        ", because the number of channel remains 1, and viwe(-1, 10 * 5 * 5) flattens the tensor form a 4-dimensional shape to a 2-dimensinal shape, where each data point now corresponds to a vector of 250 features.\n",
        "\n",
        "\n",
        "* Fc1: [1, 250] -> [1, 50]\n",
        "\n",
        "\n",
        ", because fc1's output size is 50\n",
        "\n",
        "* Fc2: [10, 50] -> [10, 10]\n",
        "\n",
        ", because fc2's ouput size is 10"
      ],
      "metadata": {
        "id": "4-1C9UzI7u2R"
      }
    },
    {
      "cell_type": "code",
      "source": [
        "import torch\n",
        "import torch.nn as nn\n",
        "import torch.nn.functional as F\n",
        "import torch.optim as optim\n",
        "from torchvision import datasets, transforms"
      ],
      "metadata": {
        "id": "Ks4w44aH-4oy"
      },
      "execution_count": 19,
      "outputs": []
    },
    {
      "cell_type": "code",
      "source": [
        "train_data = datasets.MNIST('./data/.', train=True, download=True, transform=transforms.Compose([\n",
        "        transforms.ToTensor(),\n",
        "        transforms.Normalize((0.1307,), (0.3081,))\n",
        "    ]))\n",
        "train_loader = torch.utils.data.DataLoader(dataset=train_data, batch_size=50, shuffle=True)\n",
        "\n",
        "test_data = datasets.MNIST('./data/', train=False, transform=transforms.Compose([\n",
        "        transforms.ToTensor(),\n",
        "        transforms.Normalize((0.1307,), (0.3081,))\n",
        "    ]))\n",
        "test_loader = torch.utils.data.DataLoader(dataset=test_data, batch_size=50, shuffle=True)"
      ],
      "metadata": {
        "colab": {
          "base_uri": "https://localhost:8080/"
        },
        "id": "cCj3Dj7x_EWQ",
        "outputId": "9bc29876-dade-48d6-aab9-7ead743f3ac0"
      },
      "execution_count": 22,
      "outputs": [
        {
          "output_type": "stream",
          "name": "stdout",
          "text": [
            "Downloading http://yann.lecun.com/exdb/mnist/train-images-idx3-ubyte.gz\n",
            "Downloading http://yann.lecun.com/exdb/mnist/train-images-idx3-ubyte.gz to ./data/./MNIST/raw/train-images-idx3-ubyte.gz\n"
          ]
        },
        {
          "output_type": "stream",
          "name": "stderr",
          "text": [
            "100%|██████████| 9912422/9912422 [00:00<00:00, 163451595.35it/s]"
          ]
        },
        {
          "output_type": "stream",
          "name": "stdout",
          "text": [
            "Extracting ./data/./MNIST/raw/train-images-idx3-ubyte.gz to ./data/./MNIST/raw\n"
          ]
        },
        {
          "output_type": "stream",
          "name": "stderr",
          "text": [
            "\n"
          ]
        },
        {
          "output_type": "stream",
          "name": "stdout",
          "text": [
            "\n",
            "Downloading http://yann.lecun.com/exdb/mnist/train-labels-idx1-ubyte.gz\n",
            "Downloading http://yann.lecun.com/exdb/mnist/train-labels-idx1-ubyte.gz to ./data/./MNIST/raw/train-labels-idx1-ubyte.gz\n"
          ]
        },
        {
          "output_type": "stream",
          "name": "stderr",
          "text": [
            "100%|██████████| 28881/28881 [00:00<00:00, 44145661.01it/s]"
          ]
        },
        {
          "output_type": "stream",
          "name": "stdout",
          "text": [
            "Extracting ./data/./MNIST/raw/train-labels-idx1-ubyte.gz to ./data/./MNIST/raw\n",
            "\n",
            "Downloading http://yann.lecun.com/exdb/mnist/t10k-images-idx3-ubyte.gz\n",
            "Downloading http://yann.lecun.com/exdb/mnist/t10k-images-idx3-ubyte.gz to ./data/./MNIST/raw/t10k-images-idx3-ubyte.gz\n"
          ]
        },
        {
          "output_type": "stream",
          "name": "stderr",
          "text": [
            "\n",
            "100%|██████████| 1648877/1648877 [00:00<00:00, 47247440.81it/s]\n"
          ]
        },
        {
          "output_type": "stream",
          "name": "stdout",
          "text": [
            "Extracting ./data/./MNIST/raw/t10k-images-idx3-ubyte.gz to ./data/./MNIST/raw\n",
            "\n",
            "Downloading http://yann.lecun.com/exdb/mnist/t10k-labels-idx1-ubyte.gz\n",
            "Downloading http://yann.lecun.com/exdb/mnist/t10k-labels-idx1-ubyte.gz to ./data/./MNIST/raw/t10k-labels-idx1-ubyte.gz\n"
          ]
        },
        {
          "output_type": "stream",
          "name": "stderr",
          "text": [
            "100%|██████████| 4542/4542 [00:00<00:00, 21261750.86it/s]\n"
          ]
        },
        {
          "output_type": "stream",
          "name": "stdout",
          "text": [
            "Extracting ./data/./MNIST/raw/t10k-labels-idx1-ubyte.gz to ./data/./MNIST/raw\n",
            "\n"
          ]
        }
      ]
    },
    {
      "cell_type": "code",
      "source": [
        "class CNN(nn.Module):\n",
        "    def __init__(self):\n",
        "        super(CNN, self).__init__()\n",
        "        self.conv1 = nn.Conv2d(in_channels=1, out_channels=20, kernel_size=5, stride=1)\n",
        "        self.conv2 = nn.Conv2d(in_channels=20, out_channels=50, kernel_size=5, stride=1)\n",
        "        self.fc1 = nn.Linear(4 * 4 * 50, 500)\n",
        "        self.fc2 = nn.Linear(500, 10)\n",
        "\n",
        "    def forward(self, x):\n",
        "        x = F.relu(self.conv1(x))\n",
        "        x = F.max_pool2d(x, kernel_size=2, stride=2)\n",
        "        x = F.relu(self.conv2(x))\n",
        "        x = F.max_pool2d(x, kernel_size=2, stride=2)\n",
        "\n",
        "        x = x.view(-1, 4 * 4 * 50) # [batch_size, 50, 4, 4]\n",
        "        x = F.relu(self.fc1(x))\n",
        "        x = self.fc2(x)\n",
        "        return x"
      ],
      "metadata": {
        "id": "AXyIclyQA6L2"
      },
      "execution_count": 25,
      "outputs": []
    },
    {
      "cell_type": "code",
      "source": [
        "cnn = CNN()\n",
        "criterion = torch.nn.CrossEntropyLoss()\n",
        "optimizer = optim.SGD(cnn.parameters(), lr=0.01)"
      ],
      "metadata": {
        "id": "lLN3iKc2B_dy"
      },
      "execution_count": 27,
      "outputs": []
    },
    {
      "cell_type": "code",
      "source": [
        "cnn.train()\n",
        "for epoch in range(10):\n",
        "  for index, (data, target) in enumerate(train_loader):\n",
        "    optimizer.zero_grad()\n",
        "    output = cnn(data)\n",
        "    loss = criterion(output, target)\n",
        "    loss.backward()\n",
        "    optimizer.step()\n",
        "\n",
        "    if index % 100 == 0:\n",
        "      print(\"loss of {} epoch, {} index : {}\".format(epoch, index,loss.item()))"
      ],
      "metadata": {
        "colab": {
          "base_uri": "https://localhost:8080/"
        },
        "id": "_8bvFs9kCWLi",
        "outputId": "f69f22a7-3b70-4e8d-ea2f-0be54505d67b"
      },
      "execution_count": 28,
      "outputs": [
        {
          "output_type": "stream",
          "name": "stdout",
          "text": [
            "loss of 0 epoch, 0 index : 2.2956647872924805\n",
            "loss of 0 epoch, 100 index : 1.2183887958526611\n",
            "loss of 0 epoch, 200 index : 0.4595516622066498\n",
            "loss of 0 epoch, 300 index : 0.35710254311561584\n",
            "loss of 0 epoch, 400 index : 0.21703235805034637\n",
            "loss of 0 epoch, 500 index : 0.33062079548835754\n",
            "loss of 0 epoch, 600 index : 0.3517047166824341\n",
            "loss of 0 epoch, 700 index : 0.22104772925376892\n",
            "loss of 0 epoch, 800 index : 0.13680344820022583\n",
            "loss of 0 epoch, 900 index : 0.2125152051448822\n",
            "loss of 0 epoch, 1000 index : 0.20757120847702026\n",
            "loss of 0 epoch, 1100 index : 0.16271203756332397\n",
            "loss of 1 epoch, 0 index : 0.03939054161310196\n",
            "loss of 1 epoch, 100 index : 0.16770271956920624\n",
            "loss of 1 epoch, 200 index : 0.01395329087972641\n",
            "loss of 1 epoch, 300 index : 0.26823925971984863\n",
            "loss of 1 epoch, 400 index : 0.05891585350036621\n",
            "loss of 1 epoch, 500 index : 0.2279970794916153\n",
            "loss of 1 epoch, 600 index : 0.0819949060678482\n",
            "loss of 1 epoch, 700 index : 0.06393706798553467\n",
            "loss of 1 epoch, 800 index : 0.05562800541520119\n",
            "loss of 1 epoch, 900 index : 0.1283131241798401\n",
            "loss of 1 epoch, 1000 index : 0.2271292358636856\n",
            "loss of 1 epoch, 1100 index : 0.02336714416742325\n",
            "loss of 2 epoch, 0 index : 0.09192515164613724\n",
            "loss of 2 epoch, 100 index : 0.07116662710905075\n",
            "loss of 2 epoch, 200 index : 0.04180918261408806\n",
            "loss of 2 epoch, 300 index : 0.03875037282705307\n",
            "loss of 2 epoch, 400 index : 0.09660748392343521\n",
            "loss of 2 epoch, 500 index : 0.07936214655637741\n",
            "loss of 2 epoch, 600 index : 0.03058379329741001\n",
            "loss of 2 epoch, 700 index : 0.13804492354393005\n",
            "loss of 2 epoch, 800 index : 0.02707742154598236\n",
            "loss of 2 epoch, 900 index : 0.12206898629665375\n",
            "loss of 2 epoch, 1000 index : 0.29608362913131714\n",
            "loss of 2 epoch, 1100 index : 0.04452885687351227\n",
            "loss of 3 epoch, 0 index : 0.019074110314249992\n",
            "loss of 3 epoch, 100 index : 0.07825914025306702\n",
            "loss of 3 epoch, 200 index : 0.07972303032875061\n",
            "loss of 3 epoch, 300 index : 0.056902505457401276\n",
            "loss of 3 epoch, 400 index : 0.07913075387477875\n",
            "loss of 3 epoch, 500 index : 0.0802992507815361\n",
            "loss of 3 epoch, 600 index : 0.008703160099685192\n",
            "loss of 3 epoch, 700 index : 0.02738194726407528\n",
            "loss of 3 epoch, 800 index : 0.11654525995254517\n",
            "loss of 3 epoch, 900 index : 0.024959241971373558\n",
            "loss of 3 epoch, 1000 index : 0.18019704520702362\n",
            "loss of 3 epoch, 1100 index : 0.0762038454413414\n",
            "loss of 4 epoch, 0 index : 0.1378551721572876\n",
            "loss of 4 epoch, 100 index : 0.04405520111322403\n",
            "loss of 4 epoch, 200 index : 0.14350858330726624\n",
            "loss of 4 epoch, 300 index : 0.20807509124279022\n",
            "loss of 4 epoch, 400 index : 0.14683593809604645\n",
            "loss of 4 epoch, 500 index : 0.016660436987876892\n",
            "loss of 4 epoch, 600 index : 0.011133960448205471\n",
            "loss of 4 epoch, 700 index : 0.05249636247754097\n",
            "loss of 4 epoch, 800 index : 0.01169481873512268\n",
            "loss of 4 epoch, 900 index : 0.04657130688428879\n",
            "loss of 4 epoch, 1000 index : 0.028740812093019485\n",
            "loss of 4 epoch, 1100 index : 0.09867916256189346\n",
            "loss of 5 epoch, 0 index : 0.02529425360262394\n",
            "loss of 5 epoch, 100 index : 0.07661142945289612\n",
            "loss of 5 epoch, 200 index : 0.025030802935361862\n",
            "loss of 5 epoch, 300 index : 0.006669895723462105\n",
            "loss of 5 epoch, 400 index : 0.0216422900557518\n",
            "loss of 5 epoch, 500 index : 0.01383615005761385\n",
            "loss of 5 epoch, 600 index : 0.021189972758293152\n",
            "loss of 5 epoch, 700 index : 0.05402969941496849\n",
            "loss of 5 epoch, 800 index : 0.03249736875295639\n",
            "loss of 5 epoch, 900 index : 0.04665288329124451\n",
            "loss of 5 epoch, 1000 index : 0.03574565798044205\n",
            "loss of 5 epoch, 1100 index : 0.00906936451792717\n",
            "loss of 6 epoch, 0 index : 0.09883726388216019\n",
            "loss of 6 epoch, 100 index : 0.008165035396814346\n",
            "loss of 6 epoch, 200 index : 0.008943632245063782\n",
            "loss of 6 epoch, 300 index : 0.005733040627092123\n",
            "loss of 6 epoch, 400 index : 0.05509980022907257\n",
            "loss of 6 epoch, 500 index : 0.005204170476645231\n",
            "loss of 6 epoch, 600 index : 0.07283684611320496\n",
            "loss of 6 epoch, 700 index : 0.018300926312804222\n",
            "loss of 6 epoch, 800 index : 0.00850739423185587\n",
            "loss of 6 epoch, 900 index : 0.07544243335723877\n",
            "loss of 6 epoch, 1000 index : 0.013089876621961594\n",
            "loss of 6 epoch, 1100 index : 0.008960342966020107\n",
            "loss of 7 epoch, 0 index : 0.03744279965758324\n",
            "loss of 7 epoch, 100 index : 0.009425919502973557\n",
            "loss of 7 epoch, 200 index : 0.005646350793540478\n",
            "loss of 7 epoch, 300 index : 0.03165457397699356\n",
            "loss of 7 epoch, 400 index : 0.020540498197078705\n",
            "loss of 7 epoch, 500 index : 0.0107854213565588\n",
            "loss of 7 epoch, 600 index : 0.017047762870788574\n",
            "loss of 7 epoch, 700 index : 0.014935164712369442\n",
            "loss of 7 epoch, 800 index : 0.014131225645542145\n",
            "loss of 7 epoch, 900 index : 0.03145124763250351\n",
            "loss of 7 epoch, 1000 index : 0.0209383275359869\n",
            "loss of 7 epoch, 1100 index : 0.005943938624113798\n",
            "loss of 8 epoch, 0 index : 0.058933325111866\n",
            "loss of 8 epoch, 100 index : 0.01721099205315113\n",
            "loss of 8 epoch, 200 index : 0.01616656966507435\n",
            "loss of 8 epoch, 300 index : 0.008106421679258347\n",
            "loss of 8 epoch, 400 index : 0.034241653978824615\n",
            "loss of 8 epoch, 500 index : 0.047878194600343704\n",
            "loss of 8 epoch, 600 index : 0.008650488220155239\n",
            "loss of 8 epoch, 700 index : 0.12309680879116058\n",
            "loss of 8 epoch, 800 index : 0.012850985862314701\n",
            "loss of 8 epoch, 900 index : 0.04249061271548271\n",
            "loss of 8 epoch, 1000 index : 0.006396319717168808\n",
            "loss of 8 epoch, 1100 index : 0.02346670813858509\n",
            "loss of 9 epoch, 0 index : 0.017279362305998802\n",
            "loss of 9 epoch, 100 index : 0.002889254130423069\n",
            "loss of 9 epoch, 200 index : 0.08442092686891556\n",
            "loss of 9 epoch, 300 index : 0.0035962434485554695\n",
            "loss of 9 epoch, 400 index : 0.004561292473226786\n",
            "loss of 9 epoch, 500 index : 0.020921163260936737\n",
            "loss of 9 epoch, 600 index : 0.008282965049147606\n",
            "loss of 9 epoch, 700 index : 0.030934041365981102\n",
            "loss of 9 epoch, 800 index : 0.027271537110209465\n",
            "loss of 9 epoch, 900 index : 0.008355836383998394\n",
            "loss of 9 epoch, 1000 index : 0.0036033284850418568\n",
            "loss of 9 epoch, 1100 index : 0.016636880114674568\n"
          ]
        }
      ]
    },
    {
      "cell_type": "code",
      "source": [
        "cnn.eval() # CNN 모델을 평가모드로 설정(ex. dropout과 같은 정규화 기법이 비활성화됨)\n",
        "test_loss = 0\n",
        "correct = 0 # 테스트 손실 test_loss 및 정확도 correct를 추적하기 위한 변수를 초기화\n",
        "with torch.no_grad(): # 이 블록 내에서 gradient 계산이 비활성화됨\n",
        "  for data, target in test_loader: # test_lloader를 사용하여 test dataset의 batch를 반복\n",
        "     output = cnn(data) #CNN 모델에 입력 데이터'data'를 전달하여 모델의 output 얻어냄\n",
        "     test_loss += criterion(output, target).item() # 손실함수'criterion' 사용하여 손실계산하고 test_loss에 누적\n",
        "     pred = output.argmax(dim=1, keepdim=True) # 각 sample에 대한 예측 class 를 얻어냄. # argmax(dim=1): 두 번째 차원에서 최댓값의 index를 반환\n",
        "     correct += pred.eq(target.view_as(pred)).sum().item() # 예측 클래스와 실제 레이블을 비교하여 정확하게 분류된 sample의 수를 누\n",
        "  print('\\nTest set: Average loss:[:,4f], Accuracy: {}/{} ({:.0f}%)\\n'.format(\n",
        "          test_loss, correct, len(test_loader.dataset),\n",
        "          100. * correct / len(test_loader.dataset))) # 반복이 끝난 후 test set 에 대한 평균 손실과 정확도를 출력"
      ],
      "metadata": {
        "colab": {
          "base_uri": "https://localhost:8080/"
        },
        "id": "nPBdWjevCWGo",
        "outputId": "7b666f8c-399c-4d2c-837f-86c867abbbe8"
      },
      "execution_count": 29,
      "outputs": [
        {
          "output_type": "stream",
          "name": "stdout",
          "text": [
            "\n",
            "Test set: Average loss:[:,4f], Accuracy: 8.32133934093872/9863 (10000%)\n",
            "\n"
          ]
        }
      ]
    }
  ]
}