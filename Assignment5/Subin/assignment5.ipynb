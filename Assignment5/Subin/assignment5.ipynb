{
  "nbformat": 4,
  "nbformat_minor": 0,
  "metadata": {
    "colab": {
      "provenance": []
    },
    "kernelspec": {
      "name": "python3",
      "display_name": "Python 3"
    },
    "language_info": {
      "name": "python"
    }
  },
  "cells": [
    {
      "cell_type": "markdown",
      "source": [
        "## 1. Batch Normalization\n",
        "\n",
        "\n"
      ],
      "metadata": {
        "id": "qM2kM5G7BYZr"
      }
    },
    {
      "cell_type": "markdown",
      "source": [
        "*    Reference. https://huangdi.tistory.com/m/9, https://wegonnamakeit.tistory.com/m/47, https://wikidocs.net/195419\n",
        "*    For https://huangdi.tistory.com/m/9, try to understand the need for Batch Normalization. (The code is not running properly due to the github issues)"
      ],
      "metadata": {
        "id": "l-eq03krP21I"
      }
    },
    {
      "cell_type": "code",
      "source": [
        " # DO NOT run this code!!\n",
        "# nn layers\n",
        "linear1 = torch.nn.Linear(784, 32, bias=True)\n",
        "linear2 = torch.nn.Linear(32, 32, bias=True)\n",
        "linear3 = torch.nn.Linear(32, 10, bias=True)\n",
        "\n",
        "relu = torch.nn.ReLU()\n",
        "bn1 = torch.nn.BatchNorm1d(32) # Batch Normalization for 1D data\n",
        "bn2 = torch.nn.BatchNorm1d(32)\n",
        "\n",
        "nn_linear1 = torch.nn.Linear(784, 32, bias=True)\n",
        "nn_linear2 = torch.nn.Linear(32, 32, bias=True) nn_linear3 = torch.nn.Linear(32, 10, bias=True)\n",
        "\n",
        "\n",
        "# model\n",
        "# torch.nn.Seqeuntial is kind of a \"stack\" operation of layers\n",
        "# We usually apply ReLU after the BN, but it's not a must!\n",
        "bn_model = torch.nn.Sequential(linear1, bn1, relu,\n",
        "                              linear2, bn2, relu,\n",
        "                              linear3).to(device)\n",
        "# Model w.o. BN\n",
        "# Linear + ReLU is a convention\n",
        "nn_model = torch.nn.Sequential(nn_linear1, relu,\n",
        "                               nn_linear2, relu,\n",
        "                               nn_linear3).to(device)"
      ],
      "metadata": {
        "id": "Q7_JWyTWKoyT"
      },
      "execution_count": null,
      "outputs": []
    },
    {
      "cell_type": "code",
      "source": [
        "# If not using torch.nn.Sequential, you can use class module!\n",
        "\n",
        "import torch.nn as nn\n",
        "\n",
        "class Model(nn.Module):\n",
        "    def __init__(self):\n",
        "        super(Model, self).__init__()\n",
        "        # in __init__, initialize the layers you'd like to use\n",
        "        self.fc1 = nn.Linear(100, 50)\n",
        "        self.bn = nn.BatchNorm1d(num_features=50)\n",
        "        self.relu = nn.ReLU()\n",
        "        self.fc2 = nn.Linear(50, 10)\n",
        "\n",
        "    def forward(self, x):\n",
        "        # in forward, place the layers sequentially\n",
        "        x = self.fc1(x)\n",
        "        x = self.bn(x)\n",
        "        x = self.relu(x)\n",
        "        x = self.fc2(x)\n",
        "        return x"
      ],
      "metadata": {
        "id": "k6bdnbKmK-ZC"
      },
      "execution_count": null,
      "outputs": []
    },
    {
      "cell_type": "code",
      "source": [
        "# BN 1D\n",
        "m = nn.BatchNorm1d(100)\n",
        "input = torch.randn(20, 100)\n",
        "output = m(input)\n",
        "\n",
        "# BN 2D\n",
        "# So far, we've only used BN 1D\n",
        "# But what's BN 2D??\n",
        "m = nn.BatchNorm2d(100)\n",
        "input = torch.randn(20, 100, 35, 45)\n",
        "output = m(input)"
      ],
      "metadata": {
        "id": "mh9UvwnlK-3G"
      },
      "execution_count": null,
      "outputs": []
    },
    {
      "cell_type": "markdown",
      "source": [
        "### Question 1. Compare & Contrast BatchNorm1d and Batchnorm2d\n",
        "*     Hint: https://gaussian37.github.io/dl-concept-batchnorm/, https://pytorch.org/docs/stable/generated/torch.nn.BatchNorm1d.html, and https://pytorch.org/docs/stable/generated/torch.nn.BatchNorm2d.html"
      ],
      "metadata": {
        "id": "JtrlgMOov47e"
      }
    },
    {
      "cell_type": "markdown",
      "source": [
        "BatchNorm1d와 BatchNorm2d는 input data와 output data의 dimension에서 차이가 있다.\n",
        "BatchNorm1d는 데이터의 dimension이 1이고, BatchNorm2d는 data의 dimension이 2이다.\n",
        "따라서 코드로 input과 output을 표현할 때 그 형태에서도 차이가 발생한다.\n",
        "\n",
        "BatchNorm1d의 경우 input data와 output data가 (N, C)또는 (N, C, L)의 형태로 나타나고, BatchNorm2d의 경우에는 input data와 output data가 (N, C, H, W)의 형태로 나타난다.\n",
        "여기서 N은 배치의 크기, C는 channel의 개수, L은 length, H는 height, W는 width를 의미한다."
      ],
      "metadata": {
        "id": "hHn2aRO1qSPn"
      }
    },
    {
      "cell_type": "markdown",
      "source": [
        "## 2. Weight Initialization\n",
        "\n",
        "*   Reference. https://ysg2997.tistory.com/14, https://m.blog.naver.com/PostView.naver?blogId=tinz6461&logNo=221599717016&proxyReferer="
      ],
      "metadata": {
        "id": "1BgQvGP205Tf"
      }
    },
    {
      "cell_type": "code",
      "source": [
        "import torch\n",
        "import torch.nn as nn\n",
        "import torch.nn.init as init"
      ],
      "metadata": {
        "id": "dgxRjABUI1sv"
      },
      "execution_count": 1,
      "outputs": []
    },
    {
      "cell_type": "code",
      "source": [
        "# Quick Question\n",
        "# Read the document above and write a line-by-line\n",
        "# explanation of the code below."
      ],
      "metadata": {
        "id": "0gyoVqzlceii"
      },
      "execution_count": null,
      "outputs": []
    },
    {
      "cell_type": "code",
      "source": [
        "class CNN(nn.Module):\n",
        "    def __init__(self):\n",
        "        super(CNN,self).__init__()\n",
        "        self.layer = nn.Sequential(\n",
        "            nn.Conv2d(1,16,3,padding=1),\n",
        "            # input channel의 개수 : 1, output channel의 개수 : 16, kernel size : 3x3, padding 적용\n",
        "            nn.ReLU(),  # activation function : ReLU after convolutional layer\n",
        "            nn.Conv2d(16,32,3,padding=1),\n",
        "            # input channel의 개수 : 16, output channel의 개수 : 32, kernel size : 3x3, padding 적용\n",
        "            nn.ReLU(),  # activation function : ReLU after convolutional layer\n",
        "            nn.MaxPool2d(2,2),  # 2x2 filter를 이용해 max pooling -> data size가 1/4로 감소\n",
        "            nn.Conv2d(32,64,3,padding=1),\n",
        "            # input channel의 개수 : 32, output channel의 개수 : 64, kernel size : 3x3, padding 적용\n",
        "            nn.ReLU(),  # activation function : ReLU after convolutional layer\n",
        "            nn.MaxPool2d(2,2)   # 2x2 filter를 이용해 max pooling -> data size가 1/4로 감소\n",
        "        )\n",
        "        self.fc_layer = nn.Sequential(\n",
        "            nn.Linear(64*7*7,100),\n",
        "            # fully connected layer\n",
        "            # input size 64*7*7(channel의 개수 64개, 전 단계의 output size : 7x7 by max pooling), output size : 100\n",
        "            nn.ReLU(),   # activation function : ReLU after fully connected layer\n",
        "            nn.Linear(100,10)\n",
        "            # fully connected layer\n",
        "            # input size 100, output size : 10\n",
        "        )\n",
        "\n",
        "        if isinstance(m, nn.Conv2d):  # 만약 nn.Conv2d 모듈이라면\n",
        "\n",
        "                init.kaiming_normal_(m.weight.data)  # weight를 kaiming he normal을 이용해 initialize\n",
        "                m.bias.data.fill_(0)  # bias는 0으로 initialize\n",
        "\n",
        "        elif isinstance(m, nn.Linear):  # 만약 nn.Linear 모듈이라면\n",
        "\n",
        "                init.kaiming_normal_(m.weight.data)  # weight를 kaiming he normal을 이용해 initialize\n",
        "                m.bias.data.fill_(0)  # bias는 0으로 initialize\n",
        "\n",
        "    def forward(self,x):  # forward pass\n",
        "        out = self.layer(x)  # convoultional layer\n",
        "        out = out.view(batch_size,-1)  # 이전 단계의 output data를 flatten\n",
        "        out = self.fc_layer(out) # fully connected layer\n",
        "        return out"
      ],
      "metadata": {
        "id": "P8ULcApY1FIY"
      },
      "execution_count": 11,
      "outputs": []
    },
    {
      "cell_type": "code",
      "source": [
        "# Quick Question\n",
        "# Read the document above and briefly explain the code below."
      ],
      "metadata": {
        "id": "8ajqLBL6dnAj"
      },
      "execution_count": null,
      "outputs": []
    },
    {
      "cell_type": "code",
      "source": [
        "import tensorflow as tf\n",
        "import random\n",
        "import numpy as np\n",
        "import matplotlib.pyplot as plt\n",
        "\n",
        "# sigmoid\n",
        "def sigmoid(x):\n",
        "    return 1 / (1 + np.exp(-x))\n",
        "\n",
        "# ReLU\n",
        "def ReLU(x):\n",
        "    return np.maximum(0, x)\n",
        "\n",
        "# tanh\n",
        "def tanh(x):\n",
        "    return np.tanh(x)\n",
        "\n",
        "def weight_init(method=None):\n",
        "    w = 0\n",
        "    if method == 'large':\n",
        "        w = np.random.randn(node_num, node_num) * 1\n",
        "    elif method == 'small':\n",
        "        w = np.random.randn(node_num, node_num) * 0.01\n",
        "    elif method == 'xavier':\n",
        "        w = np.random.randn(node_num, node_num) * np.sqrt(1.0 / node_num)  # Xavier init\n",
        "    elif method == 'he':\n",
        "        w = np.random.randn(node_num, node_num) * np.sqrt(2.0 / node_num)  # He init\n",
        "\n",
        "    return w"
      ],
      "metadata": {
        "id": "6J-FjScBKF7y"
      },
      "execution_count": 12,
      "outputs": []
    },
    {
      "cell_type": "code",
      "source": [
        "input_data = np.random.randn(1000, 100)\n",
        "node_num = 100\n",
        "hidden_layer_size = 5\n",
        "activations = {}\n",
        "\n",
        "x = input_data\n",
        "\n",
        "for i in range(hidden_layer_size):\n",
        "    if i != 0:\n",
        "        x = activations[i-1]\n",
        "\n",
        "    w = weight_init('small')\n",
        "    a = np.dot(x, w)\n",
        "\n",
        "    # z = sigmoid(a)\n",
        "    # z = ReLU(a)\n",
        "    z = tanh(a)\n",
        "\n",
        "    activations[i] = z\n",
        "\n",
        "for i, a in activations.items():\n",
        "    plt.subplot(1, len(activations), i+1)\n",
        "    plt.title(str(i+1) + \"-layer\")\n",
        "    if i != 0: plt.yticks([], [])\n",
        "#     plt.xlim(0.1, 1)\n",
        "    plt.ylim(0, 8000)\n",
        "    plt.hist(a.flatten(), 30, range=(-1,1))\n",
        "plt.show()"
      ],
      "metadata": {
        "id": "elzVHh2FKHa2",
        "colab": {
          "base_uri": "https://localhost:8080/",
          "height": 452
        },
        "outputId": "c1ae52dd-8e50-49a6-8358-33b00dab7597"
      },
      "execution_count": 13,
      "outputs": [
        {
          "output_type": "display_data",
          "data": {
            "text/plain": [
              "<Figure size 640x480 with 5 Axes>"
            ],
            "image/png": "[encoded data removed]"
          },
          "metadata": {}
        }
      ]
    },
    {
      "cell_type": "markdown",
      "source": [
        "위의 코드는 activation function을 tanh로 설정한 경우를 나타낸다.\n",
        "input data는 1000개의 sample과 100개의 feature로 구성되어 있고 각 layer의 노드의 개수는 100개, hidden layer의 개수는 5개이다.\n",
        "이 때, weight initialization은 \"small\" method를 사용한다.\n",
        "아래의 histogram plotting을 확인해보면 두번째 layer부터 모든 output값이 0으로 출력되는 것을 확인할 수 있다. 따라서 학습이 제대로 진행되지 않는다.\n"
      ],
      "metadata": {
        "id": "w8ppntoYJzST"
      }
    },
    {
      "cell_type": "code",
      "source": [
        "for i in range(hidden_layer_size):\n",
        "    if i != 0:\n",
        "        x = activations[i-1]\n",
        "\n",
        "    w = weight_init('large')\n",
        "    a = np.dot(x, w)\n",
        "\n",
        "    # z = sigmoid(a)\n",
        "    # z = ReLU(a)\n",
        "    z = tanh(a)\n",
        "\n",
        "    activations[i] = z\n",
        "\n",
        "for i, a in activations.items():\n",
        "    plt.subplot(1, len(activations), i+1)\n",
        "    plt.title(str(i+1) + \"-layer\")\n",
        "    if i != 0: plt.yticks([], [])\n",
        "#     plt.xlim(0.1, 1)\n",
        "    plt.ylim(0, 7000)\n",
        "    plt.hist(a.flatten(), 30, range=(-1,1))\n",
        "plt.show()"
      ],
      "metadata": {
        "id": "a91BiqWZKHCJ",
        "colab": {
          "base_uri": "https://localhost:8080/",
          "height": 452
        },
        "outputId": "57808abd-41f2-427e-e310-8c26e0cb9b40"
      },
      "execution_count": 14,
      "outputs": [
        {
          "output_type": "display_data",
          "data": {
            "text/plain": [
              "<Figure size 640x480 with 5 Axes>"
            ],
            "image/png": "[encoded data removed]"
          },
          "metadata": {}
        }
      ]
    },
    {
      "cell_type": "markdown",
      "source": [
        "위의 경우도 마찬가지로 activation function으로 tanh를 적용한다. 이 때 weight initialization은 \"large\" method를 이용하는데 결과를 확인해보면 layer가 진행될수록 output 값이 -1과 1에 몰린다는 것을 알 수 있는데 이 경우에는 gradient 값이 0에 가까워져 vanishing gradient problem이 발생할 수 있다.\n"
      ],
      "metadata": {
        "id": "WEV7dOgQNugW"
      }
    },
    {
      "cell_type": "code",
      "source": [
        "# Xavier Initialization\n",
        "input_data = np.random.randn(1000, 100)\n",
        "node_num = 100\n",
        "hidden_layer_size = 5\n",
        "activations = {}\n",
        "\n",
        "x = input_data\n",
        "\n",
        "for i in range(hidden_layer_size):\n",
        "    if i != 0:\n",
        "        x = activations[i-1]\n",
        "\n",
        "    w = weight_init('xavier')\n",
        "    a = np.dot(x, w)\n",
        "\n",
        "    # z = sigmoid(a)\n",
        "    # z = ReLU(a)\n",
        "    z = tanh(a)\n",
        "\n",
        "    activations[i] = z\n",
        "\n",
        "for i, a in activations.items():\n",
        "    plt.subplot(1, len(activations), i+1)\n",
        "    plt.title(str(i+1) + \"-layer\")\n",
        "    if i != 0: plt.yticks([], [])\n",
        "#     plt.xlim(0.1, 1)\n",
        "    plt.ylim(0, 7000)\n",
        "    plt.hist(a.flatten(), 30, range=(-1,1))\n",
        "plt.show()"
      ],
      "metadata": {
        "id": "mXBo8IINKUjp",
        "colab": {
          "base_uri": "https://localhost:8080/",
          "height": 452
        },
        "outputId": "a7a3f280-ef56-41b3-93b0-2cfb7d4bd6cb"
      },
      "execution_count": 15,
      "outputs": [
        {
          "output_type": "display_data",
          "data": {
            "text/plain": [
              "<Figure size 640x480 with 5 Axes>"
            ],
            "image/png": "[encoded data removed]"
          },
          "metadata": {}
        }
      ]
    },
    {
      "cell_type": "markdown",
      "source": [
        "다음의 경우도 이전의 두가지 경우와 마찬가지로 activation function으로 tanh를 적용한다. 이 때 weight initialization의 method로 Xavier initialization을 사용하는데 결과 값들을 확인해보면 (-1, 1) 범위 내에서 이전의 경우보다 고르게 분포하는 것을 알 수 있다. 따라서 이 경우 더 유의미한 학습이 가능해진다.\n"
      ],
      "metadata": {
        "id": "YrcaHvoqQNnC"
      }
    },
    {
      "cell_type": "code",
      "source": [
        "# He Initialization\n",
        "input_data = np.random.randn(1000, 100)\n",
        "node_num = 100\n",
        "hidden_layer_size = 5\n",
        "activations = {}\n",
        "\n",
        "x = input_data\n",
        "\n",
        "for i in range(hidden_layer_size):\n",
        "    if i != 0:\n",
        "        x = activations[i-1]\n",
        "\n",
        "    w = weight_init('xavier')\n",
        "    a = np.dot(x, w)\n",
        "\n",
        "    # z = sigmoid(a)\n",
        "    z = ReLU(a)\n",
        "    # z = tanh(a)\n",
        "\n",
        "    activations[i] = z\n",
        "\n",
        "for i, a in activations.items():\n",
        "    plt.subplot(1, len(activations), i+1)\n",
        "    plt.title(str(i+1) + \"-layer\")\n",
        "    if i != 0: plt.yticks([], [])\n",
        "#     plt.xlim(0.1, 1)\n",
        "    plt.ylim(0, 7000)\n",
        "    plt.hist(a.flatten(), 30, range=(0,1))\n",
        "plt.show()"
      ],
      "metadata": {
        "id": "O-eTjk0mKYJN",
        "colab": {
          "base_uri": "https://localhost:8080/",
          "height": 452
        },
        "outputId": "f4051909-fd3b-4ecf-e7f5-058007dcc87c"
      },
      "execution_count": 16,
      "outputs": [
        {
          "output_type": "display_data",
          "data": {
            "text/plain": [
              "<Figure size 640x480 with 5 Axes>"
            ],
            "image/png": "[encoded data removed]"
          },
          "metadata": {}
        }
      ]
    },
    {
      "cell_type": "markdown",
      "source": [
        "위의 경우에는 이전의 경우들과는 다르게 acticvation function으로 ReLU를 사용함을 알 수 있다. ReLU를 사용할 때 weight initialization으로 Xavier initialiaztion을 사용하면 deep한 layer로 갈수록 출력 값이 0에 가까워지는 것을 확인할 수 있다. 따라서 이 경우에는 weight initialization 으로 He initialization method를 사용한다.\n",
        "출력된 output data를 확인해보면 Xavier initialization을 사용할 때보다 더 고르게 분포하고 있는 것을 확인할 수 있다."
      ],
      "metadata": {
        "id": "EbxCDoRfR7RR"
      }
    },
    {
      "cell_type": "markdown",
      "source": [
        "## 3. CNN\n",
        "*     Reference. https://justkode.kr/deep-learning/pytorch-cnn/"
      ],
      "metadata": {
        "id": "RHoAQdMP1L4b"
      }
    },
    {
      "cell_type": "code",
      "source": [
        "## GPU (Optional)\n",
        "# 런타임 - 런타임 유형 변경 - T4 GPU\n",
        "# !nvidia-smi"
      ],
      "metadata": {
        "id": "PSqnwiKKH_-x"
      },
      "execution_count": null,
      "outputs": []
    },
    {
      "cell_type": "code",
      "source": [
        "# Question\n",
        "# Run two cells below and try to explain the\n",
        "# change of tensor size after passing through the layers\n",
        "# e.g.) Conv1: [10, 1, 20, 20] -> [10, 3, 16, 16], because --"
      ],
      "metadata": {
        "id": "rBRJM0HOfOVM"
      },
      "execution_count": null,
      "outputs": []
    },
    {
      "cell_type": "code",
      "source": [
        "import torch\n",
        "import torch.nn as nn\n",
        "import torch.nn.functional as F\n",
        "\n",
        "class CNN(nn.Module):\n",
        "  def __init__(self):\n",
        "    super(CNN, self).__init__()\n",
        "    self.conv1 = nn.Conv2d(in_channels=1, out_channels=3, kernel_size=5, stride=1)\n",
        "    self.conv2 = nn.Conv2d(in_channels=3, out_channels=10, kernel_size=5, stride=1)\n",
        "    self.fc1 = nn.Linear(10 * 12 * 12, 50)\n",
        "    self.fc2 = nn.Linear(50, 10)\n",
        "\n",
        "  def forward(self, x):\n",
        "    print(\"Before\", x.size())\n",
        "    x = F.relu(self.conv1(x))\n",
        "    print(\"After conv1\", x.size())\n",
        "    x = F.relu(self.conv2(x))\n",
        "    print(\"After conv2\",x.size())\n",
        "    x = x.view(-1, 10 * 12 * 12)\n",
        "    print(\"After dimension reduction\", x.size())\n",
        "    x = F.relu(self.fc1(x))\n",
        "    print(\"After fc1\", x.size())\n",
        "    x = self.fc2(x)\n",
        "    print(\"After fc2\", x.size())\n",
        "    return x\n",
        "\n",
        "cnn = CNN()\n",
        "output = cnn(torch.randn(10, 1, 20, 20))  # Input Size: (10, 1, 20, 20)"
      ],
      "metadata": {
        "id": "1nudN6YK1PS_",
        "colab": {
          "base_uri": "https://localhost:8080/"
        },
        "outputId": "173015b8-89c9-4245-8a5f-7e67b5d8acdc"
      },
      "execution_count": 1,
      "outputs": [
        {
          "output_type": "stream",
          "name": "stdout",
          "text": [
            "Before torch.Size([10, 1, 20, 20])\n",
            "After conv1 torch.Size([10, 3, 16, 16])\n",
            "After conv2 torch.Size([10, 10, 12, 12])\n",
            "After dimension reduction torch.Size([10, 1440])\n",
            "After fc1 torch.Size([10, 50])\n",
            "After fc2 torch.Size([10, 10])\n"
          ]
        }
      ]
    },
    {
      "cell_type": "markdown",
      "source": [
        "batch size : 10\n",
        "\n",
        "after convolution 1 : channel의 개수가 3개로 바뀌고, 원래 20x20 size의 데이터에서 5x5 kernel로 1칸씩 이동하면서 convolution을 진행하기 때문에 output data의 size가 16x16으로 변한다.\n",
        "\n",
        "after convolution 2 : channel의 개수가 10개로 바뀌고, conv1과 마찬가지로 5x5 kernel로 한 칸씩 이동하면서 convolution을 진행하므로 데이터의 size가 16x16에서 12x12로 바뀐다.\n",
        "\n",
        "after fc1 : 이전 단계에서의 데이터가 12x12 size, 10 channel이므로 이를 flatten 하면 데이터의 size가 12x12x10=1440 이 된다. 따라서 이 데이터들이 fully connected layer를 지나면 size가 50으로 변한다.\n",
        "\n",
        "after fc2 : 데이터의 size가 50 -> 10 으로 변한다.\n"
      ],
      "metadata": {
        "id": "9ftMqhUfTR-J"
      }
    },
    {
      "cell_type": "code",
      "source": [
        "import torch\n",
        "import torch.nn as nn\n",
        "import torch.nn.functional as F\n",
        "\n",
        "class CNN(nn.Module):\n",
        "  def __init__(self):\n",
        "    super(CNN, self).__init__()\n",
        "    self.max_pool1 = nn.MaxPool2d(kernel_size=2)\n",
        "    self.max_pool2 = nn.MaxPool2d(kernel_size=2)\n",
        "    self.fc1 = nn.Linear(10 * 5 * 5, 50)\n",
        "    self.fc2 = nn.Linear(50, 10)\n",
        "\n",
        "  def forward(self, x):\n",
        "    print(\"Before\", x.size())\n",
        "    x = F.relu(self.max_pool1(x))\n",
        "    print(\"After max_pool1\", x.size())\n",
        "    x = F.relu(self.max_pool2(x))\n",
        "    print(\"After max_pool2\",x.size())\n",
        "    x = x.view(-1, 10 * 5 * 5)\n",
        "    print(\"After dimension reduction\", x.size())\n",
        "    x = F.relu(self.fc1(x))\n",
        "    print(\"After fc1\", x.size())\n",
        "    x = self.fc2(x)\n",
        "    print(\"After fc2\", x.size())\n",
        "    return x\n",
        "\n",
        "cnn = CNN()\n",
        "output = cnn(torch.randn(10, 1, 20, 20))"
      ],
      "metadata": {
        "id": "aObCDbls1SId",
        "colab": {
          "base_uri": "https://localhost:8080/"
        },
        "outputId": "d0e217ed-627b-4441-f358-00fd09cae26b"
      },
      "execution_count": 18,
      "outputs": [
        {
          "output_type": "stream",
          "name": "stdout",
          "text": [
            "Before torch.Size([10, 1, 20, 20])\n",
            "After max_pool1 torch.Size([10, 1, 10, 10])\n",
            "After max_pool2 torch.Size([10, 1, 5, 5])\n",
            "After dimension reduction torch.Size([1, 250])\n",
            "After fc1 torch.Size([1, 50])\n",
            "After fc2 torch.Size([1, 10])\n"
          ]
        }
      ]
    },
    {
      "cell_type": "markdown",
      "source": [
        "batch size : 10\n",
        "\n",
        "after max_pool1 : 20x20 size 데이터를 2x2 kernel을 이용해 max pooling 하므로 width와 height 모두 1/2만큼 감소하여 10x10 으로 변한다.\n",
        "\n",
        "after max_pool2 : 마찬가지로 10x10 size 데이터를 2x2 kernel을 이용해 max pooling 하므로 width와 height 모두 1/2만큼 감소하여 5x5 로 변한다.\n",
        "\n",
        "after fc1 : flatten한 10* 5 *5 size input data가 size 50의 output data로 출력된다.\n",
        "\n",
        "after fc2 : size 50의 input data가 size 10의 output data로 출력된다."
      ],
      "metadata": {
        "id": "tsDL6Bg-XSMK"
      }
    },
    {
      "cell_type": "code",
      "source": [
        "import torch\n",
        "import torch.nn as nn\n",
        "import torch.nn.functional as F\n",
        "import torch.optim as optim\n",
        "from torchvision import datasets, transforms"
      ],
      "metadata": {
        "id": "zCg8EJLdE_8a"
      },
      "execution_count": 3,
      "outputs": []
    },
    {
      "cell_type": "code",
      "source": [
        "train_data = datasets.MNIST('./data/', train=True, download=True, transform=transforms.Compose([\n",
        "        transforms.ToTensor(),\n",
        "        transforms.Normalize((0.1307,), (0.3081,))\n",
        "    ]))\n",
        "train_loader = torch.utils.data.DataLoader(dataset=train_data, batch_size=50, shuffle=True)\n",
        "\n",
        "test_data = datasets.MNIST('./data/', train=False, transform=transforms.Compose([\n",
        "        transforms.ToTensor(),\n",
        "        transforms.Normalize((0.1307,), (0.3081,))\n",
        "    ]))\n",
        "test_loader = torch.utils.data.DataLoader(dataset=test_data, batch_size=50, shuffle=True)"
      ],
      "metadata": {
        "id": "YmVVkwqfVS__",
        "colab": {
          "base_uri": "https://localhost:8080/"
        },
        "outputId": "69522085-0ef1-48cc-c786-dfdd90c66c96"
      },
      "execution_count": 4,
      "outputs": [
        {
          "output_type": "stream",
          "name": "stdout",
          "text": [
            "Downloading http://yann.lecun.com/exdb/mnist/train-images-idx3-ubyte.gz\n",
            "Downloading http://yann.lecun.com/exdb/mnist/train-images-idx3-ubyte.gz to ./data/MNIST/raw/train-images-idx3-ubyte.gz\n"
          ]
        },
        {
          "output_type": "stream",
          "name": "stderr",
          "text": [
            "100%|██████████| 9912422/9912422 [00:00<00:00, 110292688.43it/s]\n"
          ]
        },
        {
          "output_type": "stream",
          "name": "stdout",
          "text": [
            "Extracting ./data/MNIST/raw/train-images-idx3-ubyte.gz to ./data/MNIST/raw\n",
            "\n",
            "Downloading http://yann.lecun.com/exdb/mnist/train-labels-idx1-ubyte.gz\n",
            "Downloading http://yann.lecun.com/exdb/mnist/train-labels-idx1-ubyte.gz to ./data/MNIST/raw/train-labels-idx1-ubyte.gz\n"
          ]
        },
        {
          "output_type": "stream",
          "name": "stderr",
          "text": [
            "100%|██████████| 28881/28881 [00:00<00:00, 41385614.56it/s]\n"
          ]
        },
        {
          "output_type": "stream",
          "name": "stdout",
          "text": [
            "Extracting ./data/MNIST/raw/train-labels-idx1-ubyte.gz to ./data/MNIST/raw\n",
            "\n",
            "Downloading http://yann.lecun.com/exdb/mnist/t10k-images-idx3-ubyte.gz\n",
            "Downloading http://yann.lecun.com/exdb/mnist/t10k-images-idx3-ubyte.gz to ./data/MNIST/raw/t10k-images-idx3-ubyte.gz\n"
          ]
        },
        {
          "output_type": "stream",
          "name": "stderr",
          "text": [
            "100%|██████████| 1648877/1648877 [00:00<00:00, 32053928.00it/s]\n"
          ]
        },
        {
          "output_type": "stream",
          "name": "stdout",
          "text": [
            "Extracting ./data/MNIST/raw/t10k-images-idx3-ubyte.gz to ./data/MNIST/raw\n",
            "\n",
            "Downloading http://yann.lecun.com/exdb/mnist/t10k-labels-idx1-ubyte.gz\n",
            "Downloading http://yann.lecun.com/exdb/mnist/t10k-labels-idx1-ubyte.gz to ./data/MNIST/raw/t10k-labels-idx1-ubyte.gz\n"
          ]
        },
        {
          "output_type": "stream",
          "name": "stderr",
          "text": [
            "100%|██████████| 4542/4542 [00:00<00:00, 12566311.85it/s]\n"
          ]
        },
        {
          "output_type": "stream",
          "name": "stdout",
          "text": [
            "Extracting ./data/MNIST/raw/t10k-labels-idx1-ubyte.gz to ./data/MNIST/raw\n",
            "\n"
          ]
        }
      ]
    },
    {
      "cell_type": "code",
      "source": [
        "class CNN(nn.Module):\n",
        "    def __init__(self):\n",
        "        super(CNN, self).__init__()\n",
        "        self.conv1 = nn.Conv2d(in_channels=1, out_channels=20, kernel_size=5, stride=1)\n",
        "        self.conv2 = nn.Conv2d(in_channels=20, out_channels=50, kernel_size=5, stride=1)\n",
        "        self.fc1 = nn.Linear(4 * 4 * 50, 500)\n",
        "        self.fc2 = nn.Linear(500, 10)\n",
        "\n",
        "    def forward(self, x):\n",
        "        x = F.relu(self.conv1(x))\n",
        "        x = F.max_pool2d(x, kernel_size=2, stride=2)\n",
        "        x = F.relu(self.conv2(x))\n",
        "        x = F.max_pool2d(x, kernel_size=2, stride=2)\n",
        "\n",
        "        x = x.view(-1, 4 * 4 * 50) # [batch_size, 50, 4, 4]\n",
        "        x = F.relu(self.fc1(x))\n",
        "        x = self.fc2(x)\n",
        "        return x"
      ],
      "metadata": {
        "id": "GP9NJ03qVS6N"
      },
      "execution_count": 5,
      "outputs": []
    },
    {
      "cell_type": "code",
      "source": [
        "cnn = CNN()\n",
        "criterion = torch.nn.CrossEntropyLoss()\n",
        "optimizer = optim.SGD(cnn.parameters(), lr=0.01)"
      ],
      "metadata": {
        "id": "x4gAjLBrVS1J"
      },
      "execution_count": 6,
      "outputs": []
    },
    {
      "cell_type": "code",
      "source": [
        "cnn.train()\n",
        "for epoch in range(10):\n",
        "  for index, (data, target) in enumerate(train_loader):\n",
        "    optimizer.zero_grad()\n",
        "    output = cnn(data)\n",
        "    loss = criterion(output, target)\n",
        "    loss.backward()\n",
        "    optimizer.step()\n",
        "\n",
        "    if index % 100 == 0:\n",
        "      print(\"loss of {} epoch, {} index : {}\".format(epoch, index, loss.item()))"
      ],
      "metadata": {
        "id": "A4jpLlXQVSv1",
        "colab": {
          "base_uri": "https://localhost:8080/"
        },
        "outputId": "9ed4ac87-dd35-4709-f255-867a50bb5779"
      },
      "execution_count": 7,
      "outputs": [
        {
          "output_type": "stream",
          "name": "stdout",
          "text": [
            "loss of 0 epoch, 0 index : 2.337834596633911\n",
            "loss of 0 epoch, 100 index : 1.4022881984710693\n",
            "loss of 0 epoch, 200 index : 0.6617715954780579\n",
            "loss of 0 epoch, 300 index : 0.4858523905277252\n",
            "loss of 0 epoch, 400 index : 0.24446001648902893\n",
            "loss of 0 epoch, 500 index : 0.20340698957443237\n",
            "loss of 0 epoch, 600 index : 0.354933500289917\n",
            "loss of 0 epoch, 700 index : 0.22202137112617493\n",
            "loss of 0 epoch, 800 index : 0.13983085751533508\n",
            "loss of 0 epoch, 900 index : 0.32436829805374146\n",
            "loss of 0 epoch, 1000 index : 0.06300205737352371\n",
            "loss of 0 epoch, 1100 index : 0.149437814950943\n",
            "loss of 1 epoch, 0 index : 0.16289804875850677\n",
            "loss of 1 epoch, 100 index : 0.2089798003435135\n",
            "loss of 1 epoch, 200 index : 0.08067529648542404\n",
            "loss of 1 epoch, 300 index : 0.21360327303409576\n",
            "loss of 1 epoch, 400 index : 0.13393406569957733\n",
            "loss of 1 epoch, 500 index : 0.07715371996164322\n",
            "loss of 1 epoch, 600 index : 0.09117954969406128\n",
            "loss of 1 epoch, 700 index : 0.05972639098763466\n",
            "loss of 1 epoch, 800 index : 0.1020570918917656\n",
            "loss of 1 epoch, 900 index : 0.2483278065919876\n",
            "loss of 1 epoch, 1000 index : 0.2590923011302948\n",
            "loss of 1 epoch, 1100 index : 0.04893796145915985\n",
            "loss of 2 epoch, 0 index : 0.08612047135829926\n",
            "loss of 2 epoch, 100 index : 0.0735558420419693\n",
            "loss of 2 epoch, 200 index : 0.1169949546456337\n",
            "loss of 2 epoch, 300 index : 0.058523379266262054\n",
            "loss of 2 epoch, 400 index : 0.21386535465717316\n",
            "loss of 2 epoch, 500 index : 0.01912769302725792\n",
            "loss of 2 epoch, 600 index : 0.056019820272922516\n",
            "loss of 2 epoch, 700 index : 0.06851045787334442\n",
            "loss of 2 epoch, 800 index : 0.057531461119651794\n",
            "loss of 2 epoch, 900 index : 0.07170222699642181\n",
            "loss of 2 epoch, 1000 index : 0.2086772918701172\n",
            "loss of 2 epoch, 1100 index : 0.05002162605524063\n",
            "loss of 3 epoch, 0 index : 0.053231507539749146\n",
            "loss of 3 epoch, 100 index : 0.015901049599051476\n",
            "loss of 3 epoch, 200 index : 0.010009603574872017\n",
            "loss of 3 epoch, 300 index : 0.08509790152311325\n",
            "loss of 3 epoch, 400 index : 0.06835782527923584\n",
            "loss of 3 epoch, 500 index : 0.10244329273700714\n",
            "loss of 3 epoch, 600 index : 0.008997844532132149\n",
            "loss of 3 epoch, 700 index : 0.04349587485194206\n",
            "loss of 3 epoch, 800 index : 0.050530027598142624\n",
            "loss of 3 epoch, 900 index : 0.020928354933857918\n",
            "loss of 3 epoch, 1000 index : 0.02496153675019741\n",
            "loss of 3 epoch, 1100 index : 0.12713508307933807\n",
            "loss of 4 epoch, 0 index : 0.05050857365131378\n",
            "loss of 4 epoch, 100 index : 0.11413127928972244\n",
            "loss of 4 epoch, 200 index : 0.04523338004946709\n",
            "loss of 4 epoch, 300 index : 0.02981914021074772\n",
            "loss of 4 epoch, 400 index : 0.033880867063999176\n",
            "loss of 4 epoch, 500 index : 0.05414402112364769\n",
            "loss of 4 epoch, 600 index : 0.060835495591163635\n",
            "loss of 4 epoch, 700 index : 0.009455183520913124\n",
            "loss of 4 epoch, 800 index : 0.19344083964824677\n",
            "loss of 4 epoch, 900 index : 0.04889461025595665\n",
            "loss of 4 epoch, 1000 index : 0.06184761971235275\n",
            "loss of 4 epoch, 1100 index : 0.020231099799275398\n",
            "loss of 5 epoch, 0 index : 0.11852222681045532\n",
            "loss of 5 epoch, 100 index : 0.143410786986351\n",
            "loss of 5 epoch, 200 index : 0.08114705234766006\n",
            "loss of 5 epoch, 300 index : 0.03288419544696808\n",
            "loss of 5 epoch, 400 index : 0.007718243636190891\n",
            "loss of 5 epoch, 500 index : 0.020465455949306488\n",
            "loss of 5 epoch, 600 index : 0.029772240668535233\n",
            "loss of 5 epoch, 700 index : 0.017728786915540695\n",
            "loss of 5 epoch, 800 index : 0.012901184149086475\n",
            "loss of 5 epoch, 900 index : 0.07540485262870789\n",
            "loss of 5 epoch, 1000 index : 0.05531425029039383\n",
            "loss of 5 epoch, 1100 index : 0.024140948429703712\n",
            "loss of 6 epoch, 0 index : 0.1008460596203804\n",
            "loss of 6 epoch, 100 index : 0.03351244330406189\n",
            "loss of 6 epoch, 200 index : 0.04894411936402321\n",
            "loss of 6 epoch, 300 index : 0.04498608410358429\n",
            "loss of 6 epoch, 400 index : 0.004101261030882597\n",
            "loss of 6 epoch, 500 index : 0.014482871629297733\n",
            "loss of 6 epoch, 600 index : 0.035603880882263184\n",
            "loss of 6 epoch, 700 index : 0.02849724143743515\n",
            "loss of 6 epoch, 800 index : 0.003256557509303093\n",
            "loss of 6 epoch, 900 index : 0.0027276042383164167\n",
            "loss of 6 epoch, 1000 index : 0.0077202036045491695\n",
            "loss of 6 epoch, 1100 index : 0.05079043284058571\n",
            "loss of 7 epoch, 0 index : 0.015468272380530834\n",
            "loss of 7 epoch, 100 index : 0.010636352002620697\n",
            "loss of 7 epoch, 200 index : 0.10262033343315125\n",
            "loss of 7 epoch, 300 index : 0.08982338011264801\n",
            "loss of 7 epoch, 400 index : 0.0033052400685846806\n",
            "loss of 7 epoch, 500 index : 0.05217268317937851\n",
            "loss of 7 epoch, 600 index : 0.003454960649833083\n",
            "loss of 7 epoch, 700 index : 0.01785874553024769\n",
            "loss of 7 epoch, 800 index : 0.04166059195995331\n",
            "loss of 7 epoch, 900 index : 0.10255923122167587\n",
            "loss of 7 epoch, 1000 index : 0.010645706206560135\n",
            "loss of 7 epoch, 1100 index : 0.07174624502658844\n",
            "loss of 8 epoch, 0 index : 0.05888079106807709\n",
            "loss of 8 epoch, 100 index : 0.02708500623703003\n",
            "loss of 8 epoch, 200 index : 0.01902111805975437\n",
            "loss of 8 epoch, 300 index : 0.017444102093577385\n",
            "loss of 8 epoch, 400 index : 0.003228486981242895\n",
            "loss of 8 epoch, 500 index : 0.03193547576665878\n",
            "loss of 8 epoch, 600 index : 0.022974373772740364\n",
            "loss of 8 epoch, 700 index : 0.022017205134034157\n",
            "loss of 8 epoch, 800 index : 0.08325744420289993\n",
            "loss of 8 epoch, 900 index : 0.04131723567843437\n",
            "loss of 8 epoch, 1000 index : 0.015239980071783066\n",
            "loss of 8 epoch, 1100 index : 0.005935242865234613\n",
            "loss of 9 epoch, 0 index : 0.0031829082872718573\n",
            "loss of 9 epoch, 100 index : 0.015203920193016529\n",
            "loss of 9 epoch, 200 index : 0.01424658577889204\n",
            "loss of 9 epoch, 300 index : 0.012288910336792469\n",
            "loss of 9 epoch, 400 index : 0.016837161034345627\n",
            "loss of 9 epoch, 500 index : 0.014439471065998077\n",
            "loss of 9 epoch, 600 index : 0.1822146475315094\n",
            "loss of 9 epoch, 700 index : 0.03647460415959358\n",
            "loss of 9 epoch, 800 index : 0.012600931338965893\n",
            "loss of 9 epoch, 900 index : 0.020466649904847145\n",
            "loss of 9 epoch, 1000 index : 0.042656153440475464\n",
            "loss of 9 epoch, 1100 index : 0.054843124002218246\n"
          ]
        }
      ]
    },
    {
      "cell_type": "code",
      "source": [
        "# Quick Question\n",
        "# Write an explanation of the code below (evaluation cell only!)"
      ],
      "metadata": {
        "id": "lVuY2ZregO9h"
      },
      "execution_count": null,
      "outputs": []
    },
    {
      "cell_type": "code",
      "source": [
        "cnn.eval()\n",
        "test_loss = 0\n",
        "correct = 0\n",
        "with torch.no_grad():\n",
        "  for data, target in test_loader:\n",
        "    output = cnn(data)\n",
        "    test_loss += criterion(output, target).item()\n",
        "    pred = output.argmax(dim=1, keepdim=True)\n",
        "    correct += pred.eq(target.view_as(pred)).sum().item()\n",
        "print('\\nTest set: Average loss: {:.4f}, Accuracy: {}/{} ({:.0f}%)\\n'.format(\n",
        "        test_loss, correct, len(test_loader.dataset),\n",
        "        100. * correct / len(test_loader.dataset)))"
      ],
      "metadata": {
        "id": "HzNEM_SzVecD",
        "colab": {
          "base_uri": "https://localhost:8080/"
        },
        "outputId": "1d54fa78-f8bb-4fc8-9ce9-4d8955b5cfd8"
      },
      "execution_count": 8,
      "outputs": [
        {
          "output_type": "stream",
          "name": "stdout",
          "text": [
            "\n",
            "Test set: Average loss: 7.1707, Accuracy: 9879/10000 (99%)\n",
            "\n"
          ]
        }
      ]
    },
    {
      "cell_type": "markdown",
      "source": [
        "test data를 통해 evaluation을 진행한다. evaluation을 통해 계산한 test loss와 accuracy를 쌓기 위해 초기의 test_loss값과 correct 값을 0으로 initialize한다. evaluation을 진행할 때는 gradient 계산을 하지 않는다. cnn 계산을 통해 test data에 대한 output 값을 출력하고 이를 target 값과 비교하여 test_loss와 correct 값을 계산한다. 이후 계산한 loss 값의 평균과 accuracy 를 출력한다."
      ],
      "metadata": {
        "id": "S0C5VBw21RgP"
      }
    },
    {
      "cell_type": "code",
      "source": [
        "# Question (optional)\n",
        "# Try to adjust the hyperparameters (kernel size, # of conv layers, ...)\n",
        "# and get better results than the baseline (default) model!!"
      ],
      "metadata": {
        "id": "BsiXvSCx21ur"
      },
      "execution_count": 18,
      "outputs": []
    },
    {
      "cell_type": "markdown",
      "source": [
        "조금 해봤는데 자꾸 accuracy가 더 작게 나와서... 조금 더 해보고 더 좋은 hyperparameter를 찾으면 다시 올리겠습니다...!"
      ],
      "metadata": {
        "id": "QWUt8dHQIRbZ"
      }
    }
  ]
}