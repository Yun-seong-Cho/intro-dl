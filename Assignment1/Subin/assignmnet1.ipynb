{
  "nbformat": 4,
  "nbformat_minor": 0,
  "metadata": {
    "colab": {
      "provenance": []
    },
    "kernelspec": {
      "name": "python3",
      "display_name": "Python 3"
    },
    "language_info": {
      "name": "python"
    }
  },
  "cells": [
    {
      "cell_type": "markdown",
      "source": [
        "### Question 1. How can I move to the directory I want using the library os & Linux Command?\n",
        "\n",
        "\n",
        "*   I'd like to move to the directory name '/content/sample_data'."
      ],
      "metadata": {
        "id": "JtrlgMOov47e"
      }
    },
    {
      "cell_type": "code",
      "source": [
        "import os"
      ],
      "metadata": {
        "id": "8-egIMLkkDeT"
      },
      "execution_count": null,
      "outputs": []
    },
    {
      "cell_type": "code",
      "source": [
        "os.getcwd()"
      ],
      "metadata": {
        "colab": {
          "base_uri": "https://localhost:8080/",
          "height": 35
        },
        "id": "DHcdkWAzkHWZ",
        "outputId": "7b551a2a-9932-4337-9c96-7b51aae53adc"
      },
      "execution_count": null,
      "outputs": [
        {
          "output_type": "execute_result",
          "data": {
            "text/plain": [
              "'/content'"
            ],
            "application/vnd.google.colaboratory.intrinsic+json": {
              "type": "string"
            }
          },
          "metadata": {},
          "execution_count": 3
        }
      ]
    },
    {
      "cell_type": "code",
      "source": [
        "os.chdir('/content/sample_data')"
      ],
      "metadata": {
        "id": "NorLSPQ2kVvG"
      },
      "execution_count": null,
      "outputs": []
    },
    {
      "cell_type": "code",
      "source": [
        "os.mkdir('temp')"
      ],
      "metadata": {
        "id": "oY1pPOZ_kbpq"
      },
      "execution_count": null,
      "outputs": []
    },
    {
      "cell_type": "code",
      "source": [
        "os.listdir(os.getcwd())"
      ],
      "metadata": {
        "colab": {
          "base_uri": "https://localhost:8080/"
        },
        "id": "UkmvUlXwktRu",
        "outputId": "fc0b0636-51b5-4acb-b8bf-356ca7d4023c"
      },
      "execution_count": null,
      "outputs": [
        {
          "output_type": "execute_result",
          "data": {
            "text/plain": [
              "['anscombe.json',\n",
              " 'README.md',\n",
              " 'temp',\n",
              " 'california_housing_train.csv',\n",
              " 'mnist_train_small.csv',\n",
              " 'mnist_test.csv',\n",
              " 'california_housing_test.csv']"
            ]
          },
          "metadata": {},
          "execution_count": 7
        }
      ]
    },
    {
      "cell_type": "code",
      "source": [
        "len(os.listdir(os.getcwd()))"
      ],
      "metadata": {
        "colab": {
          "base_uri": "https://localhost:8080/"
        },
        "id": "EzG9IOLflUvg",
        "outputId": "a5ea84dc-15bb-4926-db43-f026c4ddce9a"
      },
      "execution_count": null,
      "outputs": [
        {
          "output_type": "execute_result",
          "data": {
            "text/plain": [
              "7"
            ]
          },
          "metadata": {},
          "execution_count": 8
        }
      ]
    },
    {
      "cell_type": "code",
      "source": [
        "# (2) cd\n"
      ],
      "metadata": {
        "id": "CJ4oHU5GOQ_1"
      },
      "execution_count": null,
      "outputs": []
    },
    {
      "cell_type": "code",
      "source": [
        "!pwd"
      ],
      "metadata": {
        "colab": {
          "base_uri": "https://localhost:8080/"
        },
        "id": "jsOOfn77lc1H",
        "outputId": "0f2c1058-535b-4a68-86bb-83e6a93e5fc2"
      },
      "execution_count": null,
      "outputs": [
        {
          "output_type": "stream",
          "name": "stdout",
          "text": [
            "/content/sample_data\n"
          ]
        }
      ]
    },
    {
      "cell_type": "code",
      "source": [
        "!ls -l"
      ],
      "metadata": {
        "colab": {
          "base_uri": "https://localhost:8080/"
        },
        "id": "3ivkyFvklerU",
        "outputId": "97740597-e782-4471-86f3-875466dc23a6"
      },
      "execution_count": null,
      "outputs": [
        {
          "output_type": "stream",
          "name": "stdout",
          "text": [
            "total 55508\n",
            "-rwxr-xr-x 1 root root     1697 Jan  1  2000 anscombe.json\n",
            "-rw-r--r-- 1 root root   301141 Dec 19 14:20 california_housing_test.csv\n",
            "-rw-r--r-- 1 root root  1706430 Dec 19 14:20 california_housing_train.csv\n",
            "-rw-r--r-- 1 root root 18289443 Dec 19 14:20 mnist_test.csv\n",
            "-rw-r--r-- 1 root root 36523880 Dec 19 14:20 mnist_train_small.csv\n",
            "-rwxr-xr-x 1 root root      930 Jan  1  2000 README.md\n",
            "drwxr-xr-x 2 root root     4096 Dec 28 03:58 temp\n"
          ]
        }
      ]
    },
    {
      "cell_type": "code",
      "source": [
        "%cd /content/sample_data"
      ],
      "metadata": {
        "colab": {
          "base_uri": "https://localhost:8080/"
        },
        "id": "O45pZWIXl4W1",
        "outputId": "8c59db7f-5b18-4e42-e72e-c7430e83dea2"
      },
      "execution_count": null,
      "outputs": [
        {
          "output_type": "stream",
          "name": "stdout",
          "text": [
            "/content\n"
          ]
        }
      ]
    },
    {
      "cell_type": "markdown",
      "source": [
        "### Question 2. Please write a code that copies new.txt with a file name new3.txt.\n",
        "*   Directory: /content/drive/MyDrive/intro-dl/afhq/new_folder\n",
        "\n"
      ],
      "metadata": {
        "id": "ZN3mS0mBe_uM"
      }
    },
    {
      "cell_type": "code",
      "source": [
        "from google.colab import drive\n",
        "drive.mount('/content/drive')"
      ],
      "metadata": {
        "colab": {
          "base_uri": "https://localhost:8080/"
        },
        "id": "oFadMW5gk6rs",
        "outputId": "58cff68e-142d-4047-8a01-5a4a3bbd6e3f"
      },
      "execution_count": null,
      "outputs": [
        {
          "output_type": "stream",
          "name": "stdout",
          "text": [
            "Drive already mounted at /content/drive; to attempt to forcibly remount, call drive.mount(\"/content/drive\", force_remount=True).\n"
          ]
        }
      ]
    },
    {
      "cell_type": "code",
      "source": [
        "import shutil"
      ],
      "metadata": {
        "id": "dVUFHKAVmG93"
      },
      "execution_count": null,
      "outputs": []
    },
    {
      "cell_type": "code",
      "source": [
        "os.chdir('/content/drive/MyDrive/intro-dl/afhq')"
      ],
      "metadata": {
        "id": "GdD2H0gpmKLQ"
      },
      "execution_count": null,
      "outputs": []
    },
    {
      "cell_type": "code",
      "source": [
        "!ls -l"
      ],
      "metadata": {
        "colab": {
          "base_uri": "https://localhost:8080/"
        },
        "id": "kTEIu972mP_M",
        "outputId": "84038e06-8519-4254-f625-636bd5fdae64"
      },
      "execution_count": null,
      "outputs": [
        {
          "output_type": "stream",
          "name": "stdout",
          "text": [
            "total 12\n",
            "drwx------ 3 root root 4096 Dec 28 04:14 new_folder\n",
            "drwx------ 2 root root 4096 Dec 27 05:18 train\n",
            "drwx------ 2 root root 4096 Dec 27 05:21 val\n"
          ]
        }
      ]
    },
    {
      "cell_type": "code",
      "source": [
        "f = open(\"new.txt\", 'w')\n",
        "f.close()"
      ],
      "metadata": {
        "id": "UzmAovinmY6I"
      },
      "execution_count": null,
      "outputs": []
    },
    {
      "cell_type": "code",
      "source": [
        "!ls -l"
      ],
      "metadata": {
        "colab": {
          "base_uri": "https://localhost:8080/"
        },
        "id": "HV52NoK3mbkM",
        "outputId": "1cebc5a4-2b4c-4683-b175-2636a19267db"
      },
      "execution_count": null,
      "outputs": [
        {
          "output_type": "stream",
          "name": "stdout",
          "text": [
            "total 12\n",
            "drwx------ 3 root root 4096 Dec 28 04:14 new_folder\n",
            "-rw------- 1 root root    0 Dec 28 04:15 new.txt\n",
            "drwx------ 2 root root 4096 Dec 27 05:18 train\n",
            "drwx------ 2 root root 4096 Dec 27 05:21 val\n"
          ]
        }
      ]
    },
    {
      "cell_type": "code",
      "source": [
        "!mkdir new_folder"
      ],
      "metadata": {
        "colab": {
          "base_uri": "https://localhost:8080/"
        },
        "id": "4w3v0rhhmeXv",
        "outputId": "7bbfb059-e7a7-405c-dd35-e0b785ded875"
      },
      "execution_count": null,
      "outputs": [
        {
          "output_type": "stream",
          "name": "stdout",
          "text": [
            "mkdir: cannot create directory ‘new_folder’: File exists\n"
          ]
        }
      ]
    },
    {
      "cell_type": "code",
      "source": [
        "!ls -l"
      ],
      "metadata": {
        "colab": {
          "base_uri": "https://localhost:8080/"
        },
        "id": "zNEUD-UKmj_C",
        "outputId": "2370405b-80bb-4aed-8ebe-443249910cde"
      },
      "execution_count": null,
      "outputs": [
        {
          "output_type": "stream",
          "name": "stdout",
          "text": [
            "total 12\n",
            "drwx------ 3 root root 4096 Dec 28 04:14 new_folder\n",
            "-rw------- 1 root root    0 Dec 28 04:15 new.txt\n",
            "drwx------ 2 root root 4096 Dec 27 05:18 train\n",
            "drwx------ 2 root root 4096 Dec 27 05:21 val\n"
          ]
        }
      ]
    },
    {
      "cell_type": "code",
      "source": [
        "src = '/content/drive/MyDrive/intro-dl/afhq/new.txt'\n",
        "dst = '/content/drive/MyDrive/intro-dl/afhq/new_folder/new.txt'"
      ],
      "metadata": {
        "id": "goLFm2Zlmk77"
      },
      "execution_count": null,
      "outputs": []
    },
    {
      "cell_type": "code",
      "source": [
        "shutil.move(src, dst)"
      ],
      "metadata": {
        "colab": {
          "base_uri": "https://localhost:8080/",
          "height": 35
        },
        "id": "wXw8-W5amp4w",
        "outputId": "b82fc263-95d7-41fc-9bab-48dfe75cecba"
      },
      "execution_count": null,
      "outputs": [
        {
          "output_type": "execute_result",
          "data": {
            "text/plain": [
              "'/content/drive/MyDrive/intro-dl/afhq/new_folder/new.txt'"
            ],
            "application/vnd.google.colaboratory.intrinsic+json": {
              "type": "string"
            }
          },
          "metadata": {},
          "execution_count": 49
        }
      ]
    },
    {
      "cell_type": "code",
      "source": [
        "%cd /content/drive/MyDrive/intro-dl/afhq/new_folder"
      ],
      "metadata": {
        "colab": {
          "base_uri": "https://localhost:8080/"
        },
        "id": "MSXW8i-Wmz8j",
        "outputId": "1a15b7e7-0c4b-4af3-8dc0-c419cfb87640"
      },
      "execution_count": null,
      "outputs": [
        {
          "output_type": "stream",
          "name": "stdout",
          "text": [
            "/content/drive/MyDrive/intro-dl/afhq/new_folder\n"
          ]
        }
      ]
    },
    {
      "cell_type": "code",
      "source": [
        "!ls -l"
      ],
      "metadata": {
        "colab": {
          "base_uri": "https://localhost:8080/"
        },
        "id": "IYsW1XJBm0_u",
        "outputId": "5fa2a30b-ee61-4f6b-e5c4-79f427640253"
      },
      "execution_count": null,
      "outputs": [
        {
          "output_type": "stream",
          "name": "stdout",
          "text": [
            "total 0\n",
            "-rw------- 1 root root 0 Dec 28 04:05 new.txt\n"
          ]
        }
      ]
    },
    {
      "cell_type": "code",
      "source": [
        "src2 = '/content/drive/MyDrive/intro-dl/afhq/new_folder/new.txt'\n",
        "dst2 = '/content/drive/MyDrive/intro-dl/afhq/new_folder/new3.txt'"
      ],
      "metadata": {
        "id": "8CqjKEglm4B9"
      },
      "execution_count": null,
      "outputs": []
    },
    {
      "cell_type": "code",
      "source": [
        "shutil.move(src2, dst2)"
      ],
      "metadata": {
        "colab": {
          "base_uri": "https://localhost:8080/",
          "height": 35
        },
        "id": "dHzBAoMDngJh",
        "outputId": "87fd6f85-fadd-4c94-b7ae-ef534af16fac"
      },
      "execution_count": null,
      "outputs": [
        {
          "output_type": "execute_result",
          "data": {
            "text/plain": [
              "'/content/drive/MyDrive/intro-dl/afhq/new_folder/new3.txt'"
            ],
            "application/vnd.google.colaboratory.intrinsic+json": {
              "type": "string"
            }
          },
          "metadata": {},
          "execution_count": 26
        }
      ]
    },
    {
      "cell_type": "code",
      "source": [
        "!ls -l"
      ],
      "metadata": {
        "colab": {
          "base_uri": "https://localhost:8080/"
        },
        "id": "auvm_unknz11",
        "outputId": "519ef9b2-6201-460e-be5c-fc612dfe65ad"
      },
      "execution_count": null,
      "outputs": [
        {
          "output_type": "stream",
          "name": "stdout",
          "text": [
            "total 0\n",
            "-rw------- 1 root root 0 Dec 28 04:05 new3.txt\n"
          ]
        }
      ]
    },
    {
      "cell_type": "code",
      "source": [
        "## numpy, pandas -- later"
      ],
      "metadata": {
        "id": "-WjOlwWne1w7"
      },
      "execution_count": null,
      "outputs": []
    },
    {
      "cell_type": "markdown",
      "source": [
        "## Basic Pytorch\n",
        "\n",
        "*     Reference. https://github.com/Justin-A/DeepLearning101/blob/master/1-2_Basic_Autograd.ipynb"
      ],
      "metadata": {
        "id": "QQ55qOuzgil-"
      }
    },
    {
      "cell_type": "code",
      "source": [
        "import torch"
      ],
      "metadata": {
        "id": "jvfwaAzf0E0T"
      },
      "execution_count": null,
      "outputs": []
    },
    {
      "cell_type": "code",
      "source": [
        "## Simple Question.\n",
        "## What is (Py)torch?\n",
        "## Google it and write the answer.\n",
        "\n",
        "## (Py)torch is open source machine learning library made by  Facebook's AI Research lab.\n",
        "## Pytorch is implemented in Python.\n",
        "## PyTorch is primarily used as a platform for building and learning deep learning models."
      ],
      "metadata": {
        "id": "6pHnUs5NRe8w"
      },
      "execution_count": null,
      "outputs": []
    },
    {
      "cell_type": "markdown",
      "source": [
        "### Question 3. Compute L1/L2 Norm between matrix1 and matrix2 above.\n",
        "*     Hint: https://pytorch.org/docs/stable/generated/torch.linalg.norm.html"
      ],
      "metadata": {
        "id": "Lkq9pZK_0h5r"
      }
    },
    {
      "cell_type": "code",
      "source": [
        "import torch"
      ],
      "metadata": {
        "id": "DutFJZ6ypi75"
      },
      "execution_count": null,
      "outputs": []
    },
    {
      "cell_type": "code",
      "source": [
        "matrix1 = torch.tensor([[1., 2.], [3., 4.]])\n",
        "print (matrix1)"
      ],
      "metadata": {
        "colab": {
          "base_uri": "https://localhost:8080/"
        },
        "id": "YM9PgYu-pY7f",
        "outputId": "51cd6e2b-a393-488d-ed3a-faa79bf5ec2e"
      },
      "execution_count": null,
      "outputs": [
        {
          "output_type": "stream",
          "name": "stdout",
          "text": [
            "tensor([[1., 2.],\n",
            "        [3., 4.]])\n"
          ]
        }
      ]
    },
    {
      "cell_type": "code",
      "source": [
        "matrix2 = torch.tensor([[5., 6.], [7., 8.]])\n",
        "print (matrix2)"
      ],
      "metadata": {
        "colab": {
          "base_uri": "https://localhost:8080/"
        },
        "id": "AEL0UnMFpmOa",
        "outputId": "95fd4c39-ddb2-4006-eff7-78cbef1f5d80"
      },
      "execution_count": null,
      "outputs": [
        {
          "output_type": "stream",
          "name": "stdout",
          "text": [
            "tensor([[5., 6.],\n",
            "        [7., 8.]])\n"
          ]
        }
      ]
    },
    {
      "cell_type": "code",
      "source": [
        "l1_norm = torch.linalg.norm(matrix1 - matrix2, ord=1)\n",
        "print (l1_norm)"
      ],
      "metadata": {
        "colab": {
          "base_uri": "https://localhost:8080/"
        },
        "id": "NkNQkcT8p1Tb",
        "outputId": "d7f1f6f0-370f-43e4-cb80-81ab586b70cf"
      },
      "execution_count": null,
      "outputs": [
        {
          "output_type": "stream",
          "name": "stdout",
          "text": [
            "tensor(8.)\n"
          ]
        }
      ]
    },
    {
      "cell_type": "code",
      "source": [
        "l2_norm = torch.linalg.norm(matrix1 - matrix2, ord=2)\n",
        "print (l2_norm)"
      ],
      "metadata": {
        "colab": {
          "base_uri": "https://localhost:8080/"
        },
        "id": "knBCn2t1tauW",
        "outputId": "94a3b07a-892c-4703-dc32-75c6c4a092e9"
      },
      "execution_count": null,
      "outputs": [
        {
          "output_type": "stream",
          "name": "stdout",
          "text": [
            "tensor(8.0000)\n"
          ]
        }
      ]
    },
    {
      "cell_type": "code",
      "source": [
        "## Hard Mode (Optional)\n",
        "## Compute Cosine Similarity between matrix1 and matrix2 above.\n",
        "\n",
        "## Your Answer\n",
        "\n"
      ],
      "metadata": {
        "id": "r9iAVpndUFfX"
      },
      "execution_count": null,
      "outputs": []
    },
    {
      "cell_type": "markdown",
      "source": [
        "### Question 4. Please write a line-by-line explanation of the code above. (Simple MLP only)\n",
        "\n",
        "\n"
      ],
      "metadata": {
        "id": "IA3dEOujFVFd"
      }
    },
    {
      "cell_type": "markdown",
      "source": [
        "## Simple MLP\n",
        "\n",
        "*    Reference. https://github.com/Justin-A/DeepLearning101/blob/master/2-1_MNIST_MLP.ipynb"
      ],
      "metadata": {
        "id": "GDck4fScEtI9"
      }
    },
    {
      "cell_type": "code",
      "source": [
        "''' 1. Module Import '''\n",
        "import numpy as np\n",
        "import matplotlib.pyplot as plt\n",
        "\n",
        "import torch\n",
        "import torch.nn as nn\n",
        "import torch.nn.functional as F\n",
        "from torchvision import transforms, datasets"
      ],
      "metadata": {
        "id": "n3uRuWgZEwcy"
      },
      "execution_count": null,
      "outputs": []
    },
    {
      "cell_type": "code",
      "source": [
        "if torch.cuda.is_available():\n",
        "    DEVICE = torch.device('cuda')\n",
        "else:\n",
        "    DEVICE = torch.device('cpu')\n",
        "\n",
        "print('Using PyTorch version:', torch.__version__, ' Device:', DEVICE)\n",
        "# 딥러닝 학습을 진행할 때 필요한 디바이스 설정한다.\n",
        "# GPU 사용 가능한 경우에는 GPU 사용하고 불가능할 경우에는 CPU 사용한다."
      ],
      "metadata": {
        "id": "zLAkO1Jugf34",
        "colab": {
          "base_uri": "https://localhost:8080/"
        },
        "outputId": "ca7af697-bb31-425b-98aa-b16f4b978af5"
      },
      "execution_count": null,
      "outputs": [
        {
          "output_type": "stream",
          "name": "stdout",
          "text": [
            "Using PyTorch version: 2.1.0+cu121  Device: cpu\n"
          ]
        }
      ]
    },
    {
      "cell_type": "code",
      "source": [
        "BATCH_SIZE = 32\n",
        "EPOCHS = 10\n",
        "#학습할 때 사용할 하이퍼파라미터의 배치 사이즈와 에포크를 설정한다.\n",
        "# number of epochs -> number of training sessions (학습 횟수)"
      ],
      "metadata": {
        "id": "wtSUJeMVggF0"
      },
      "execution_count": null,
      "outputs": []
    },
    {
      "cell_type": "code",
      "source": [
        "''' 3. MNIST Download (Train set, Test set split) '''\n",
        "train_dataset = datasets.MNIST(root = \"../data/MNIST\",\n",
        "                               train = True,\n",
        "                               download = True,\n",
        "                               transform = transforms.ToTensor())\n",
        "# MNIST 데이터셋을 다운로드 한 뒤 학습 데이터와 테스트 데이터로 나눈다.\n",
        "# train = True -> training에 사용되는 데이터\n",
        "# 데이터셋의 이미지를 Pytorch tensors로 변환한다.\n",
        "\n",
        "test_dataset = datasets.MNIST(root = \"../data/MNIST\",\n",
        "                              train = False,\n",
        "                              transform = transforms.ToTensor())\n",
        "# train = False -> training에 사용되지 않는 데이터\n",
        "\n",
        "\n",
        "train_loader = torch.utils.data.DataLoader(dataset = train_dataset,\n",
        "                                           batch_size = BATCH_SIZE,\n",
        "                                           shuffle = True)\n",
        "# 학습을 진행할 미니 배치의 사이즈를 결정한다.\n",
        "# 학습 데이터의 경우 셔플을 진행한다.\n",
        "test_loader = torch.utils.data.DataLoader(dataset = test_dataset,\n",
        "                                          batch_size = BATCH_SIZE,\n",
        "                                          shuffle = False)\n",
        "# 테스트를 진행할 미니 배치의 사이즈를 결정한다.\n",
        "# 테스트 데이터의 경우 셔플을 진행하지 않는다."
      ],
      "metadata": {
        "id": "7LsuDi6TggII",
        "colab": {
          "base_uri": "https://localhost:8080/"
        },
        "outputId": "900b858a-1870-4c5c-a99c-5052eb295f22"
      },
      "execution_count": null,
      "outputs": [
        {
          "output_type": "stream",
          "name": "stdout",
          "text": [
            "Downloading http://yann.lecun.com/exdb/mnist/train-images-idx3-ubyte.gz\n",
            "Downloading http://yann.lecun.com/exdb/mnist/train-images-idx3-ubyte.gz to ../data/MNIST/MNIST/raw/train-images-idx3-ubyte.gz\n"
          ]
        },
        {
          "output_type": "stream",
          "name": "stderr",
          "text": [
            "100%|██████████| 9912422/9912422 [00:00<00:00, 95413377.25it/s]\n"
          ]
        },
        {
          "output_type": "stream",
          "name": "stdout",
          "text": [
            "Extracting ../data/MNIST/MNIST/raw/train-images-idx3-ubyte.gz to ../data/MNIST/MNIST/raw\n",
            "\n",
            "Downloading http://yann.lecun.com/exdb/mnist/train-labels-idx1-ubyte.gz\n",
            "Downloading http://yann.lecun.com/exdb/mnist/train-labels-idx1-ubyte.gz to ../data/MNIST/MNIST/raw/train-labels-idx1-ubyte.gz\n"
          ]
        },
        {
          "output_type": "stream",
          "name": "stderr",
          "text": [
            "100%|██████████| 28881/28881 [00:00<00:00, 92540636.99it/s]"
          ]
        },
        {
          "output_type": "stream",
          "name": "stdout",
          "text": [
            "Extracting ../data/MNIST/MNIST/raw/train-labels-idx1-ubyte.gz to ../data/MNIST/MNIST/raw\n",
            "\n",
            "Downloading http://yann.lecun.com/exdb/mnist/t10k-images-idx3-ubyte.gz\n",
            "Downloading http://yann.lecun.com/exdb/mnist/t10k-images-idx3-ubyte.gz to ../data/MNIST/MNIST/raw/t10k-images-idx3-ubyte.gz\n"
          ]
        },
        {
          "output_type": "stream",
          "name": "stderr",
          "text": [
            "\n",
            "100%|██████████| 1648877/1648877 [00:00<00:00, 28434130.52it/s]\n"
          ]
        },
        {
          "output_type": "stream",
          "name": "stdout",
          "text": [
            "Extracting ../data/MNIST/MNIST/raw/t10k-images-idx3-ubyte.gz to ../data/MNIST/MNIST/raw\n",
            "\n",
            "Downloading http://yann.lecun.com/exdb/mnist/t10k-labels-idx1-ubyte.gz\n",
            "Downloading http://yann.lecun.com/exdb/mnist/t10k-labels-idx1-ubyte.gz to ../data/MNIST/MNIST/raw/t10k-labels-idx1-ubyte.gz\n"
          ]
        },
        {
          "output_type": "stream",
          "name": "stderr",
          "text": [
            "100%|██████████| 4542/4542 [00:00<00:00, 5446120.29it/s]\n"
          ]
        },
        {
          "output_type": "stream",
          "name": "stdout",
          "text": [
            "Extracting ../data/MNIST/MNIST/raw/t10k-labels-idx1-ubyte.gz to ../data/MNIST/MNIST/raw\n",
            "\n"
          ]
        }
      ]
    },
    {
      "cell_type": "code",
      "source": [
        "## Quick Question\n",
        "# What is MNIST?\n",
        "# Google it and write the answer\n",
        "# MNIST stands for 'Modified National Institute of Standards and Technology database'.\n",
        "# It is a large database of handwritten digits."
      ],
      "metadata": {
        "id": "bhY_d3YcggKf"
      },
      "execution_count": null,
      "outputs": []
    },
    {
      "cell_type": "code",
      "source": [
        "for (X_train, y_train) in train_loader:\n",
        "    print('X_train:', X_train.size(), 'type:', X_train.type())\n",
        "    print('y_train:', y_train.size(), 'type:', y_train.type())\n",
        "    break\n",
        "# 첫번째 미니배치에서의 input data와 각각의 label에 대한 크기와 유형을 출력한다."
      ],
      "metadata": {
        "id": "o8LChiv3ggNd",
        "colab": {
          "base_uri": "https://localhost:8080/"
        },
        "outputId": "9c248f60-dee3-408e-bb0d-6d215ad4bfce"
      },
      "execution_count": null,
      "outputs": [
        {
          "output_type": "stream",
          "name": "stdout",
          "text": [
            "X_train: torch.Size([32, 1, 28, 28]) type: torch.FloatTensor\n",
            "y_train: torch.Size([32]) type: torch.LongTensor\n"
          ]
        }
      ]
    },
    {
      "cell_type": "code",
      "source": [
        "pltsize = 1\n",
        "plt.figure(figsize=(10 * pltsize, pltsize))\n",
        "# 표시할 이미지의 크기를 설정한다.\n",
        "for i in range(10):\n",
        "    plt.subplot(1, 10, i + 1)\n",
        "    plt.axis('off')\n",
        "    plt.imshow(X_train[i, :, :, :].numpy().reshape(28, 28), cmap = \"gray_r\")\n",
        "    plt.title('Class: ' + str(y_train[i].item()))\n",
        "# 미니 배치에서 처음 10개의 이미지 데이터를 표현한다.\n",
        "# 이미지를 표시할 때 불필요한 축은 off한다.\n",
        "# i번째 데이터를 선택하여 Numpy 배열로 변환한 뒤 크기를 28x28로 재구성하여 흑백 이미지로 나타낸다.\n",
        "# 각 이미지의 label을 제목으로 추가한다."
      ],
      "metadata": {
        "id": "dY0Ypc0fggPx",
        "colab": {
          "base_uri": "https://localhost:8080/",
          "height": 125
        },
        "outputId": "01cfa532-385c-497e-956b-cda0a5482685"
      },
      "execution_count": null,
      "outputs": [
        {
          "output_type": "display_data",
          "data": {
            "text/plain": [
              "<Figure size 1000x100 with 10 Axes>"
            ],
            "image/png": "[encoded data removed]"
          },
          "metadata": {}
        }
      ]
    },
    {
      "cell_type": "code",
      "source": [
        "''' Multi Layer Perceptron '''\n",
        "class Net(nn.Module):\n",
        "    def __init__(self):\n",
        "        super(Net, self).__init__()\n",
        "        self.fc1 = nn.Linear(28 * 28, 512)\n",
        "        self.fc2 = nn.Linear(512, 256)\n",
        "        self.fc3 = nn.Linear(256, 10)\n",
        "# 첫번째 fully connected layer : size 28x28(=784) -> size 512\n",
        "# 두번째 fully connected layer : size 512 -> size 256\n",
        "# 세번째 fully connected layer : size 256 -> size 10\n",
        "\n",
        "    def forward(self, x):\n",
        "        x = x.view(-1, 28 * 28)\n",
        "        x = self.fc1(x)\n",
        "        x = F.sigmoid(x)\n",
        "        x = self.fc2(x)\n",
        "        x = F.sigmoid(x)\n",
        "        x = self.fc3(x)\n",
        "        x = F.log_softmax(x, dim = 1)\n",
        "        return x\n",
        "# forward pass 방법을 이용한다.\n",
        "# 주어진 데이터를 1D로 펼친다.\n",
        "# 첫번째 fully connected layer로 input 데이터를 적용한다.\n",
        "# Sigmoid activation function을 적용한다.\n",
        "# 두번째 fully connected layer를 적용한다.\n",
        "# Sigmoid activation function을 적용한다.\n",
        "# 세번째 fully connected layer를 적용한다.\n",
        "# Log Softmax activation function을 적용한다."
      ],
      "metadata": {
        "id": "x7WkQj2mggSD"
      },
      "execution_count": null,
      "outputs": []
    },
    {
      "cell_type": "code",
      "source": [
        "''' Optimizer, Objective Function '''\n",
        "model = Net().to(DEVICE)\n",
        "# Net 클래스로부터 모델 생성 후 디바이스로 이동한다.\n",
        "optimizer = torch.optim.SGD(model.parameters(), lr = 0.01, momentum = 0.5)\n",
        "# Stochastic Gradient Descent optimizer를 설정한다.\n",
        "# learning rate = 0.01, momentum = 0.5\n",
        "criterion = nn.CrossEntropyLoss()\n",
        "# Cross-Entropy Loss 함수를 생성한다.\n",
        "\n",
        "print(model)"
      ],
      "metadata": {
        "id": "dwRqonzKtd1O",
        "colab": {
          "base_uri": "https://localhost:8080/"
        },
        "outputId": "e1a3ae48-4da2-40e9-c06b-c65bddaf3a57"
      },
      "execution_count": null,
      "outputs": [
        {
          "output_type": "stream",
          "name": "stdout",
          "text": [
            "Net(\n",
            "  (fc1): Linear(in_features=784, out_features=512, bias=True)\n",
            "  (fc2): Linear(in_features=512, out_features=256, bias=True)\n",
            "  (fc3): Linear(in_features=256, out_features=10, bias=True)\n",
            ")\n"
          ]
        }
      ]
    },
    {
      "cell_type": "code",
      "source": [
        "def train(model, train_loader, optimizer, log_interval):\n",
        "    model.train()\n",
        "# 모델을 학습모드로 설정한다.\n",
        "    for batch_idx, (image, label) in enumerate(train_loader):\n",
        "# train loader를 이용하여 학습 데이터 배치 interate한다.\n",
        "        image = image.to(DEVICE)\n",
        "        label = label.to(DEVICE)\n",
        "# 이미지 데이터와 label을 디바이스로 보낸다.\n",
        "        optimizer.zero_grad()\n",
        "# gradient를 초기화한다.\n",
        "        output = model(image)\n",
        "# 이미지 데이터에 대한 output을 출력한다.\n",
        "        loss = criterion(output, label)\n",
        "# 출력된 output과 label 강의 Cross-Entropy loss를 계산한다.\n",
        "        loss.backward()\n",
        "# backpropagation을 통해 gradient를 계산한다.\n",
        "        optimizer.step()\n",
        "# optimizer를 이용하여 parameter를 업데이트 한다.\n",
        "\n",
        "        if batch_idx % log_interval == 0:\n",
        "            print(\"Train Epoch: {} [{}/{} ({:.0f}%)]\\tTrain Loss: {:.6f}\".format(\n",
        "                epoch, batch_idx * len(image),\n",
        "                len(train_loader.dataset), 100. * batch_idx / len(train_loader),\n",
        "                loss.item()))\n",
        "# 주어진 log interval을 기준으로 학습 진행 상황을 출력한다."
      ],
      "metadata": {
        "id": "p_LnCyyftl88"
      },
      "execution_count": null,
      "outputs": []
    },
    {
      "cell_type": "code",
      "source": [
        "def evaluate(model, test_loader):\n",
        "    model.eval()\n",
        "    test_loss = 0\n",
        "    correct = 0\n",
        "# 모델을 테스트 모드로 설정한다.\n",
        "# test loss와 정확도를 초기화한다.\n",
        "\n",
        "    with torch.no_grad():\n",
        "# gradient를 계산하지 않도록 설정한다.\n",
        "        for image, label in test_loader:\n",
        "# test loader를 이용하여 테스트 데이터 배치 interate한다.\n",
        "            image = image.to(DEVICE)\n",
        "            label = label.to(DEVICE)\n",
        "# 이미지 데이터와 label을 디바이스로 보낸다.\n",
        "            output = model(image)\n",
        "# 이미지 데이터에 대한 output을 출력한다.\n",
        "            test_loss += criterion(output, label).item()\n",
        "# 출력된 output과 label 강의 Cross-Entropy loss를 계산하고 누적한다.\n",
        "            prediction = output.max(1, keepdim = True)[1]\n",
        "# output 중 가장 큰 값과 해당하는 index를 출력한다.(예측값 추출)\n",
        "            correct += prediction.eq(label.view_as(prediction)).sum().item()\n",
        "# 추출한 예측값과 실제 label을 비교한 뒤 일치할 경우 1, 불일치할 경우 0을 추출하여 이를 누적한다.\n",
        "\n",
        "    test_loss /= (len(test_loader.dataset) / BATCH_SIZE)\n",
        "# 테스트의 loss를 전체 데이터셋의 크기로 나눠 정규화한다.(평균 손실)\n",
        "    test_accuracy = 100. * correct / len(test_loader.dataset)\n",
        "# 테스트의 정확도를 전체 데이터셋의 크기로 나누고 100을 곱하여 백분율로 바꾼다.\n",
        "    return test_loss, test_accuracy\n"
      ],
      "metadata": {
        "id": "psTeTnRmtl_I"
      },
      "execution_count": null,
      "outputs": []
    },
    {
      "cell_type": "code",
      "source": [
        "for epoch in range(1, EPOCHS + 1):\n",
        "# 주어진 epochs의 수만큼 iterate (epochs 수 = 10)\n",
        "    train(model, train_loader, optimizer, log_interval = 200)\n",
        "# 각 epoch에 대한 학습을 진행한다.\n",
        "    test_loss, test_accuracy = evaluate(model, test_loader)\n",
        "# 각 epoch에 대한 테스트를 진행한다. (test loss와 정확도 계산)\n",
        "    print(\"\\n[EPOCH: {}], \\tTest Loss: {:.4f}, \\tTest Accuracy: {:.2f} % \\n\".format(\n",
        "        epoch, test_loss, test_accuracy))\n",
        "# test loss와 정확도를 출력한다.\n",
        "# test loss는 소수점 아래 넷째자리까지, 정확도는 소수점 아래 둘째자리까지 표시한다."
      ],
      "metadata": {
        "id": "rGShY7RNRMme",
        "colab": {
          "base_uri": "https://localhost:8080/"
        },
        "outputId": "7ff4f62a-613e-4d2e-9f1f-a089074f1476"
      },
      "execution_count": null,
      "outputs": [
        {
          "output_type": "stream",
          "name": "stdout",
          "text": [
            "Train Epoch: 1 [0/60000 (0%)]\tTrain Loss: 2.366546\n",
            "Train Epoch: 1 [6400/60000 (11%)]\tTrain Loss: 2.289021\n",
            "Train Epoch: 1 [12800/60000 (21%)]\tTrain Loss: 2.297900\n",
            "Train Epoch: 1 [19200/60000 (32%)]\tTrain Loss: 2.312743\n",
            "Train Epoch: 1 [25600/60000 (43%)]\tTrain Loss: 2.332374\n",
            "Train Epoch: 1 [32000/60000 (53%)]\tTrain Loss: 2.286131\n",
            "Train Epoch: 1 [38400/60000 (64%)]\tTrain Loss: 2.296104\n",
            "Train Epoch: 1 [44800/60000 (75%)]\tTrain Loss: 2.274009\n",
            "Train Epoch: 1 [51200/60000 (85%)]\tTrain Loss: 2.277810\n",
            "Train Epoch: 1 [57600/60000 (96%)]\tTrain Loss: 2.295577\n",
            "\n",
            "[EPOCH: 1], \tTest Loss: 2.2357, \tTest Accuracy: 14.47 % \n",
            "\n",
            "Train Epoch: 2 [0/60000 (0%)]\tTrain Loss: 2.222473\n",
            "Train Epoch: 2 [6400/60000 (11%)]\tTrain Loss: 2.149013\n",
            "Train Epoch: 2 [12800/60000 (21%)]\tTrain Loss: 2.089816\n",
            "Train Epoch: 2 [19200/60000 (32%)]\tTrain Loss: 2.095840\n",
            "Train Epoch: 2 [25600/60000 (43%)]\tTrain Loss: 2.056509\n",
            "Train Epoch: 2 [32000/60000 (53%)]\tTrain Loss: 1.812690\n",
            "Train Epoch: 2 [38400/60000 (64%)]\tTrain Loss: 1.760091\n",
            "Train Epoch: 2 [44800/60000 (75%)]\tTrain Loss: 1.665483\n",
            "Train Epoch: 2 [51200/60000 (85%)]\tTrain Loss: 1.524904\n",
            "Train Epoch: 2 [57600/60000 (96%)]\tTrain Loss: 1.541940\n",
            "\n",
            "[EPOCH: 2], \tTest Loss: 1.2249, \tTest Accuracy: 62.24 % \n",
            "\n",
            "Train Epoch: 3 [0/60000 (0%)]\tTrain Loss: 1.012263\n",
            "Train Epoch: 3 [6400/60000 (11%)]\tTrain Loss: 1.178081\n",
            "Train Epoch: 3 [12800/60000 (21%)]\tTrain Loss: 1.055358\n",
            "Train Epoch: 3 [19200/60000 (32%)]\tTrain Loss: 0.998702\n",
            "Train Epoch: 3 [25600/60000 (43%)]\tTrain Loss: 0.889207\n",
            "Train Epoch: 3 [32000/60000 (53%)]\tTrain Loss: 0.969497\n",
            "Train Epoch: 3 [38400/60000 (64%)]\tTrain Loss: 0.697772\n",
            "Train Epoch: 3 [44800/60000 (75%)]\tTrain Loss: 0.886417\n",
            "Train Epoch: 3 [51200/60000 (85%)]\tTrain Loss: 1.045466\n",
            "Train Epoch: 3 [57600/60000 (96%)]\tTrain Loss: 0.805000\n",
            "\n",
            "[EPOCH: 3], \tTest Loss: 0.7568, \tTest Accuracy: 76.38 % \n",
            "\n",
            "Train Epoch: 4 [0/60000 (0%)]\tTrain Loss: 0.798518\n",
            "Train Epoch: 4 [6400/60000 (11%)]\tTrain Loss: 0.642386\n",
            "Train Epoch: 4 [12800/60000 (21%)]\tTrain Loss: 0.712189\n",
            "Train Epoch: 4 [19200/60000 (32%)]\tTrain Loss: 0.972276\n",
            "Train Epoch: 4 [25600/60000 (43%)]\tTrain Loss: 0.566274\n",
            "Train Epoch: 4 [32000/60000 (53%)]\tTrain Loss: 0.589050\n",
            "Train Epoch: 4 [38400/60000 (64%)]\tTrain Loss: 0.571959\n",
            "Train Epoch: 4 [44800/60000 (75%)]\tTrain Loss: 0.677965\n",
            "Train Epoch: 4 [51200/60000 (85%)]\tTrain Loss: 0.460477\n",
            "Train Epoch: 4 [57600/60000 (96%)]\tTrain Loss: 0.660737\n",
            "\n",
            "[EPOCH: 4], \tTest Loss: 0.5613, \tTest Accuracy: 83.67 % \n",
            "\n",
            "Train Epoch: 5 [0/60000 (0%)]\tTrain Loss: 0.612785\n",
            "Train Epoch: 5 [6400/60000 (11%)]\tTrain Loss: 0.844618\n",
            "Train Epoch: 5 [12800/60000 (21%)]\tTrain Loss: 0.874338\n",
            "Train Epoch: 5 [19200/60000 (32%)]\tTrain Loss: 0.759396\n",
            "Train Epoch: 5 [25600/60000 (43%)]\tTrain Loss: 0.493080\n",
            "Train Epoch: 5 [32000/60000 (53%)]\tTrain Loss: 0.468448\n",
            "Train Epoch: 5 [38400/60000 (64%)]\tTrain Loss: 0.412625\n",
            "Train Epoch: 5 [44800/60000 (75%)]\tTrain Loss: 0.391080\n",
            "Train Epoch: 5 [51200/60000 (85%)]\tTrain Loss: 0.518749\n",
            "Train Epoch: 5 [57600/60000 (96%)]\tTrain Loss: 0.345391\n",
            "\n",
            "[EPOCH: 5], \tTest Loss: 0.4618, \tTest Accuracy: 86.71 % \n",
            "\n",
            "Train Epoch: 6 [0/60000 (0%)]\tTrain Loss: 0.420221\n",
            "Train Epoch: 6 [6400/60000 (11%)]\tTrain Loss: 0.490210\n",
            "Train Epoch: 6 [12800/60000 (21%)]\tTrain Loss: 0.403151\n",
            "Train Epoch: 6 [19200/60000 (32%)]\tTrain Loss: 0.434907\n",
            "Train Epoch: 6 [25600/60000 (43%)]\tTrain Loss: 0.573218\n",
            "Train Epoch: 6 [32000/60000 (53%)]\tTrain Loss: 0.297730\n",
            "Train Epoch: 6 [38400/60000 (64%)]\tTrain Loss: 0.243600\n",
            "Train Epoch: 6 [44800/60000 (75%)]\tTrain Loss: 0.410766\n",
            "Train Epoch: 6 [51200/60000 (85%)]\tTrain Loss: 0.421157\n",
            "Train Epoch: 6 [57600/60000 (96%)]\tTrain Loss: 0.466831\n",
            "\n",
            "[EPOCH: 6], \tTest Loss: 0.4114, \tTest Accuracy: 88.09 % \n",
            "\n",
            "Train Epoch: 7 [0/60000 (0%)]\tTrain Loss: 0.501196\n",
            "Train Epoch: 7 [6400/60000 (11%)]\tTrain Loss: 0.534553\n",
            "Train Epoch: 7 [12800/60000 (21%)]\tTrain Loss: 0.476672\n",
            "Train Epoch: 7 [19200/60000 (32%)]\tTrain Loss: 0.494819\n",
            "Train Epoch: 7 [25600/60000 (43%)]\tTrain Loss: 0.239959\n",
            "Train Epoch: 7 [32000/60000 (53%)]\tTrain Loss: 0.189651\n",
            "Train Epoch: 7 [38400/60000 (64%)]\tTrain Loss: 0.934416\n",
            "Train Epoch: 7 [44800/60000 (75%)]\tTrain Loss: 0.375726\n",
            "Train Epoch: 7 [51200/60000 (85%)]\tTrain Loss: 0.426017\n",
            "Train Epoch: 7 [57600/60000 (96%)]\tTrain Loss: 0.232473\n",
            "\n",
            "[EPOCH: 7], \tTest Loss: 0.3834, \tTest Accuracy: 88.97 % \n",
            "\n",
            "Train Epoch: 8 [0/60000 (0%)]\tTrain Loss: 0.466942\n",
            "Train Epoch: 8 [6400/60000 (11%)]\tTrain Loss: 0.499909\n",
            "Train Epoch: 8 [12800/60000 (21%)]\tTrain Loss: 0.262085\n",
            "Train Epoch: 8 [19200/60000 (32%)]\tTrain Loss: 0.276397\n",
            "Train Epoch: 8 [25600/60000 (43%)]\tTrain Loss: 0.174036\n",
            "Train Epoch: 8 [32000/60000 (53%)]\tTrain Loss: 0.488130\n",
            "Train Epoch: 8 [38400/60000 (64%)]\tTrain Loss: 0.359622\n",
            "Train Epoch: 8 [44800/60000 (75%)]\tTrain Loss: 0.284791\n",
            "Train Epoch: 8 [51200/60000 (85%)]\tTrain Loss: 0.321733\n",
            "Train Epoch: 8 [57600/60000 (96%)]\tTrain Loss: 0.235781\n",
            "\n",
            "[EPOCH: 8], \tTest Loss: 0.3665, \tTest Accuracy: 89.31 % \n",
            "\n",
            "Train Epoch: 9 [0/60000 (0%)]\tTrain Loss: 0.319607\n",
            "Train Epoch: 9 [6400/60000 (11%)]\tTrain Loss: 0.322947\n",
            "Train Epoch: 9 [12800/60000 (21%)]\tTrain Loss: 0.196465\n",
            "Train Epoch: 9 [19200/60000 (32%)]\tTrain Loss: 0.260792\n",
            "Train Epoch: 9 [25600/60000 (43%)]\tTrain Loss: 0.320067\n",
            "Train Epoch: 9 [32000/60000 (53%)]\tTrain Loss: 0.241870\n",
            "Train Epoch: 9 [38400/60000 (64%)]\tTrain Loss: 0.346630\n",
            "Train Epoch: 9 [44800/60000 (75%)]\tTrain Loss: 0.209772\n",
            "Train Epoch: 9 [51200/60000 (85%)]\tTrain Loss: 0.312161\n",
            "Train Epoch: 9 [57600/60000 (96%)]\tTrain Loss: 0.336798\n",
            "\n",
            "[EPOCH: 9], \tTest Loss: 0.3482, \tTest Accuracy: 89.72 % \n",
            "\n",
            "Train Epoch: 10 [0/60000 (0%)]\tTrain Loss: 0.182377\n",
            "Train Epoch: 10 [6400/60000 (11%)]\tTrain Loss: 0.889289\n",
            "Train Epoch: 10 [12800/60000 (21%)]\tTrain Loss: 0.232195\n",
            "Train Epoch: 10 [19200/60000 (32%)]\tTrain Loss: 0.355629\n",
            "Train Epoch: 10 [25600/60000 (43%)]\tTrain Loss: 0.922259\n",
            "Train Epoch: 10 [32000/60000 (53%)]\tTrain Loss: 0.264270\n",
            "Train Epoch: 10 [38400/60000 (64%)]\tTrain Loss: 0.204736\n",
            "Train Epoch: 10 [44800/60000 (75%)]\tTrain Loss: 0.105732\n",
            "Train Epoch: 10 [51200/60000 (85%)]\tTrain Loss: 0.360369\n",
            "Train Epoch: 10 [57600/60000 (96%)]\tTrain Loss: 0.478292\n",
            "\n",
            "[EPOCH: 10], \tTest Loss: 0.3355, \tTest Accuracy: 90.22 % \n",
            "\n"
          ]
        }
      ]
    },
    {
      "cell_type": "markdown",
      "source": [
        "### Question 5 (Optional). Please read and summarize the following 3 documents:\n",
        "\n",
        "*    https://wikidocs.net/57168\n",
        "*    https://wikidocs.net/52460\n",
        "*    https://wikidocs.net/52846"
      ],
      "metadata": {
        "id": "A0VvCZJKiCye"
      }
    },
    {
      "cell_type": "code",
      "source": [],
      "metadata": {
        "id": "XzVGuer0S9Oh"
      },
      "execution_count": null,
      "outputs": []
    }
  ]
}