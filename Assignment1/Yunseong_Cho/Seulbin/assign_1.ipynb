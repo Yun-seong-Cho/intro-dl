{
  "cells": [
    {
      "cell_type": "code",
      "source": [
        "from google.colab import drive\n",
        "drive.mount('/content/drive')"
      ],
      "metadata": {
        "colab": {
          "base_uri": "https://localhost:8080/"
        },
        "id": "bSVyuy2O8G5W",
        "outputId": "058d46ad-016b-45f4-f116-ad1ed8e77a4d"
      },
      "execution_count": null,
      "outputs": [
        {
          "output_type": "stream",
          "name": "stdout",
          "text": [
            "Drive already mounted at /content/drive; to attempt to forcibly remount, call drive.mount(\"/content/drive\", force_remount=True).\n"
          ]
        }
      ]
    },
    {
      "cell_type": "markdown",
      "source": [
        "Question1"
      ],
      "metadata": {
        "id": "hG7-2C0uyqNx"
      }
    },
    {
      "cell_type": "code",
      "source": [
        "os.chdir('/content/sample_data')"
      ],
      "metadata": {
        "id": "c1E6xtHjwmD3"
      },
      "execution_count": null,
      "outputs": []
    },
    {
      "cell_type": "code",
      "source": [
        "%cd /content/sample_data"
      ],
      "metadata": {
        "colab": {
          "base_uri": "https://localhost:8080/"
        },
        "id": "sOAlZhoJwvMi",
        "outputId": "7bf63f76-7358-407e-e65d-b039f69c7975"
      },
      "execution_count": null,
      "outputs": [
        {
          "output_type": "stream",
          "name": "stdout",
          "text": [
            "/content/sample_data\n"
          ]
        }
      ]
    },
    {
      "cell_type": "markdown",
      "source": [
        "Question2"
      ],
      "metadata": {
        "id": "cGLgGg59ysc6"
      }
    },
    {
      "cell_type": "code",
      "source": [
        "src3 = '/content/drive/MyDrive/intro-dl/afhq/new_folder/new.txt'\n",
        "dst3 = '/content/drive/MyDrive/intro-dl/afhq/new_folder/new3.txt'"
      ],
      "metadata": {
        "id": "0Kb8c6PDxnXe"
      },
      "execution_count": null,
      "outputs": []
    },
    {
      "cell_type": "code",
      "source": [
        "shutil.copy(src3,dst3)"
      ],
      "metadata": {
        "colab": {
          "base_uri": "https://localhost:8080/",
          "height": 35
        },
        "id": "km7Vbd3TyfZu",
        "outputId": "57b7001d-5b1f-40de-f7b0-c926b23f9b85"
      },
      "execution_count": null,
      "outputs": [
        {
          "output_type": "execute_result",
          "data": {
            "text/plain": [
              "'/content/drive/MyDrive/intro-dl/afhq/new_folder/new3.txt'"
            ],
            "application/vnd.google.colaboratory.intrinsic+json": {
              "type": "string"
            }
          },
          "metadata": {},
          "execution_count": 34
        }
      ]
    },
    {
      "cell_type": "code",
      "source": [
        "!ls -l"
      ],
      "metadata": {
        "colab": {
          "base_uri": "https://localhost:8080/"
        },
        "id": "VGG8hcG1ymRy",
        "outputId": "36624609-fbc6-4498-a3ff-00c7f02dd9fc"
      },
      "execution_count": null,
      "outputs": [
        {
          "output_type": "stream",
          "name": "stdout",
          "text": [
            "total 12\n",
            "drwx------ 2 root root 4096 Dec 27 10:20 new_folder\n",
            "-rw------- 1 root root    0 Dec 27 10:18 new.txt\n",
            "drwx------ 2 root root 4096 Dec 27 04:34 train\n",
            "drwx------ 2 root root 4096 Dec 27 04:37 val\n"
          ]
        }
      ]
    },
    {
      "cell_type": "markdown",
      "source": [
        "Basic Pytorch"
      ],
      "metadata": {
        "id": "QpTaNB-Jy0SN"
      }
    },
    {
      "cell_type": "code",
      "source": [
        "import torch"
      ],
      "metadata": {
        "id": "yKiqtxBNy74y"
      },
      "execution_count": null,
      "outputs": []
    },
    {
      "cell_type": "code",
      "source": [
        "##PyTorch is an open-source deep learning framework that’s known for its flexibility and ease-of-use.\n",
        "##This is enabled in part by its compatibility with the popular Python high-level programming language favored by machine learning developers and data scientists."
      ],
      "metadata": {
        "id": "W2Uly4D4y-Z1"
      },
      "execution_count": null,
      "outputs": []
    },
    {
      "cell_type": "markdown",
      "source": [
        "Question3"
      ],
      "metadata": {
        "id": "SoIEZZQtzN48"
      }
    },
    {
      "cell_type": "code",
      "source": [
        "matrix1 = torch.tensor([[1., 2.], [3., 4.]])\n",
        "print(matrix1)"
      ],
      "metadata": {
        "colab": {
          "base_uri": "https://localhost:8080/"
        },
        "id": "moC1dIV2yyoV",
        "outputId": "33b533d5-1d11-4f3c-9304-291dd1ed91a8"
      },
      "execution_count": null,
      "outputs": [
        {
          "output_type": "stream",
          "name": "stdout",
          "text": [
            "tensor([[1., 2.],\n",
            "        [3., 4.]])\n"
          ]
        }
      ]
    },
    {
      "cell_type": "code",
      "source": [
        "matrix2 = torch.tensor([[5., 6.], [7., 8.]])\n",
        "print(matrix2)"
      ],
      "metadata": {
        "colab": {
          "base_uri": "https://localhost:8080/"
        },
        "id": "5KrIM-mMzTS0",
        "outputId": "ad72a4fb-22c2-4306-b0ea-eefdcef517a2"
      },
      "execution_count": null,
      "outputs": [
        {
          "output_type": "stream",
          "name": "stdout",
          "text": [
            "tensor([[5., 6.],\n",
            "        [7., 8.]])\n"
          ]
        }
      ]
    },
    {
      "cell_type": "code",
      "source": [
        "torch.linalg.matrix_norm(torch.div(matrix1, matrix2))"
      ],
      "metadata": {
        "colab": {
          "base_uri": "https://localhost:8080/"
        },
        "id": "JoOknW5T07O1",
        "outputId": "4b2c9776-100e-49cf-93e7-d58bd54f7b6d"
      },
      "execution_count": null,
      "outputs": [
        {
          "output_type": "execute_result",
          "data": {
            "text/plain": [
              "tensor(0.7647)"
            ]
          },
          "metadata": {},
          "execution_count": 15
        }
      ]
    },
    {
      "cell_type": "code",
      "source": [
        "torch.linalg.matrix_norm(matrix1)"
      ],
      "metadata": {
        "colab": {
          "base_uri": "https://localhost:8080/"
        },
        "id": "LbA3-A2FzXeR",
        "outputId": "9f124d89-69d9-4bce-c7b1-5ee2df5d4f3b"
      },
      "execution_count": null,
      "outputs": [
        {
          "output_type": "execute_result",
          "data": {
            "text/plain": [
              "tensor(5.4772)"
            ]
          },
          "metadata": {},
          "execution_count": 12
        }
      ]
    },
    {
      "cell_type": "code",
      "execution_count": null,
      "metadata": {
        "colab": {
          "base_uri": "https://localhost:8080/"
        },
        "id": "-GovmSHGkE3a",
        "outputId": "abdf388b-7a83-43db-aa6d-d9c1028e0f78"
      },
      "outputs": [
        {
          "output_type": "execute_result",
          "data": {
            "text/plain": [
              "tensor(13.1909)"
            ]
          },
          "metadata": {},
          "execution_count": 36
        }
      ],
      "source": [
        "torch.linalg.matrix_norm(matrix2)"
      ]
    },
    {
      "cell_type": "markdown",
      "source": [
        "Question4"
      ],
      "metadata": {
        "id": "-dlUffNuzim0"
      }
    },
    {
      "cell_type": "code",
      "source": [
        "import numpy as np\n",
        "import matplotlib.pyplot as plt\n",
        "\n",
        "import torch\n",
        "import torch.nn as nn\n",
        "import torch.nn.functional as F\n",
        "from torchvision import transforms, datasets"
      ],
      "metadata": {
        "id": "Clech7j4tPjx"
      },
      "execution_count": null,
      "outputs": []
    },
    {
      "cell_type": "code",
      "source": [
        "#딥러닝 모델 설계할 때 활용하는 장비 확인\n",
        "if torch.cuda.is_available():\n",
        "    DEVICE = torch.device('cuda')\n",
        "else:\n",
        "    DEVICE = torch.device('cpu')\n",
        "\n",
        "print('Using PyTorch version:', torch.__version__, ' Device:', DEVICE)\n",
        "#Pytorch 코드가 자동적으로 사용 가능한 하드웨어에 적응\n",
        "#GPU가 가능하면 GPU, 그렇지 않으면 CPU를 사용"
      ],
      "metadata": {
        "colab": {
          "base_uri": "https://localhost:8080/"
        },
        "id": "hkJZm2Bhtk8x",
        "outputId": "945cab80-8cb7-4ebc-dfbc-de1f23ba7f95"
      },
      "execution_count": null,
      "outputs": [
        {
          "output_type": "stream",
          "name": "stdout",
          "text": [
            "Using PyTorch version: 2.1.0+cu121  Device: cuda\n"
          ]
        }
      ]
    },
    {
      "cell_type": "code",
      "source": [
        "BATCH_SIZE = 32\n",
        "#머신러닝 모델의 학습 중 한 번에 처리되는 데이터 샘플의 수\n",
        "EPOCHS = 10\n",
        "#학습 중에 전체 데이터셋이 처리되는 횟수"
      ],
      "metadata": {
        "id": "R5XJPzeAzYd1"
      },
      "execution_count": null,
      "outputs": []
    },
    {
      "cell_type": "code",
      "source": [
        "#MNIST 데이터셋을 학습용으로 다운로드하고 불러오기\n",
        "train_dataset = datasets.MNIST(root = \"../data/MNIST\",\n",
        "                               train = True,\n",
        "                               download = True,\n",
        "                               transform = transforms.ToTensor())\n",
        "#MNIST 데이터셋을 테스트용으로 불러오기\n",
        "test_dataset = datasets.MNIST(root = \"../data/MNIST\",\n",
        "                              train = False,\n",
        "                              transform = transforms.ToTensor())\n",
        "#학습 데이터를 미니배치로 나누기 위한 DataLoader 설정\n",
        "train_loader = torch.utils.data.DataLoader(dataset = train_dataset,\n",
        "                                           batch_size = BATCH_SIZE,\n",
        "                                           shuffle = True)\n",
        "#테스트 데이터를 미니배치로 나누기 위한 DataLoader 설정\n",
        "test_loader = torch.utils.data.DataLoader(dataset = test_dataset,\n",
        "                                          batch_size = BATCH_SIZE,\n",
        "                                          shuffle = False)"
      ],
      "metadata": {
        "id": "o8an-9s824-i"
      },
      "execution_count": null,
      "outputs": []
    },
    {
      "cell_type": "code",
      "source": [
        "##The MNIST database (Modified National Institute of Standards and Technology database) is a large database of handwritten digits that is commonly used for training various image processing systems."
      ],
      "metadata": {
        "id": "FiSh-4AE6wpG"
      },
      "execution_count": null,
      "outputs": []
    },
    {
      "cell_type": "code",
      "source": [
        "for (X_train, y_train) in train_loader:\n",
        "  #첫 번째 미니배치를 가져와서 각 구성 요소의 크기와 유형 출력\n",
        "    print('X_train:', X_train.size(), 'type:', X_train.type())\n",
        "    print('y_train:', y_train.size(), 'type:', y_train.type())\n",
        "    break"
      ],
      "metadata": {
        "colab": {
          "base_uri": "https://localhost:8080/"
        },
        "id": "Fd240i2b4DGZ",
        "outputId": "feae62a4-f72c-4dc1-a529-423e54e0f299"
      },
      "execution_count": null,
      "outputs": [
        {
          "output_type": "stream",
          "name": "stdout",
          "text": [
            "X_train: torch.Size([32, 1, 28, 28]) type: torch.FloatTensor\n",
            "y_train: torch.Size([32]) type: torch.LongTensor\n"
          ]
        }
      ]
    },
    {
      "cell_type": "code",
      "source": [
        "#이미지를 표시할 크기 설정\n",
        "pltsize = 1\n",
        "plt.figure(figsize=(10 * pltsize, pltsize))\n",
        "#처음 10개의 이미지를 시각화\n",
        "for i in range(10):\n",
        "  #1행 10열의 서브플롯 중 현재 서브플롯 선택\n",
        "    plt.subplot(1, 10, i + 1)\n",
        "    #축 제거\n",
        "    plt.axis('off')\n",
        "    #이미지를 NumPy 배열로 변환하고 28x28 크기로 재구성하여 회색조로 표시\n",
        "    plt.imshow(X_train[i, :, :, :].numpy().reshape(28, 28), cmap = \"gray_r\")\n",
        "    #이미지에 해당하는 클래스(레이블)를 제목으로 표\n",
        "    plt.title('Class: ' + str(y_train[i].item()))"
      ],
      "metadata": {
        "colab": {
          "base_uri": "https://localhost:8080/",
          "height": 125
        },
        "id": "dKhjys-C4aT4",
        "outputId": "580ed899-7332-42a1-d7cc-ddd1442cfb1e"
      },
      "execution_count": null,
      "outputs": [
        {
          "output_type": "display_data",
          "data": {
            "text/plain": [
              "<Figure size 1000x100 with 10 Axes>"
            ],
            "image/png": "[encoded data removed]"
          },
          "metadata": {}
        }
      ]
    },
    {
      "cell_type": "code",
      "source": [
        "class Net(nn.Module):\n",
        "    def __init__(self):\n",
        "        super(Net, self).__init__()\n",
        "        self.fc1 = nn.Linear(28 * 28, 512)\n",
        "        self.fc2 = nn.Linear(512, 256)\n",
        "        self.fc3 = nn.Linear(256, 10)\n",
        "\n",
        "    def forward(self, x):\n",
        "      #입력 데이터를 2D 텐서로 변환\n",
        "        x = x.view(-1, 28 * 28)\n",
        "        #첫 번째 fully connected layer 적용\n",
        "        x = self.fc1(x)\n",
        "        x = F.sigmoid(x) #활성화 함수로 시그모이드 사용\n",
        "          #두 번째 fully connected layer 적용\n",
        "        x = self.fc2(x)\n",
        "        x = F.sigmoid(x) #활성화 함수로 시그모이드 사용\n",
        "        #세 번째 fully connected layer 적용\n",
        "        x = self.fc3(x)\n",
        "        #로그 소프트맥스 활성화 함수 적용\n",
        "        x = F.log_softmax(x, dim = 1)\n",
        "        return x"
      ],
      "metadata": {
        "id": "wK6VZK5R40Wg"
      },
      "execution_count": null,
      "outputs": []
    },
    {
      "cell_type": "code",
      "source": [
        "#Net 클래스로 모델 생성하고 해당 장치로 이동\n",
        "model = Net().to(DEVICE)\n",
        "#SGD을 사용한 최적화기 설정\n",
        "optimizer = torch.optim.SGD(model.parameters(), lr = 0.01, momentum = 0.5)\n",
        "#CrossEntropyLoss 함수 설정\n",
        "criterion = nn.CrossEntropyLoss()\n",
        "\n",
        "#생성한 모델의 구조 출력\n",
        "print(model)"
      ],
      "metadata": {
        "colab": {
          "base_uri": "https://localhost:8080/"
        },
        "id": "cTh_qc0V5fRU",
        "outputId": "45c4c493-ed73-492d-e325-da4070c16c8a"
      },
      "execution_count": null,
      "outputs": [
        {
          "output_type": "stream",
          "name": "stdout",
          "text": [
            "Net(\n",
            "  (fc1): Linear(in_features=784, out_features=512, bias=True)\n",
            "  (fc2): Linear(in_features=512, out_features=256, bias=True)\n",
            "  (fc3): Linear(in_features=256, out_features=10, bias=True)\n",
            ")\n"
          ]
        }
      ]
    },
    {
      "cell_type": "code",
      "source": [
        "def train(model, train_loader, optimizer, log_interval):\n",
        "    #모델을 학습모드로 전환\n",
        "    model.train()\n",
        "    #훈련 데이터 로더에서 미니배치를 가져와 학습 진행\n",
        "    for batch_idx, (image, label) in enumerate(train_loader):\n",
        "        #미니배치를 지정된 장치로 이동\n",
        "        image = image.to(DEVICE)\n",
        "        label = label.to(DEVICE)\n",
        "        #기울기 초기화\n",
        "        optimizer.zero_grad()\n",
        "        #순전파 수행\n",
        "        output = model(image)\n",
        "        #손실 계산\n",
        "        loss = criterion(output, label)\n",
        "        #역전파 수행\n",
        "        loss.backward()\n",
        "        #최적화 수행\n",
        "        optimizer.step()\n",
        "\n",
        "        #일정 간격마다 로그 출력\n",
        "        if batch_idx % log_interval == 0:\n",
        "            print(\"Train Epoch: {} [{}/{} ({:.0f}%)]\\tTrain Loss: {:.6f}\".format(\n",
        "                epoch, batch_idx * len(image),\n",
        "                len(train_loader.dataset), 100. * batch_idx / len(train_loader),\n",
        "                loss.item()))"
      ],
      "metadata": {
        "id": "dwD35zOL52tP"
      },
      "execution_count": null,
      "outputs": []
    },
    {
      "cell_type": "code",
      "source": [
        "def evaluate(model, test_loader):\n",
        "    # 모델을 평가 모드로 전환\n",
        "    model.eval()\n",
        "    # 테스트 손실 및 정확도 초기화\n",
        "    test_loss = 0\n",
        "    correct = 0\n",
        "\n",
        "    # 그래디언트 계산 비활성화 (평가 과정에서는 필요하지 않음)\n",
        "    with torch.no_grad():\n",
        "        # 테스트 데이터 로더에서 미니배치를 가져와서 평가 진행\n",
        "        for image, label in test_loader:\n",
        "            image = image.to(DEVICE)\n",
        "            label = label.to(DEVICE)\n",
        "            # 모델에 입력을 전달하여 출력을 얻음\n",
        "            output = model(image)\n",
        "            # 손실을 누적\n",
        "            test_loss += criterion(output, label).item()\n",
        "            # 예측값 계산\n",
        "            prediction = output.max(1, keepdim = True)[1]\n",
        "            # 정확하게 예측한 개수를 누적\n",
        "            correct += prediction.eq(label.view_as(prediction)).sum().item()\n",
        "\n",
        "     # 테스트 손실을 미니배치 수로 나누어 평균 계산\n",
        "    test_loss /= (len(test_loader.dataset) / BATCH_SIZE)\n",
        "    # 정확도 계산\n",
        "    test_accuracy = 100. * correct / len(test_loader.dataset)\n",
        "    # 평가 결과 반환\n",
        "    return test_loss, test_accuracy"
      ],
      "metadata": {
        "id": "SnWF5UkF6gh_"
      },
      "execution_count": null,
      "outputs": []
    },
    {
      "cell_type": "code",
      "source": [
        "# 주어진 epoch 횟수동안 반복\n",
        "for epoch in range(1, EPOCHS + 1):\n",
        "    # 훈련 함수 호출 (모델 학습)\n",
        "    train(model, train_loader, optimizer, log_interval = 200)\n",
        "    # 테스트 함수 호출 (모델 평가)\n",
        "    test_loss, test_accuracy = evaluate(model, test_loader)\n",
        "    # 현재 에포크의 테스트 결과 출력\n",
        "    print(\"\\n[EPOCH: {}], \\tTest Loss: {:.4f}, \\tTest Accuracy: {:.2f} % \\n\".format(\n",
        "        epoch, test_loss, test_accuracy))"
      ],
      "metadata": {
        "colab": {
          "base_uri": "https://localhost:8080/"
        },
        "id": "pDSdiX_x7f1F",
        "outputId": "a916b054-1a77-4707-c95b-c95881f8630a"
      },
      "execution_count": null,
      "outputs": [
        {
          "output_type": "stream",
          "name": "stdout",
          "text": [
            "Train Epoch: 1 [0/60000 (0%)]\tTrain Loss: 2.328945\n",
            "Train Epoch: 1 [6400/60000 (11%)]\tTrain Loss: 2.335958\n",
            "Train Epoch: 1 [12800/60000 (21%)]\tTrain Loss: 2.306532\n",
            "Train Epoch: 1 [19200/60000 (32%)]\tTrain Loss: 2.314205\n",
            "Train Epoch: 1 [25600/60000 (43%)]\tTrain Loss: 2.295646\n",
            "Train Epoch: 1 [32000/60000 (53%)]\tTrain Loss: 2.268250\n",
            "Train Epoch: 1 [38400/60000 (64%)]\tTrain Loss: 2.308105\n",
            "Train Epoch: 1 [44800/60000 (75%)]\tTrain Loss: 2.318118\n",
            "Train Epoch: 1 [51200/60000 (85%)]\tTrain Loss: 2.296544\n",
            "Train Epoch: 1 [57600/60000 (96%)]\tTrain Loss: 2.260098\n",
            "\n",
            "[EPOCH: 1], \tTest Loss: 2.2404, \tTest Accuracy: 22.36 % \n",
            "\n",
            "Train Epoch: 2 [0/60000 (0%)]\tTrain Loss: 2.218839\n",
            "Train Epoch: 2 [6400/60000 (11%)]\tTrain Loss: 2.195551\n",
            "Train Epoch: 2 [12800/60000 (21%)]\tTrain Loss: 2.165701\n",
            "Train Epoch: 2 [19200/60000 (32%)]\tTrain Loss: 2.161370\n",
            "Train Epoch: 2 [25600/60000 (43%)]\tTrain Loss: 2.092160\n",
            "Train Epoch: 2 [32000/60000 (53%)]\tTrain Loss: 1.883093\n",
            "Train Epoch: 2 [38400/60000 (64%)]\tTrain Loss: 1.838867\n",
            "Train Epoch: 2 [44800/60000 (75%)]\tTrain Loss: 1.513960\n",
            "Train Epoch: 2 [51200/60000 (85%)]\tTrain Loss: 1.556298\n",
            "Train Epoch: 2 [57600/60000 (96%)]\tTrain Loss: 1.169093\n",
            "\n",
            "[EPOCH: 2], \tTest Loss: 1.2881, \tTest Accuracy: 62.99 % \n",
            "\n",
            "Train Epoch: 3 [0/60000 (0%)]\tTrain Loss: 1.363376\n",
            "Train Epoch: 3 [6400/60000 (11%)]\tTrain Loss: 1.231025\n",
            "Train Epoch: 3 [12800/60000 (21%)]\tTrain Loss: 1.042185\n",
            "Train Epoch: 3 [19200/60000 (32%)]\tTrain Loss: 1.472391\n",
            "Train Epoch: 3 [25600/60000 (43%)]\tTrain Loss: 1.107506\n",
            "Train Epoch: 3 [32000/60000 (53%)]\tTrain Loss: 0.941423\n",
            "Train Epoch: 3 [38400/60000 (64%)]\tTrain Loss: 0.827550\n",
            "Train Epoch: 3 [44800/60000 (75%)]\tTrain Loss: 1.148023\n",
            "Train Epoch: 3 [51200/60000 (85%)]\tTrain Loss: 0.897881\n",
            "Train Epoch: 3 [57600/60000 (96%)]\tTrain Loss: 0.838288\n",
            "\n",
            "[EPOCH: 3], \tTest Loss: 0.7512, \tTest Accuracy: 76.71 % \n",
            "\n",
            "Train Epoch: 4 [0/60000 (0%)]\tTrain Loss: 0.728793\n",
            "Train Epoch: 4 [6400/60000 (11%)]\tTrain Loss: 0.722043\n",
            "Train Epoch: 4 [12800/60000 (21%)]\tTrain Loss: 0.619635\n",
            "Train Epoch: 4 [19200/60000 (32%)]\tTrain Loss: 0.911428\n",
            "Train Epoch: 4 [25600/60000 (43%)]\tTrain Loss: 1.032220\n",
            "Train Epoch: 4 [32000/60000 (53%)]\tTrain Loss: 0.466904\n",
            "Train Epoch: 4 [38400/60000 (64%)]\tTrain Loss: 0.843514\n",
            "Train Epoch: 4 [44800/60000 (75%)]\tTrain Loss: 0.755127\n",
            "Train Epoch: 4 [51200/60000 (85%)]\tTrain Loss: 0.525442\n",
            "Train Epoch: 4 [57600/60000 (96%)]\tTrain Loss: 0.525828\n",
            "\n",
            "[EPOCH: 4], \tTest Loss: 0.5602, \tTest Accuracy: 83.14 % \n",
            "\n",
            "Train Epoch: 5 [0/60000 (0%)]\tTrain Loss: 1.009252\n",
            "Train Epoch: 5 [6400/60000 (11%)]\tTrain Loss: 0.370701\n",
            "Train Epoch: 5 [12800/60000 (21%)]\tTrain Loss: 0.747632\n",
            "Train Epoch: 5 [19200/60000 (32%)]\tTrain Loss: 0.328811\n",
            "Train Epoch: 5 [25600/60000 (43%)]\tTrain Loss: 0.599138\n",
            "Train Epoch: 5 [32000/60000 (53%)]\tTrain Loss: 0.553664\n",
            "Train Epoch: 5 [38400/60000 (64%)]\tTrain Loss: 0.556390\n",
            "Train Epoch: 5 [44800/60000 (75%)]\tTrain Loss: 0.371227\n",
            "Train Epoch: 5 [51200/60000 (85%)]\tTrain Loss: 0.237176\n",
            "Train Epoch: 5 [57600/60000 (96%)]\tTrain Loss: 0.406976\n",
            "\n",
            "[EPOCH: 5], \tTest Loss: 0.4676, \tTest Accuracy: 86.25 % \n",
            "\n",
            "Train Epoch: 6 [0/60000 (0%)]\tTrain Loss: 0.766294\n",
            "Train Epoch: 6 [6400/60000 (11%)]\tTrain Loss: 0.564356\n",
            "Train Epoch: 6 [12800/60000 (21%)]\tTrain Loss: 0.381537\n",
            "Train Epoch: 6 [19200/60000 (32%)]\tTrain Loss: 0.376531\n",
            "Train Epoch: 6 [25600/60000 (43%)]\tTrain Loss: 0.396829\n",
            "Train Epoch: 6 [32000/60000 (53%)]\tTrain Loss: 0.218742\n",
            "Train Epoch: 6 [38400/60000 (64%)]\tTrain Loss: 0.524554\n",
            "Train Epoch: 6 [44800/60000 (75%)]\tTrain Loss: 0.446404\n",
            "Train Epoch: 6 [51200/60000 (85%)]\tTrain Loss: 0.377762\n",
            "Train Epoch: 6 [57600/60000 (96%)]\tTrain Loss: 0.379370\n",
            "\n",
            "[EPOCH: 6], \tTest Loss: 0.4156, \tTest Accuracy: 87.74 % \n",
            "\n",
            "Train Epoch: 7 [0/60000 (0%)]\tTrain Loss: 0.483720\n",
            "Train Epoch: 7 [6400/60000 (11%)]\tTrain Loss: 0.471135\n",
            "Train Epoch: 7 [12800/60000 (21%)]\tTrain Loss: 0.456577\n",
            "Train Epoch: 7 [19200/60000 (32%)]\tTrain Loss: 0.375568\n",
            "Train Epoch: 7 [25600/60000 (43%)]\tTrain Loss: 0.421316\n",
            "Train Epoch: 7 [32000/60000 (53%)]\tTrain Loss: 0.511155\n",
            "Train Epoch: 7 [38400/60000 (64%)]\tTrain Loss: 0.435569\n",
            "Train Epoch: 7 [44800/60000 (75%)]\tTrain Loss: 0.378542\n",
            "Train Epoch: 7 [51200/60000 (85%)]\tTrain Loss: 0.616274\n",
            "Train Epoch: 7 [57600/60000 (96%)]\tTrain Loss: 0.207445\n",
            "\n",
            "[EPOCH: 7], \tTest Loss: 0.3825, \tTest Accuracy: 88.86 % \n",
            "\n",
            "Train Epoch: 8 [0/60000 (0%)]\tTrain Loss: 0.310497\n",
            "Train Epoch: 8 [6400/60000 (11%)]\tTrain Loss: 0.408649\n",
            "Train Epoch: 8 [12800/60000 (21%)]\tTrain Loss: 0.431798\n",
            "Train Epoch: 8 [19200/60000 (32%)]\tTrain Loss: 0.721941\n",
            "Train Epoch: 8 [25600/60000 (43%)]\tTrain Loss: 0.216853\n",
            "Train Epoch: 8 [32000/60000 (53%)]\tTrain Loss: 0.476175\n",
            "Train Epoch: 8 [38400/60000 (64%)]\tTrain Loss: 0.498219\n",
            "Train Epoch: 8 [44800/60000 (75%)]\tTrain Loss: 0.330616\n",
            "Train Epoch: 8 [51200/60000 (85%)]\tTrain Loss: 0.256117\n",
            "Train Epoch: 8 [57600/60000 (96%)]\tTrain Loss: 0.193984\n",
            "\n",
            "[EPOCH: 8], \tTest Loss: 0.3663, \tTest Accuracy: 89.14 % \n",
            "\n",
            "Train Epoch: 9 [0/60000 (0%)]\tTrain Loss: 0.688579\n",
            "Train Epoch: 9 [6400/60000 (11%)]\tTrain Loss: 0.328516\n",
            "Train Epoch: 9 [12800/60000 (21%)]\tTrain Loss: 0.171389\n",
            "Train Epoch: 9 [19200/60000 (32%)]\tTrain Loss: 0.398728\n",
            "Train Epoch: 9 [25600/60000 (43%)]\tTrain Loss: 0.256415\n",
            "Train Epoch: 9 [32000/60000 (53%)]\tTrain Loss: 0.332724\n",
            "Train Epoch: 9 [38400/60000 (64%)]\tTrain Loss: 0.154967\n",
            "Train Epoch: 9 [44800/60000 (75%)]\tTrain Loss: 0.246889\n",
            "Train Epoch: 9 [51200/60000 (85%)]\tTrain Loss: 0.246254\n",
            "Train Epoch: 9 [57600/60000 (96%)]\tTrain Loss: 0.722091\n",
            "\n",
            "[EPOCH: 9], \tTest Loss: 0.3556, \tTest Accuracy: 89.79 % \n",
            "\n",
            "Train Epoch: 10 [0/60000 (0%)]\tTrain Loss: 0.661948\n",
            "Train Epoch: 10 [6400/60000 (11%)]\tTrain Loss: 0.236420\n",
            "Train Epoch: 10 [12800/60000 (21%)]\tTrain Loss: 0.400184\n",
            "Train Epoch: 10 [19200/60000 (32%)]\tTrain Loss: 0.362194\n",
            "Train Epoch: 10 [25600/60000 (43%)]\tTrain Loss: 0.138146\n",
            "Train Epoch: 10 [32000/60000 (53%)]\tTrain Loss: 0.264756\n",
            "Train Epoch: 10 [38400/60000 (64%)]\tTrain Loss: 0.424778\n",
            "Train Epoch: 10 [44800/60000 (75%)]\tTrain Loss: 0.568114\n",
            "Train Epoch: 10 [51200/60000 (85%)]\tTrain Loss: 0.237886\n",
            "Train Epoch: 10 [57600/60000 (96%)]\tTrain Loss: 0.369099\n",
            "\n",
            "[EPOCH: 10], \tTest Loss: 0.3358, \tTest Accuracy: 90.31 % \n",
            "\n"
          ]
        }
      ]
    }
  ],
  "metadata": {
    "accelerator": "GPU",
    "colab": {
      "provenance": [],
      "gpuType": "T4"
    },
    "kernelspec": {
      "display_name": "Python 3",
      "name": "python3"
    },
    "language_info": {
      "name": "python"
    }
  },
  "nbformat": 4,
  "nbformat_minor": 0
}