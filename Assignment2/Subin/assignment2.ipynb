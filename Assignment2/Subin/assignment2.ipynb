{
  "nbformat": 4,
  "nbformat_minor": 0,
  "metadata": {
    "colab": {
      "provenance": []
    },
    "kernelspec": {
      "name": "python3",
      "display_name": "Python 3"
    },
    "language_info": {
      "name": "python"
    }
  },
  "cells": [
    {
      "cell_type": "markdown",
      "source": [
        "## 1. Gradient Descent\n",
        "\n",
        "\n",
        "\n"
      ],
      "metadata": {
        "id": "qM2kM5G7BYZr"
      }
    },
    {
      "cell_type": "code",
      "source": [
        "## Quick Question\n",
        "\n",
        "## What is numpy and matplotlib?\n",
        "## Google it and write the answer\n",
        "\n",
        "##"
      ],
      "metadata": {
        "id": "5kLHcDO9p1aR"
      },
      "execution_count": null,
      "outputs": []
    },
    {
      "cell_type": "markdown",
      "source": [
        " Numpy is a Python library for efficient numerical calculation. Numpy offers various mathematical functions, random number generators, linear algebra routines, Fourier transforms, and more to deal with n-dimensional arrays and matrices.\n",
        "\n",
        "\n",
        "Matplotlib is a plotting library for the Python. Matplotlib can create high quality static, animated, and interactive visualizations."
      ],
      "metadata": {
        "id": "Xjg6MJPnudpy"
      }
    },
    {
      "cell_type": "code",
      "source": [
        "## Quick Question\n",
        "## (1) Write a name of the loss function above. HInt: _ _ _ Loss\n",
        "\n",
        "## (2) Is it okay to use 'error = (y_hat-y)' or 'error = np.abs(y_hat-y)'?\n",
        "## Write your own answer and justify your choice.\n",
        "\n",
        "## Your Answer\n"
      ],
      "metadata": {
        "id": "gnrgm6tDrH5P"
      },
      "execution_count": null,
      "outputs": []
    },
    {
      "cell_type": "markdown",
      "source": [
        "(1) MSE Loss functions\n",
        "\n",
        "(2)If the first method is used, the error value can be both positive and negative. Then, even though there is a large error when calculating loss, it can be said that loss is 0. Therefore, this big problem can occur when using the first method. In the case of the second method, since the absolute value is used, loss is not zero if an error exists. It is also easy to understand intuitively because it reflects the size of the error as it is. Therefore, it is okay to use it as an error."
      ],
      "metadata": {
        "id": "9ZFiTg9wE6zx"
      }
    },
    {
      "cell_type": "code",
      "source": [
        "# Epoch (# of iterations)\n",
        "num_epoch = 5000\n",
        "\n",
        "# Learning rate\n",
        "learning_rate = 0.5"
      ],
      "metadata": {
        "id": "0BgVCwvDvoUy"
      },
      "execution_count": null,
      "outputs": []
    },
    {
      "cell_type": "code",
      "source": [
        "## Quick Question\n",
        "## (1) What is epoch? Google it and write your own answer in detail.\n",
        "## (2) What is learning rate? Google in and write your own answer.\n",
        "\n",
        "## Your Answer\n",
        "## (1)\n",
        "\n",
        "## (2)"
      ],
      "metadata": {
        "id": "Xa9XPeTzwnzX"
      },
      "execution_count": null,
      "outputs": []
    },
    {
      "cell_type": "markdown",
      "source": [
        "(1) Epoch is refers to training using the entire detier set. Therefore, the epoch number refers to the number of times training is performed using the entire data set.\n",
        "\n",
        "(2) Learning rate is a hyperparameter that determines the step size in each iteration. The learning rate must be carefully determined because if it is too small, it can take a long time or just move near the local minimum. Also, if it is too large, the rate of change may be too large to find the global minimum.\n"
      ],
      "metadata": {
        "id": "VBZDw3hxHNL6"
      }
    },
    {
      "cell_type": "code",
      "source": [
        "## Question 1\n",
        "errors = []  # error 값을 저장하기 위한 empty 리스트를 정의\n",
        "# w, b: random initialization -- result may vary each time you execute the code\n",
        "w = np.random.uniform(low=-1.0, high=1.0)  # w값을 -1.0과 1.0 사이의 random value로 설정\n",
        "b = np.random.uniform(low=-1.0, high=1.0)  # b값을 -1.0과 1.0 사이의 random value로 설정\n",
        "\n",
        "for epoch in range(num_epoch):\n",
        "    y_hat = x * w + b # number of epoch 만큼 학습하는 동안의 y_hat함수 설정\n",
        "\n",
        "    error = ((y_hat - y)**2).mean()  # MSE Loss functions 사용\n",
        "    if error < 0.0005:\n",
        "        break  # error가 0.0005보다 작을 경우 학습 종료\n",
        "\n",
        "    w = w - learning_rate * ((y_hat - y) * x).mean()  # error를 최소화하기 위해서 w값을 업데이트\n",
        "    b = b - learning_rate * (y_hat - y).mean()  # error를 최소화하기 위해서 b값을 업데이트\n",
        "\n",
        "    errors.append(error)  # 현재의 error값을 errors에 추가\n",
        "\n",
        "    if epoch % 5 == 0:\n",
        "      print(\"{0:2} w = {1:.5f}, b = {2:.5f} error = {3:.5f}\".format(epoch, w, b, error))\n",
        "      # 5번의 epoch마다 (5번의 전체 데이터 학습마다) w값과 b값을 출력\n",
        "\n",
        "print(\"----\" * 15)\n",
        "print(\"{0:2} w = {1:.1f}, b = {2:.1f} error = {3:.5f}\".format(epoch, w, b, error))\n",
        "# (epoch, w, b, error)형식의 출력값"
      ],
      "metadata": {
        "colab": {
          "base_uri": "https://localhost:8080/"
        },
        "id": "OzRFkcI2vx0D",
        "outputId": "61c39cfd-cd7d-427c-b240-db4a6cf5ce07"
      },
      "execution_count": null,
      "outputs": [
        {
          "output_type": "stream",
          "name": "stdout",
          "text": [
            " 0 w = 0.82639, b = 0.08091 error = 0.19109\n",
            " 5 w = 0.78813, b = 0.25041 error = 0.02374\n",
            "10 w = 0.70617, b = 0.29349 error = 0.01647\n",
            "15 w = 0.63757, b = 0.32858 error = 0.01143\n",
            "20 w = 0.58047, b = 0.35778 error = 0.00795\n",
            "25 w = 0.53295, b = 0.38208 error = 0.00553\n",
            "30 w = 0.49340, b = 0.40231 error = 0.00386\n",
            "35 w = 0.46048, b = 0.41914 error = 0.00270\n",
            "40 w = 0.43309, b = 0.43315 error = 0.00190\n",
            "45 w = 0.41028, b = 0.44481 error = 0.00134\n",
            "50 w = 0.39131, b = 0.45451 error = 0.00096\n",
            "55 w = 0.37551, b = 0.46259 error = 0.00069\n",
            "60 w = 0.36237, b = 0.46931 error = 0.00050\n",
            "------------------------------------------------------------\n",
            "61 w = 0.4, b = 0.5 error = 0.00048\n"
          ]
        }
      ]
    },
    {
      "cell_type": "markdown",
      "source": [
        "### Question 1. Please write a line-by-line explanation of the code above.\n",
        "\n",
        "\n",
        "*   Use '#' for Python!\n",
        "*   ChatGPT allowed :) -- but please try to understand the code"
      ],
      "metadata": {
        "id": "JtrlgMOov47e"
      }
    },
    {
      "cell_type": "markdown",
      "source": [
        "## 2. Let's practice numpy"
      ],
      "metadata": {
        "id": "1BgQvGP205Tf"
      }
    },
    {
      "cell_type": "markdown",
      "source": [
        "### Quick Question (Optional)\n",
        "##### https://datascienceschool.net/01%20python/03.01%20%EB%84%98%ED%8C%8C%EC%9D%B4%20%EB%B0%B0%EC%97%B4.html\n",
        "##### Read and summarize the document above."
      ],
      "metadata": {
        "id": "bm4UALzP4oI1"
      }
    },
    {
      "cell_type": "markdown",
      "source": [
        "넘파이 배열은 리스트처럼 많은 데이터를 하나의 변수에 넣을 수 있다는 점에서 공통점이 있지만, 리스트와 달리 각각의 원소가 같은 자료 형태를 가져야 한다. 또한, 원소를 추가하거나 뺄 수 없다는 점에서도 차이를 가지고 있다.\n",
        "\n",
        "넘파이 배열의 연산은 다음과 같이 벡터화 연산을 통해 간단하게 계산할 수 있다."
      ],
      "metadata": {
        "id": "72t6R9H7m-1G"
      }
    },
    {
      "cell_type": "code",
      "source": [
        "data = [0, 1, 2, 3, 4, 5, 6, 7, 8, 9]\n",
        "x = np.array(data)\n",
        "x"
      ],
      "metadata": {
        "colab": {
          "base_uri": "https://localhost:8080/"
        },
        "id": "QqObEU2WoFdG",
        "outputId": "f3e0e0c5-2af7-4595-f905-87bc57d685ad"
      },
      "execution_count": 20,
      "outputs": [
        {
          "output_type": "execute_result",
          "data": {
            "text/plain": [
              "array([0, 1, 2, 3, 4, 5, 6, 7, 8, 9])"
            ]
          },
          "metadata": {},
          "execution_count": 20
        }
      ]
    },
    {
      "cell_type": "code",
      "source": [
        "2 * x"
      ],
      "metadata": {
        "colab": {
          "base_uri": "https://localhost:8080/"
        },
        "id": "Xzc8QI5UoQFD",
        "outputId": "977be544-cd92-4fed-be22-56b86f2cd294"
      },
      "execution_count": 21,
      "outputs": [
        {
          "output_type": "execute_result",
          "data": {
            "text/plain": [
              "array([ 0,  2,  4,  6,  8, 10, 12, 14, 16, 18])"
            ]
          },
          "metadata": {},
          "execution_count": 21
        }
      ]
    },
    {
      "cell_type": "markdown",
      "source": [
        "넘파이 배열은 다차원 행렬의 자료구조를 지원한다."
      ],
      "metadata": {
        "id": "VsqaFLnyoTxO"
      }
    },
    {
      "cell_type": "code",
      "source": [
        "c = np.array([[0, 1, 2], [3, 4, 5]])\n",
        "c"
      ],
      "metadata": {
        "colab": {
          "base_uri": "https://localhost:8080/"
        },
        "id": "KjEfFskdoxJo",
        "outputId": "4af881a9-88dc-4ce9-d77a-07e9d2708802"
      },
      "execution_count": 22,
      "outputs": [
        {
          "output_type": "execute_result",
          "data": {
            "text/plain": [
              "array([[0, 1, 2],\n",
              "       [3, 4, 5]])"
            ]
          },
          "metadata": {},
          "execution_count": 22
        }
      ]
    },
    {
      "cell_type": "code",
      "source": [
        "len(c), len(c[0])  # 행의 개수, 열의 개수\n"
      ],
      "metadata": {
        "colab": {
          "base_uri": "https://localhost:8080/"
        },
        "id": "FfJw01ZOo4fI",
        "outputId": "919d7ad0-e970-4d8d-d2f3-1053076d33c4"
      },
      "execution_count": 23,
      "outputs": [
        {
          "output_type": "execute_result",
          "data": {
            "text/plain": [
              "(2, 3)"
            ]
          },
          "metadata": {},
          "execution_count": 23
        }
      ]
    },
    {
      "cell_type": "markdown",
      "source": [
        "배열의 차원과 크기는 ndim(배열의 차원),shape(배열의 크기)차원을 이용해 쉽게 구할 수 있다.\n",
        "\n",
        "일차원 배열의 인덱싱은 리스트의 경우과 같다. 다차원 배열의 인덱싱의 경우에는 콤마(,)를 사용하여 접근하는데 예를 들어 a = np.array([[0, 1, 2], [3, 4, 5]])에 대해서 a[0,2] 는 a배열의 1행 3열의 데이터를 나타내고, a[1,1]은 a배열의 2행 2열의 데이터를 나타낸다. a[-1, -1]의 경우에는 마지막행 마지막열의 데이터를 나타낸다.\n",
        "\n",
        "넘파이 배열의 슬라이싱도 마찬가지로 콤마(,)를 사용하여 접근한다. 예를 들어 a = np.array([[0, 1, 2, 3], [4, 5, 6, 7]]) 라는 배열에 대해서 a[0, :]는  첫번째 행 전체를 슬라이싱한 것을 나타내고, a[:, 1]는 두번째 열 전체를 슬라이싱한 것을 나타낸다. a[:2, :2]의 경우에는 맨 앞부터 두번째 행까지, 맨 위에서부터 두번째 열까지 슬라이싱 한 것을 나타낸다.\n",
        "\n",
        "넘파이 배열은 fancy indexing이라고도 불리는 array indexing(배열 인덱싱)이 가능하다. 이 배열 인덱싱은 사실상 질의기능을 수행하는데, 이 때 대괄호를 이용하여 위치 정보를 나타내는 또 다른 배열을 얻을 수 있다. 배열 인덱싱의 방법에는 불리언(Boolean) 배열 방식과 정수 배열 방식 두가지가 있다.\n",
        "\n",
        "- 불리언(Boolean) 배열 방식 : 인덱스 배열의 원소가 True, False로만 구성된다. 인덱스 배열의 크기는 원래 주어진 배열의 크기와 같아야 한다.\n",
        "\n",
        "- 정수 배열 방식 : 인덱스 배열의 원소 각각이 원래 주어진 배열의 원소 하나를 가리키는 인덱스 정수이다. 인덱스 배열의 크기는 원래 주어진 배열의 크기와 달라도 된다."
      ],
      "metadata": {
        "id": "yVjDucM3paaM"
      }
    },
    {
      "cell_type": "code",
      "source": [
        "a = np.array([0, 1, 2, 3, 4, 5, 6, 7, 8, 9])  # 불리언 배열 방식\n",
        "idx = np.array([True, False, False, True, True,\n",
        "               False, False, False, True, True])\n",
        "a[idx]"
      ],
      "metadata": {
        "colab": {
          "base_uri": "https://localhost:8080/"
        },
        "id": "YLIJbO6JtxhQ",
        "outputId": "ea0f4be4-cc77-4d6b-c442-58671d08081e"
      },
      "execution_count": 24,
      "outputs": [
        {
          "output_type": "execute_result",
          "data": {
            "text/plain": [
              "array([0, 3, 4, 8, 9])"
            ]
          },
          "metadata": {},
          "execution_count": 24
        }
      ]
    },
    {
      "cell_type": "code",
      "source": [
        "a = np.array([0, 1, 2, 3, 4, 5, 6, 7, 8, 9])  # 정수 배열 방식\n",
        "idx = np.array([0, 2, 5, 6, 7])\n",
        "a[idx]"
      ],
      "metadata": {
        "colab": {
          "base_uri": "https://localhost:8080/"
        },
        "id": "pd99_PNft_j-",
        "outputId": "b509a82e-e724-4d38-d49f-a660e80c887b"
      },
      "execution_count": 26,
      "outputs": [
        {
          "output_type": "execute_result",
          "data": {
            "text/plain": [
              "array([0, 2, 5, 6, 7])"
            ]
          },
          "metadata": {},
          "execution_count": 26
        }
      ]
    },
    {
      "cell_type": "code",
      "source": [
        "a = np.array([0, 1, 2, 3, 4, 5, 6, 7, 8, 9])  # 정수 배열 방식, 원래 배열의 원소의 개수보다 많아도 된다.\n",
        "idx = np.array([0, 2, 5, 5, 3, 6, 7, 1, 8, 4, 0])\n",
        "a[idx]"
      ],
      "metadata": {
        "colab": {
          "base_uri": "https://localhost:8080/"
        },
        "id": "lgSKUFEQuSla",
        "outputId": "733237c2-325f-4629-a930-6f96c398a4fb"
      },
      "execution_count": 27,
      "outputs": [
        {
          "output_type": "execute_result",
          "data": {
            "text/plain": [
              "array([0, 2, 5, 5, 3, 6, 7, 1, 8, 4, 0])"
            ]
          },
          "metadata": {},
          "execution_count": 27
        }
      ]
    },
    {
      "cell_type": "markdown",
      "source": [
        "### Question 2. Sorting with numpy\n",
        "##### (1) We've just sorted the vector in increasing order. Can you sort the same vector in decreasing order?\n",
        "##### (2) Read the document for np.argsort (https://numpy.org/doc/stable/reference/generated/numpy.argsort.html). Explain the numpy argsort function and execute the code with arr_mixed."
      ],
      "metadata": {
        "id": "E3Ry6IWL7mTZ"
      }
    },
    {
      "cell_type": "code",
      "source": [
        "arr_mixed = np.array([1,5,2,3])\n",
        "print(np.sort(arr_mixed)[::-1])"
      ],
      "metadata": {
        "colab": {
          "base_uri": "https://localhost:8080/"
        },
        "id": "0pNckBeHUrO9",
        "outputId": "fdd2a0a0-2006-402d-be93-3cbb23d10aa1"
      },
      "execution_count": 7,
      "outputs": [
        {
          "output_type": "stream",
          "name": "stdout",
          "text": [
            "[5 3 2 1]\n"
          ]
        }
      ]
    },
    {
      "cell_type": "code",
      "source": [
        "# The numpy argsort function is a function that makes it possible to express an array of indices that would sort an array.\n",
        "arr_mixed = np.array([1,5,2,3])\n",
        "np.argsort(arr_mixed)\n"
      ],
      "metadata": {
        "colab": {
          "base_uri": "https://localhost:8080/"
        },
        "id": "uTpQmK1QaRfn",
        "outputId": "98e34439-e018-42b9-e214-bc03fd35f350"
      },
      "execution_count": 8,
      "outputs": [
        {
          "output_type": "execute_result",
          "data": {
            "text/plain": [
              "array([0, 2, 3, 1])"
            ]
          },
          "metadata": {},
          "execution_count": 8
        }
      ]
    },
    {
      "cell_type": "code",
      "source": [
        "## Quick Question\n",
        "## Write a code that slices arr4 from 1st entry to 4th entry. HInt: including 1st entry, excluding 5th entry\n",
        "\n",
        "## Your Answer\n",
        "\n"
      ],
      "metadata": {
        "id": "SVzDuGkH8JwF"
      },
      "execution_count": null,
      "outputs": []
    },
    {
      "cell_type": "code",
      "source": [
        "arr4 = np.array([5,2,3,4,6])\n",
        "print(arr4[0:4])"
      ],
      "metadata": {
        "colab": {
          "base_uri": "https://localhost:8080/"
        },
        "id": "CNT6SNX_cPqr",
        "outputId": "f2d32d33-0644-43f0-f161-c7f8a358b9e9"
      },
      "execution_count": 9,
      "outputs": [
        {
          "output_type": "stream",
          "name": "stdout",
          "text": [
            "[5 2 3 4]\n"
          ]
        }
      ]
    },
    {
      "cell_type": "markdown",
      "source": [
        "## 3. Let's practice matplotlib"
      ],
      "metadata": {
        "id": "RHoAQdMP1L4b"
      }
    },
    {
      "cell_type": "code",
      "source": [
        "import matplotlib.pyplot as plt\n",
        "import numpy as np\n",
        "\n",
        "np.random.seed(0)\n",
        "\n",
        "n = 20\n",
        "x = np.random.rand(n)\n",
        "y = np.random.rand(n)\n",
        "\n",
        "plt.scatter(x, y, alpha=0.5, cmap='Spectral') ## alpha? cmap?\n",
        "plt.colorbar()\n",
        "plt.show()"
      ],
      "metadata": {
        "colab": {
          "base_uri": "https://localhost:8080/",
          "height": 470
        },
        "id": "NIIzh0FR2qOH",
        "outputId": "b293d2ea-d321-425f-815c-2e31f50905c6"
      },
      "execution_count": null,
      "outputs": [
        {
          "output_type": "stream",
          "name": "stderr",
          "text": [
            "<ipython-input-30-87c4f5698552>:10: UserWarning: No data for colormapping provided via 'c'. Parameters 'cmap' will be ignored\n",
            "  plt.scatter(x, y, alpha=0.5, cmap='Spectral')\n"
          ]
        },
        {
          "output_type": "display_data",
          "data": {
            "text/plain": [
              "<Figure size 640x480 with 2 Axes>"
            ],
            "image/png": "[encoded data removed]"
          },
          "metadata": {}
        }
      ]
    },
    {
      "cell_type": "markdown",
      "source": [
        "### Question 3. Matplotlib\n",
        "##### (1) What is alpha and cmap above? Google it and write the answer.\n",
        "##### (2) Write and execute a code that has alpha=0.1. Can you see the difference?\n",
        "##### (3) Check the type of cmap and run the code that changed the type of cmap."
      ],
      "metadata": {
        "id": "xk4dFsyw24RV"
      }
    },
    {
      "cell_type": "markdown",
      "source": [
        "(1) The alpha is a parameter that sets the transparency of the plot. It alpha is 0, the plot is completely transparent, and if alpha is 1, the plot is opaque. The cmap is a parameter meanng colormap that colors the data on the plot."
      ],
      "metadata": {
        "id": "0hb8N9AZeHXR"
      }
    },
    {
      "cell_type": "code",
      "source": [
        "import matplotlib.pyplot as plt\n",
        "import numpy as np\n",
        "\n",
        "np.random.seed(0)\n",
        "\n",
        "n = 20\n",
        "x = np.random.rand(n)\n",
        "y = np.random.rand(n)\n",
        "\n",
        "plt.scatter(x, y, alpha=0.1, cmap='Spectral')\n",
        "plt.colorbar()\n",
        "plt.show()"
      ],
      "metadata": {
        "colab": {
          "base_uri": "https://localhost:8080/",
          "height": 471
        },
        "id": "s0pIYh4vh54g",
        "outputId": "56f32dc4-b8df-4fd8-c9d4-91814aad4619"
      },
      "execution_count": 10,
      "outputs": [
        {
          "output_type": "stream",
          "name": "stderr",
          "text": [
            "<ipython-input-10-d29eb0908f75>:10: UserWarning: No data for colormapping provided via 'c'. Parameters 'cmap' will be ignored\n",
            "  plt.scatter(x, y, alpha=0.1, cmap='Spectral')\n"
          ]
        },
        {
          "output_type": "display_data",
          "data": {
            "text/plain": [
              "<Figure size 640x480 with 2 Axes>"
            ],
            "image/png": "[encoded data removed]"
          },
          "metadata": {}
        }
      ]
    },
    {
      "cell_type": "markdown",
      "source": [
        "It can be seen that the points on the graph have become more transparent."
      ],
      "metadata": {
        "id": "EPHTATe1iNcN"
      }
    },
    {
      "cell_type": "code",
      "source": [
        "import matplotlib.pyplot as plt\n",
        "import numpy as np\n",
        "\n",
        "np.random.seed(0)\n",
        "\n",
        "n = 20\n",
        "x = np.random.rand(n)\n",
        "y = np.random.rand(n)\n",
        "colors = np.random.rand(n)\n",
        "\n",
        "\n",
        "\n",
        "plt.scatter(x, y, c=colors ,alpha=1, cmap='rainbow')\n",
        "plt.colorbar()\n",
        "plt.show()"
      ],
      "metadata": {
        "colab": {
          "base_uri": "https://localhost:8080/",
          "height": 430
        },
        "id": "owIzSKcailSC",
        "outputId": "1a4fe16a-3f01-447a-caba-25dea722d457"
      },
      "execution_count": 17,
      "outputs": [
        {
          "output_type": "display_data",
          "data": {
            "text/plain": [
              "<Figure size 640x480 with 2 Axes>"
            ],
            "image/png": "[encoded data removed]"
          },
          "metadata": {}
        }
      ]
    },
    {
      "cell_type": "code",
      "source": [
        "import matplotlib.pyplot as plt\n",
        "import numpy as np\n",
        "\n",
        "np.random.seed(0)\n",
        "\n",
        "n = 20\n",
        "x = np.random.rand(n)\n",
        "y = np.random.rand(n)\n",
        "colors = np.random.rand(n)\n",
        "\n",
        "\n",
        "\n",
        "plt.scatter(x, y, c=colors, alpha=1, cmap='summer')\n",
        "plt.colorbar()\n",
        "plt.show()"
      ],
      "metadata": {
        "colab": {
          "base_uri": "https://localhost:8080/",
          "height": 430
        },
        "id": "vuFRIhWkkA_C",
        "outputId": "90fd8f80-644f-4330-f302-5faf8dad058a"
      },
      "execution_count": 19,
      "outputs": [
        {
          "output_type": "display_data",
          "data": {
            "text/plain": [
              "<Figure size 640x480 with 2 Axes>"
            ],
            "image/png": "[encoded data removed]"
          },
          "metadata": {}
        }
      ]
    }
  ]
}